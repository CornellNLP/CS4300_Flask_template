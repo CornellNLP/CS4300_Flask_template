{
 "cells": [
  {
   "cell_type": "code",
   "execution_count": 9,
   "metadata": {},
   "outputs": [],
   "source": [
    "import pandas as pd\n",
    "import json\n",
    "import matplotlib.pyplot as plt\n",
    "import math"
   ]
  },
  {
   "cell_type": "code",
   "execution_count": 2,
   "metadata": {},
   "outputs": [],
   "source": [
    "stars = {}\n",
    "stars['1'] = 0\n",
    "stars['2'] = 0\n",
    "stars['3'] = 0\n",
    "stars['4'] = 0\n",
    "stars['5'] = 0"
   ]
  },
  {
   "cell_type": "code",
   "execution_count": 3,
   "metadata": {},
   "outputs": [],
   "source": [
    "dataset = []\n",
    "star = []\n",
    "with open('smallbusinessdic.json') as i_file:\n",
    "    dic = json.loads(i_file.read())\n",
    "businesses = dic['businesses']\n",
    "for bus in businesses:\n",
    "    if bus['stars'] < 2:\n",
    "        stars['1'] += 1\n",
    "    elif bus['stars'] < 3:\n",
    "        stars['2'] += 1\n",
    "    elif bus['stars'] < 4:\n",
    "        stars['3'] += 1\n",
    "    elif bus['stars'] < 5:\n",
    "        stars['4'] += 1\n",
    "    else:\n",
    "        stars['5'] += 1"
   ]
  },
  {
   "cell_type": "code",
   "execution_count": 4,
   "metadata": {},
   "outputs": [],
   "source": [
    "stars_list = []\n",
    "for st in stars:\n",
    "    stars_list.append(stars[st])"
   ]
  },
  {
   "cell_type": "code",
   "execution_count": 5,
   "metadata": {},
   "outputs": [
    {
     "name": "stdout",
     "output_type": "stream",
     "text": [
      "[2, 4, 21, 25, 3]\n"
     ]
    }
   ],
   "source": [
    "print(stars_list)"
   ]
  },
  {
   "cell_type": "code",
   "execution_count": 11,
   "metadata": {},
   "outputs": [
    {
     "name": "stdout",
     "output_type": "stream",
     "text": [
      "3.7\n"
     ]
    },
    {
     "data": {
      "text/plain": [
       "Text(0, 0.5, 'Number of businesses')"
      ]
     },
     "execution_count": 11,
     "metadata": {},
     "output_type": "execute_result"
    },
    {
     "data": {
      "image/png": "[encoded data removed]",
      "text/plain": [
       "<Figure size 432x288 with 1 Axes>"
      ]
     },
     "metadata": {
      "needs_background": "light"
     },
     "output_type": "display_data"
    }
   ],
   "source": [
    "with open('smallbusinessdic.json') as json_file:\n",
    "    data = json.load(json_file)\n",
    "star = []\n",
    "for businesses in data.values():\n",
    "    for business in businesses:\n",
    "        star.append(business['stars'])\n",
    "print(sum(star)/len(star))\n",
    "plt.hist(star)\n",
    "plt.title('Distribution of star ratings')\n",
    "plt.xlabel('Star rating')\n",
    "plt.ylabel('Number of businesses')"
   ]
  },
  {
   "cell_type": "code",
   "execution_count": 20,
   "metadata": {},
   "outputs": [
    {
     "data": {
      "text/plain": [
       "Text(0, 0.5, 'Number of businesses')"
      ]
     },
     "execution_count": 20,
     "metadata": {},
     "output_type": "execute_result"
    },
    {
     "data": {
      "image/png": "[encoded data removed]",
      "text/plain": [
       "<Figure size 432x288 with 1 Axes>"
      ]
     },
     "metadata": {
      "needs_background": "light"
     },
     "output_type": "display_data"
    }
   ],
   "source": [
    "dic = {\"1 to 9\":0, \"10 to 29\":0, \"30 to 49\":0, \"50 to 99\":0, \"100 <\":0}\n",
    "for businesses in data.values():\n",
    "    for business in businesses:\n",
    "        if business['review_count'] <=9:\n",
    "            dic[\"1 to 9\"]+= 1\n",
    "        elif business['review_count'] <=29:\n",
    "            dic[\"10 to 29\"]+= 1\n",
    "        elif business['review_count'] <=49:\n",
    "            dic[\"30 to 49\"]+= 1\n",
    "        elif business['review_count'] <=99:\n",
    "            dic[\"50 to 99\"]+= 1\n",
    "        else:\n",
    "            dic[\"100 <\"]+= 1\n",
    "labels, values = zip(*dic.items())\n",
    "plt.bar(labels, values)\n",
    "plt.title('Distribution of number of reviews')\n",
    "plt.xlabel('Number of Yelp reviews (range)')\n",
    "plt.ylabel('Number of businesses')"
   ]
  },
  {
   "cell_type": "code",
   "execution_count": null,
   "metadata": {},
   "outputs": [],
   "source": []
  }
 ],
 "metadata": {
  "kernelspec": {
   "display_name": "Python 3",
   "language": "python",
   "name": "python3"
  },
  "language_info": {
   "codemirror_mode": {
    "name": "ipython",
    "version": 3
   },
   "file_extension": ".py",
   "mimetype": "text/x-python",
   "name": "python",
   "nbconvert_exporter": "python",
   "pygments_lexer": "ipython3",
   "version": "3.7.6"
  }
 },
 "nbformat": 4,
 "nbformat_minor": 2
}
