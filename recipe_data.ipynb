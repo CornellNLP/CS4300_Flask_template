{
 "metadata": {
  "language_info": {
   "codemirror_mode": {
    "name": "ipython",
    "version": 3
   },
   "file_extension": ".py",
   "mimetype": "text/x-python",
   "name": "python",
   "nbconvert_exporter": "python",
   "pygments_lexer": "ipython3",
   "version": "3.8.5"
  },
  "orig_nbformat": 2,
  "kernelspec": {
   "name": "cs4300-env",
   "display_name": "cs4300-env",
   "language": "python"
  }
 },
 "nbformat": 4,
 "nbformat_minor": 2,
 "cells": [
  {
   "cell_type": "code",
   "execution_count": 1,
   "metadata": {},
   "outputs": [],
   "source": [
    "import pandas as pd"
   ]
  },
  {
   "cell_type": "code",
   "execution_count": 2,
   "metadata": {},
   "outputs": [
    {
     "output_type": "execute_result",
     "data": {
      "text/plain": [
       "   Unnamed: 0                                              title  \\\n",
       "0           0                         Really Easy Steak Marinade   \n",
       "1           1  Johnsonville® Three Cheese Italian Style Chick...   \n",
       "2           2          Laurielicious' Garlic Herb Focaccia Bread   \n",
       "3           3                       Double Chocolate Marble Cake   \n",
       "4           4                              Mini Lunch Box Pizzas   \n",
       "\n",
       "             authors  total time                      yields  \\\n",
       "0            jkergen        10.0  1 batch for 4 large steaks   \n",
       "1                NaN        30.0                6 serving(s)   \n",
       "2  Laurie Erlenmeyer        30.0            1 focaccia bread   \n",
       "3              Carol         NaN         1 -10 inch tube pan   \n",
       "4    Spiddysense0000        30.0              10 mini pizzas   \n",
       "\n",
       "                                         ingredients  \\\n",
       "0  ['½ cup Italian salad dressing', '¼ cup barbeq...   \n",
       "1  ['1 (12 inch) pre-baked pizza crust', '1 1/2 c...   \n",
       "2  ['3 tablespoons extra-virgin olive oil, divide...   \n",
       "3  ['6 eggs', '1 cup butter', '1 cup white sugar'...   \n",
       "4  ['¼ cup broccoli florets', '1 (10 ounce) can r...   \n",
       "\n",
       "                                        instructions  \\\n",
       "0  Stir salad dressing, barbeque sauce, garlic, s...   \n",
       "1  Top pizza crust with cheese. Bake crust accord...   \n",
       "2  Preheat oven to 475 degrees F (245 degrees C)....   \n",
       "3  Preheat oven to 325 degrees F (165 degrees C)....   \n",
       "4  Place a steamer insert into a saucepan and fil...   \n",
       "\n",
       "                                              images            host  \\\n",
       "0  https://imagesvc.meredithcorp.io/v3/mm/image?u...  allrecipes.com   \n",
       "1  https://images.media-allrecipes.com/images/795...  allrecipes.com   \n",
       "2  https://imagesvc.meredithcorp.io/v3/mm/image?u...  allrecipes.com   \n",
       "3  https://www.allrecipes.com/img/misc/og-default...  allrecipes.com   \n",
       "4  https://imagesvc.meredithcorp.io/v3/mm/image?u...  allrecipes.com   \n",
       "\n",
       "                                           nutrients  ratings  \n",
       "0                                                NaN      5.0  \n",
       "1  {'calories': '505 calories;', 'fatContent': '2...      NaN  \n",
       "2                                                NaN      5.0  \n",
       "3                                                NaN      3.0  \n",
       "4                                                NaN     -1.0  "
      ],
      "text/html": "<div>\n<style scoped>\n    .dataframe tbody tr th:only-of-type {\n        vertical-align: middle;\n    }\n\n    .dataframe tbody tr th {\n        vertical-align: top;\n    }\n\n    .dataframe thead th {\n        text-align: right;\n    }\n</style>\n<table border=\"1\" class=\"dataframe\">\n  <thead>\n    <tr style=\"text-align: right;\">\n      <th></th>\n      <th>Unnamed: 0</th>\n      <th>title</th>\n      <th>authors</th>\n      <th>total time</th>\n      <th>yields</th>\n      <th>ingredients</th>\n      <th>instructions</th>\n      <th>images</th>\n      <th>host</th>\n      <th>nutrients</th>\n      <th>ratings</th>\n    </tr>\n  </thead>\n  <tbody>\n    <tr>\n      <th>0</th>\n      <td>0</td>\n      <td>Really Easy Steak Marinade</td>\n      <td>jkergen</td>\n      <td>10.0</td>\n      <td>1 batch for 4 large steaks</td>\n      <td>['½ cup Italian salad dressing', '¼ cup barbeq...</td>\n      <td>Stir salad dressing, barbeque sauce, garlic, s...</td>\n      <td>https://imagesvc.meredithcorp.io/v3/mm/image?u...</td>\n      <td>allrecipes.com</td>\n      <td>NaN</td>\n      <td>5.0</td>\n    </tr>\n    <tr>\n      <th>1</th>\n      <td>1</td>\n      <td>Johnsonville® Three Cheese Italian Style Chick...</td>\n      <td>NaN</td>\n      <td>30.0</td>\n      <td>6 serving(s)</td>\n      <td>['1 (12 inch) pre-baked pizza crust', '1 1/2 c...</td>\n      <td>Top pizza crust with cheese. Bake crust accord...</td>\n      <td>https://images.media-allrecipes.com/images/795...</td>\n      <td>allrecipes.com</td>\n      <td>{'calories': '505 calories;', 'fatContent': '2...</td>\n      <td>NaN</td>\n    </tr>\n    <tr>\n      <th>2</th>\n      <td>2</td>\n      <td>Laurielicious' Garlic Herb Focaccia Bread</td>\n      <td>Laurie Erlenmeyer</td>\n      <td>30.0</td>\n      <td>1 focaccia bread</td>\n      <td>['3 tablespoons extra-virgin olive oil, divide...</td>\n      <td>Preheat oven to 475 degrees F (245 degrees C)....</td>\n      <td>https://imagesvc.meredithcorp.io/v3/mm/image?u...</td>\n      <td>allrecipes.com</td>\n      <td>NaN</td>\n      <td>5.0</td>\n    </tr>\n    <tr>\n      <th>3</th>\n      <td>3</td>\n      <td>Double Chocolate Marble Cake</td>\n      <td>Carol</td>\n      <td>NaN</td>\n      <td>1 -10 inch tube pan</td>\n      <td>['6 eggs', '1 cup butter', '1 cup white sugar'...</td>\n      <td>Preheat oven to 325 degrees F (165 degrees C)....</td>\n      <td>https://www.allrecipes.com/img/misc/og-default...</td>\n      <td>allrecipes.com</td>\n      <td>NaN</td>\n      <td>3.0</td>\n    </tr>\n    <tr>\n      <th>4</th>\n      <td>4</td>\n      <td>Mini Lunch Box Pizzas</td>\n      <td>Spiddysense0000</td>\n      <td>30.0</td>\n      <td>10 mini pizzas</td>\n      <td>['¼ cup broccoli florets', '1 (10 ounce) can r...</td>\n      <td>Place a steamer insert into a saucepan and fil...</td>\n      <td>https://imagesvc.meredithcorp.io/v3/mm/image?u...</td>\n      <td>allrecipes.com</td>\n      <td>NaN</td>\n      <td>-1.0</td>\n    </tr>\n  </tbody>\n</table>\n</div>"
     },
     "metadata": {},
     "execution_count": 2
    }
   ],
   "source": [
    "df = pd.read_csv(\"p02_recipes.csv\")\n",
    "df.head()"
   ]
  }
 ]
}