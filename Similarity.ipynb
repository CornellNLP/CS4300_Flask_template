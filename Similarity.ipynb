{
 "cells": [
  {
   "cell_type": "code",
   "execution_count": 6,
   "metadata": {},
   "outputs": [],
   "source": [
    "# the imports used in A2\n",
    "import re\n",
    "# import json\n",
    "from glob import glob\n",
    "import os\n",
    "from io import StringIO\n",
    "from itertools import groupby\n",
    "import pickle\n",
    "\n",
    "import numpy as np\n",
    "import bs4\n",
    "%matplotlib inline\n",
    "import matplotlib.pyplot as plt\n",
    "# Imports that might help with various functionality\n",
    "import functools\n",
    "import operator\n",
    "\n",
    "# Additional imports from A3\n",
    "from __future__ import print_function\n",
    "import math\n",
    "from collections import defaultdict\n",
    "from nltk.tokenize import TreebankWordTokenizer\n",
    "import Levenshtein  # package python-Levenshtein"
   ]
  },
  {
   "cell_type": "code",
   "execution_count": 7,
   "metadata": {},
   "outputs": [],
   "source": [
    "import sys\n",
    "# Ensure that your kernel is using Python3\n",
    "assert sys.version_info.major == 3"
   ]
  },
  {
   "cell_type": "code",
   "execution_count": 8,
   "metadata": {},
   "outputs": [
    {
     "name": "stdout",
     "output_type": "stream",
     "text": [
      "1378\n"
     ]
    }
   ],
   "source": [
    "# import the json\n",
    "import json\n",
    "with open(\"updated_data.json\", \"r\") as f:\n",
    "    women_summaries = json.load(f)\n",
    "print(len(women_summaries))\n"
   ]
  },
  {
   "cell_type": "code",
   "execution_count": null,
   "metadata": {},
   "outputs": [],
   "source": [
    "# The file is ordered from the homeworks that we've worked on\n",
    "# so that we can easily go back to the specific assignment if we need to"
   ]
  },
  {
   "cell_type": "code",
   "execution_count": null,
   "metadata": {},
   "outputs": [],
   "source": [
    "# Tokenize the summaries so that we can compare words easier\n",
    "# this currently would summarize the whole json file but we probably should \n",
    "# restrict it to the first sentence like Charles mentioned when we met him\n",
    "# Adapted from homework 1\n",
    "\n",
    "def tokenize_summary(text):\n",
    "    lowercase = text.lower()\n",
    "    lower_array = re.findall(\"[a-z]+\", lowercase)\n",
    "    return lower_array"
   ]
  },
  {
   "cell_type": "code",
   "execution_count": null,
   "metadata": {},
   "outputs": [],
   "source": [
    "# tokenize the json file\n",
    "# adapted from homework 1\n",
    "\n",
    "def tokenize_json(file):\n",
    "    # a for loop that goes through each of the people\n",
    "    \n",
    "# maybe store it as a dictionary {\"woman\", [\"she\", \"was\", \"a\", \"palenotologist\"]}\n",
    "    "
   ]
  },
  {
   "cell_type": "code",
   "execution_count": null,
   "metadata": {},
   "outputs": [],
   "source": [
    "# Create a matrix using jaccard similarity\n",
    "def create_jaccard_sim_matrix(num_women, input_array, unique_words):\n",
    "    arr = np.zeroes(shape = (num_women, num_women))\n",
    "    for (i, woman1) in enumerate(input_array):\n",
    "        for (j, woman2) in enumerate(input_array):\n",
    "            s1 = np.nonzero(woman1)\n",
    "            s2 = np.nonzero(woman2)\n",
    "            intersect = np.intersect1d(s1, s2)\n",
    "            union = np.union1d(np.array(s1).flatten, np.array(s2).flatten())\n",
    "            arr[i][j] = len(intersect)/len(union)\n",
    "    arr.diagonals() = 0\n",
    "    return arr"
   ]
  },
  {
   "cell_type": "code",
   "execution_count": null,
   "metadata": {},
   "outputs": [],
   "source": [
    "# we need to figure out an input_array for the Jaccard one\n",
    "# we also need to figure out what we're considering unique words"
   ]
  },
  {
   "cell_type": "code",
   "execution_count": null,
   "metadata": {},
   "outputs": [],
   "source": [
    "def sim_dict(input_sim_matrix, num_women):\n",
    "    womenDict = dict()\n",
    "    for (woman1) in enumerate (input_sim_matrix):\n",
    "        for (woman2) in enumerate (input_sim_matrix):\n",
    "            womenDict[(woman1, woman2)] = input_sim_matrix[woman1, woman2]\n",
    "    return womenDict\n",
    "            "
   ]
  },
  {
   "cell_type": "code",
   "execution_count": null,
   "metadata": {},
   "outputs": [],
   "source": [
    "# Homework 3 looked at Levenshtein distance (probably not a good idea imo)"
   ]
  },
  {
   "cell_type": "code",
   "execution_count": null,
   "metadata": {},
   "outputs": [],
   "source": [
    "# Homework 4 looked at cosine similarity, which we can consider on top of jaccard"
   ]
  },
  {
   "cell_type": "code",
   "execution_count": null,
   "metadata": {},
   "outputs": [],
   "source": []
  }
 ],
 "metadata": {
  "kernelspec": {
   "display_name": "Python 3",
   "language": "python",
   "name": "python3"
  },
  "language_info": {
   "codemirror_mode": {
    "name": "ipython",
    "version": 3
   },
   "file_extension": ".py",
   "mimetype": "text/x-python",
   "name": "python",
   "nbconvert_exporter": "python",
   "pygments_lexer": "ipython3",
   "version": "3.5.2"
  }
 },
 "nbformat": 4,
 "nbformat_minor": 2
}
