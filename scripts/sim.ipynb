{
 "cells": [
  {
   "cell_type": "code",
   "execution_count": 1,
   "metadata": {},
   "outputs": [],
   "source": [
    "import pandas as pd \n",
    "import sim \n",
    "import json\n",
    "from sklearn.feature_extraction.text import TfidfVectorizer\n",
    "import numpy as np\n",
    "from tqdm.notebook import tqdm"
   ]
  },
  {
   "cell_type": "code",
<<<<<<< Updated upstream
   "execution_count": 3,
=======
   "execution_count": 6,
>>>>>>> Stashed changes
   "metadata": {
    "tags": []
   },
   "outputs": [
    {
     "output_type": "stream",
     "name": "stdout",
     "text": [
      "['grinder', 'apples', 'cream', 'cream', 'coke', 'rose', 'hamburger', 'fries', 'fries', 'steaks', 'sour', 'cream']\n",
      "['steaks', 'fries', 'rose', 'apples', 'sour', 'hamburger', 'cream', 'coke', 'grinder']\n",
      "recipe mat\n",
      "movie mat\n",
      "cos mat\n",
      "                       Golden Crescent Rolls Recipe   \\\n",
      "Speed                                       0.000000   \n",
      "Jacket                                      0.000000   \n",
      "Rebel Without A Cause                       0.000000   \n",
      "Duck Soup                                   0.072023   \n",
      "Observe and Report                          0.000000   \n",
      "...                                              ...   \n",
      "Smashed                                     0.000000   \n",
      "We Own the Night                            0.000000   \n",
      "Misery                                      0.000000   \n",
      "Sting                                       0.000000   \n",
      "Bottle Rocket                               0.000000   \n",
      "\n",
      "                       Poppy Seed Bread with Glaze Recipe   \\\n",
      "Speed                                             0.000000   \n",
      "Jacket                                            0.000000   \n",
      "Rebel Without A Cause                             0.058415   \n",
      "Duck Soup                                         0.000000   \n",
      "Observe and Report                                0.000000   \n",
      "...                                                    ...   \n",
<<<<<<< Updated upstream
      "Smashed                                           0.038595   \n",
=======
      "Smashed                                           0.053046   \n",
>>>>>>> Stashed changes
      "We Own the Night                                  0.000000   \n",
      "Misery                                            0.000000   \n",
      "Sting                                             0.000000   \n",
      "Bottle Rocket                                     0.000000   \n",
      "\n",
      "                       Applesauce Bread I Recipe   Apple Raisin Bread Recipe   \\\n",
      "Speed                                    0.000000                    0.000000   \n",
      "Jacket                                   0.000000                    0.000000   \n",
<<<<<<< Updated upstream
      "Rebel Without A Cause                    0.000000                    0.042811   \n",
      "Duck Soup                                0.000000                    0.105274   \n",
      "Observe and Report                       0.000000                    0.000000   \n",
      "...                                           ...                         ...   \n",
      "Smashed                                  0.059768                    0.055702   \n",
      "We Own the Night                         0.000000                    0.000000   \n",
      "Misery                                   0.000000                    0.000000   \n",
      "Sting                                    0.000000                    0.075375   \n",
      "Bottle Rocket                            0.000000                    0.032634   \n",
      "\n",
      "                       Buttermilk Oatmeal Bread Recipe   Kolaches II Recipe   \\\n",
      "Speed                                           0.00000                  0.0   \n",
      "Jacket                                          0.00000                  0.0   \n",
      "Rebel Without A Cause                           0.00000                  0.0   \n",
      "Duck Soup                                       0.00000                  0.0   \n",
      "Observe and Report                              0.00000                  0.0   \n",
      "...                                                 ...                  ...   \n",
      "Smashed                                         0.04888                  0.0   \n",
      "We Own the Night                                0.00000                  0.0   \n",
      "Misery                                          0.00000                  0.0   \n",
      "Sting                                           0.00000                  0.0   \n",
      "Bottle Rocket                                   0.00000                  0.0   \n",
=======
      "Rebel Without A Cause                    0.000000                    0.000000   \n",
      "Duck Soup                                0.000000                    0.115475   \n",
      "Observe and Report                       0.000000                    0.000000   \n",
      "...                                           ...                         ...   \n",
      "Smashed                                  0.082147                    0.076558   \n",
      "We Own the Night                         0.000000                    0.000000   \n",
      "Misery                                   0.000000                    0.000000   \n",
      "Sting                                    0.000000                    0.084873   \n",
      "Bottle Rocket                            0.000000                    0.082820   \n",
      "\n",
      "                       Buttermilk Oatmeal Bread Recipe   Kolaches II Recipe   \\\n",
      "Speed                                          0.000000                  0.0   \n",
      "Jacket                                         0.000000                  0.0   \n",
      "Rebel Without A Cause                          0.000000                  0.0   \n",
      "Duck Soup                                      0.000000                  0.0   \n",
      "Observe and Report                             0.000000                  0.0   \n",
      "...                                                 ...                  ...   \n",
      "Smashed                                        0.067182                  0.0   \n",
      "We Own the Night                               0.000000                  0.0   \n",
      "Misery                                         0.000000                  0.0   \n",
      "Sting                                          0.000000                  0.0   \n",
      "Bottle Rocket                                  0.000000                  0.0   \n",
>>>>>>> Stashed changes
      "\n",
      "                       Whole Wheat Bread II Recipe   \\\n",
      "Speed                                      0.000000   \n",
      "Jacket                                     0.000000   \n",
      "Rebel Without A Cause                      0.000000   \n",
      "Duck Soup                                  0.000000   \n",
      "Observe and Report                         0.000000   \n",
      "...                                             ...   \n",
<<<<<<< Updated upstream
      "Smashed                                    0.053441   \n",
=======
      "Smashed                                    0.073451   \n",
>>>>>>> Stashed changes
      "We Own the Night                           0.000000   \n",
      "Misery                                     0.000000   \n",
      "Sting                                      0.000000   \n",
      "Bottle Rocket                              0.000000   \n",
      "\n",
      "                       Cottage Cheese Bread II Recipe   \\\n",
      "Speed                                         0.000000   \n",
      "Jacket                                        0.000000   \n",
      "Rebel Without A Cause                         0.000000   \n",
      "Duck Soup                                     0.000000   \n",
      "Observe and Report                            0.000000   \n",
      "...                                                ...   \n",
<<<<<<< Updated upstream
      "Smashed                                       0.047358   \n",
      "We Own the Night                              0.000000   \n",
      "Misery                                        0.028524   \n",
=======
      "Smashed                                       0.065091   \n",
      "We Own the Night                              0.000000   \n",
      "Misery                                        0.064044   \n",
>>>>>>> Stashed changes
      "Sting                                         0.000000   \n",
      "Bottle Rocket                                 0.000000   \n",
      "\n",
      "                       Mocha Chocolate Chip Banana Muffins Recipe   \\\n",
      "Speed                                                     0.000000   \n",
      "Jacket                                                    0.000000   \n",
      "Rebel Without A Cause                                     0.000000   \n",
      "Duck Soup                                                 0.000000   \n",
      "Observe and Report                                        0.000000   \n",
      "...                                                            ...   \n",
<<<<<<< Updated upstream
      "Smashed                                                   0.025940   \n",
      "We Own the Night                                          0.000000   \n",
      "Misery                                                    0.000000   \n",
      "Sting                                                     0.000000   \n",
      "Bottle Rocket                                             0.104476   \n",
=======
      "Smashed                                                   0.035653   \n",
      "We Own the Night                                          0.000000   \n",
      "Misery                                                    0.000000   \n",
      "Sting                                                     0.000000   \n",
      "Bottle Rocket                                             0.114455   \n",
>>>>>>> Stashed changes
      "\n",
      "                       'Ruby''s Special Cornbread Recipe '  ...  \\\n",
      "Speed                                                  0.0  ...   \n",
      "Jacket                                                 0.0  ...   \n",
      "Rebel Without A Cause                                  0.0  ...   \n",
      "Duck Soup                                              0.0  ...   \n",
      "Observe and Report                                     0.0  ...   \n",
      "...                                                    ...  ...   \n",
      "Smashed                                                0.0  ...   \n",
      "We Own the Night                                       0.0  ...   \n",
      "Misery                                                 0.0  ...   \n",
      "Sting                                                  0.0  ...   \n",
      "Bottle Rocket                                          0.0  ...   \n",
      "\n",
      "                       Apricot Muffins Recipe   Avocado Quick Bread Recipe   \\\n",
      "Speed                                      0.0                     0.000000   \n",
      "Jacket                                     0.0                     0.000000   \n",
      "Rebel Without A Cause                      0.0                     0.000000   \n",
      "Duck Soup                                  0.0                     0.046003   \n",
      "Observe and Report                         0.0                     0.000000   \n",
      "...                                        ...                          ...   \n",
<<<<<<< Updated upstream
      "Smashed                                    0.0                     0.047559   \n",
=======
      "Smashed                                    0.0                     0.065367   \n",
>>>>>>> Stashed changes
      "We Own the Night                           0.0                     0.000000   \n",
      "Misery                                     0.0                     0.000000   \n",
      "Sting                                      0.0                     0.000000   \n",
      "Bottle Rocket                              0.0                     0.000000   \n",
      "\n",
      "                       Danish Pastry Recipe   Treacle Scones Recipe   \\\n",
      "Speed                                    0.0                     0.0   \n",
      "Jacket                                   0.0                     0.0   \n",
      "Rebel Without A Cause                    0.0                     0.0   \n",
      "Duck Soup                                0.0                     0.0   \n",
      "Observe and Report                       0.0                     0.0   \n",
      "...                                      ...                     ...   \n",
      "Smashed                                  0.0                     0.0   \n",
      "We Own the Night                         0.0                     0.0   \n",
      "Misery                                   0.0                     0.0   \n",
      "Sting                                    0.0                     0.0   \n",
      "Bottle Rocket                            0.0                     0.0   \n",
      "\n",
      "                       German Sweet Chocolate Cake II Recipe   \\\n",
      "Speed                                                0.000000   \n",
      "Jacket                                               0.000000   \n",
<<<<<<< Updated upstream
      "Rebel Without A Cause                                0.017590   \n",
      "Duck Soup                                            0.000000   \n",
      "Observe and Report                                   0.000000   \n",
      "...                                                       ...   \n",
      "Smashed                                              0.069879   \n",
      "We Own the Night                                     0.018778   \n",
      "Misery                                               0.000000   \n",
      "Sting                                                0.000000   \n",
      "Bottle Rocket                                        0.058390   \n",
=======
      "Rebel Without A Cause                                0.037798   \n",
      "Duck Soup                                            0.000000   \n",
      "Observe and Report                                   0.000000   \n",
      "...                                                       ...   \n",
      "Smashed                                              0.150062   \n",
      "We Own the Night                                     0.042743   \n",
      "Misery                                               0.000000   \n",
      "Sting                                                0.000000   \n",
      "Bottle Rocket                                        0.080129   \n",
>>>>>>> Stashed changes
      "\n",
      "                       Hot Coffee Frosting Recipe   \\\n",
      "Speed                                     0.000000   \n",
      "Jacket                                    0.000000   \n",
      "Rebel Without A Cause                     0.000000   \n",
      "Duck Soup                                 0.000000   \n",
      "Observe and Report                        0.000000   \n",
      "...                                            ...   \n",
      "Smashed                                   0.000000   \n",
<<<<<<< Updated upstream
      "We Own the Night                          0.137305   \n",
      "Misery                                    0.000000   \n",
      "Sting                                     0.056613   \n",
=======
      "We Own the Night                          0.156272   \n",
      "Misery                                    0.000000   \n",
      "Sting                                     0.127493   \n",
>>>>>>> Stashed changes
      "Bottle Rocket                             0.000000   \n",
      "\n",
      "                       White Chocolate Blueberry Cheesecake Recipe   \\\n",
      "Speed                                                      0.000000   \n",
      "Jacket                                                     0.207276   \n",
      "Rebel Without A Cause                                      0.000000   \n",
      "Duck Soup                                                  0.000000   \n",
      "Observe and Report                                         0.050299   \n",
      "...                                                             ...   \n",
<<<<<<< Updated upstream
      "Smashed                                                    0.029368   \n",
      "We Own the Night                                           0.057068   \n",
      "Misery                                                     0.000000   \n",
      "Sting                                                      0.047060   \n",
      "Bottle Rocket                                              0.058196   \n",
=======
      "Smashed                                                    0.040364   \n",
      "We Own the Night                                           0.000000   \n",
      "Misery                                                     0.000000   \n",
      "Sting                                                      0.000000   \n",
      "Bottle Rocket                                              0.044277   \n",
>>>>>>> Stashed changes
      "\n",
      "                       'Aunt Anne''s Coffee Cake Recipe '  \\\n",
      "Speed                                            0.000000   \n",
      "Jacket                                           0.000000   \n",
<<<<<<< Updated upstream
      "Rebel Without A Cause                            0.014044   \n",
      "Duck Soup                                        0.000000   \n",
      "Observe and Report                               0.000000   \n",
      "...                                                   ...   \n",
      "Smashed                                          0.009010   \n",
      "We Own the Night                                 0.120592   \n",
      "Misery                                           0.000000   \n",
      "Sting                                            0.043540   \n",
      "Bottle Rocket                                    0.032117   \n",
=======
      "Rebel Without A Cause                            0.030180   \n",
      "Duck Soup                                        0.000000   \n",
      "Observe and Report                               0.000000   \n",
      "...                                                   ...   \n",
      "Smashed                                          0.024768   \n",
      "We Own the Night                                 0.154314   \n",
      "Misery                                           0.000000   \n",
      "Sting                                            0.098053   \n",
      "Bottle Rocket                                    0.027170   \n",
>>>>>>> Stashed changes
      "\n",
      "                       Giant Ding Dong Cake Recipe   Peach Coffee Cake Recipe   \n",
      "Speed                                      0.000000                   0.000000  \n",
      "Jacket                                     0.000000                   0.000000  \n",
<<<<<<< Updated upstream
      "Rebel Without A Cause                      0.011246                   0.019443  \n",
=======
      "Rebel Without A Cause                      0.024166                   0.041781  \n",
>>>>>>> Stashed changes
      "Duck Soup                                  0.000000                   0.000000  \n",
      "Observe and Report                         0.137179                   0.000000  \n",
      "...                                             ...                        ...  \n",
<<<<<<< Updated upstream
      "Smashed                                    0.053983                   0.012474  \n",
      "We Own the Night                           0.012005                   0.166947  \n",
      "Misery                                     0.000000                   0.000000  \n",
      "Sting                                      0.000000                   0.060276  \n",
      "Bottle Rocket                              0.025717                   0.044463  \n",
=======
      "Smashed                                    0.019833                   0.034289  \n",
      "We Own the Night                           0.027327                   0.213632  \n",
      "Misery                                     0.000000                   0.000000  \n",
      "Sting                                      0.000000                   0.135745  \n",
      "Bottle Rocket                              0.021756                   0.037614  \n",
>>>>>>> Stashed changes
      "\n",
      "[1176 rows x 12351 columns]\n"
     ]
    }
   ],
   "source": [
    "df = pd.read_csv(\"../data/clean_recipes.csv\", sep=\";\")\n",
    "df.head()\n",
    "recipe_list = df[\"Recipe Name\"].tolist()\n",
    "with open(\"../data/movie_food_NER_phrase.json\") as json_file:\n",
    "    movie_list = json.load(json_file)\n",
    "recipe_mat, vectorizer = sim.build_vectorizer(recipe_list)\n",
    "print(\"recipe mat\")\n",
    "movie_mat = sim.get_movie_tfidfs(movie_list, vectorizer)\n",
    "print(\"movie mat\")\n",
    "res = sim.get_cos_sim(recipe_mat, movie_mat)\n",
    "print(\"cos mat\")\n",
    "df = pd.DataFrame(res, index=movie_list.keys(), columns=recipe_list)\n",
    "print(df)"
   ]
  },
  {
   "cell_type": "code",
<<<<<<< Updated upstream
   "execution_count": 4,
   "metadata": {},
   "outputs": [],
   "source": [
    "df.to_csv(\"../data/movie_recipe_mat_NER_phrase.csv\")"
=======
   "execution_count": 7,
   "metadata": {},
   "outputs": [],
   "source": [
    "df.to_csv(\"../data/movie_recipe_mat_tagged_top2_sets.csv\")"
>>>>>>> Stashed changes
   ]
  },
  {
   "cell_type": "code",
   "execution_count": 8,
   "metadata": {},
   "outputs": [],
   "source": [
    "with open(\"../data/movie_food_words_tagged_top2.json\") as json_file:\n",
    "    movie_list = json.load(json_file)"
   ]
  },
  {
   "cell_type": "code",
   "execution_count": 41,
   "metadata": {
    "tags": []
   },
   "outputs": [],
   "source": [
    "movie_quotes = dict()\n",
    "for title in movie_list.keys():\n",
    "    movie_quotes[title]=dict()\n",
    "    with open(\"../../Scripts/\" + title + \".txt\", encoding=\"UTF-8\") as text:\n",
    "        lines = text.read().lower()\n",
    "        for word in set(movie_list[title]):\n",
    "            if word in lines:\n",
    "                idx1 = lines.index(word)\n",
    "                idx2 = lines.find(\".\", idx1)\n",
    "                idx3 = lines.rfind(\".\", 0, idx1)\n",
    "                movie_quotes[title][word]=\" \".join(lines[idx3 + 2:idx2].replace(\"\\n\", \"\").split())"
   ]
  },
  {
   "cell_type": "code",
   "execution_count": 42,
   "metadata": {
    "tags": []
   },
   "outputs": [
    {
     "output_type": "stream",
     "name": "stdout",
     "text": [
      "{'cookie': 'the gingerbread man is pulled out of the milk and slammed down onto a cookie sheet', 'beer': \"(bumps into a table where there are mugs of beer) crowd go ahead! get him! shrek (holds up a mug of beer) can't we just settle this over a pint? crowd kill the beast! shrek no? all right then\", 'crisp': \"how do you let her down real easy so her feelings aren't hurt, but you don't get burned to a crisp and eaten? fiona you just tell her she's not your true love\", 'eggs': 'fiona looks a little sheepish, but she eyes the eggs that the bird left behind', 'candy': 'the gingerbread man has been mended somewhat and now has one leg and walks with a candy cane cane', 'gumdrop': 'not my gumdrop buttons', 'milk': \"he's continually dunking him in a glass of milk\", 'potatoes': \"(he swiftly picks her up and swings her over his shoulder like she was a sack of potatoes) fiona you wouldn't dare\", 'berries': 'hen i ate some rotten berries', 'drink': '(drinks the beer) come on! he takes the mug and smashes the spigot off the large barrel of beer behind him', 'fish': 'swamp toad soup, fish eye tartare - - you name it', 'tea': \"you're gonna tear it off\", 'parfait': 'donkey you know what else everybody likes? parfaits'}\nthe gingerbread man is pulled out of the milk and slammed down onto a cookie sheet\n"
     ]
    }
   ],
   "source": [
    "print(movie_quotes[\"Shrek\"])\n",
    "print(movie_quotes[\"Shrek\"][\"cookie\"])"
   ]
  },
  {
   "cell_type": "code",
   "execution_count": 43,
   "metadata": {},
   "outputs": [],
   "source": [
    "with open(\"movie_food_quotes.json\", \"w\") as outfile: \n",
    "    json.dump(movie_quotes, outfile)"
   ]
  },
  {
   "cell_type": "code",
   "execution_count": 19,
   "metadata": {},
   "outputs": [
    {
     "output_type": "stream",
     "name": "stdout",
     "text": [
      "9 3\nrock\n"
     ]
    }
   ],
   "source": [
    "test_str = \"bed. rock. bed\"\n",
    "idx1 = test_str.index(\"rock\")\n",
    "idx2 = test_str.find(\".\", idx1)\n",
    "idx3 = test_str.rfind(\".\", 0, idx1)\n",
    "print(idx2, idx3)\n",
    "print(test_str[idx3 + 2:idx2])"
   ]
  }
 ],
 "metadata": {
  "kernelspec": {
   "name": "cs4300-env",
   "display_name": "cs4300-env",
   "language": "python"
  },
  "language_info": {
   "codemirror_mode": {
    "name": "ipython",
    "version": 3
   },
   "file_extension": ".py",
   "mimetype": "text/x-python",
   "name": "python",
   "nbconvert_exporter": "python",
   "pygments_lexer": "ipython3",
   "version": "3.8.5"
  }
 },
 "nbformat": 4,
 "nbformat_minor": 2
}