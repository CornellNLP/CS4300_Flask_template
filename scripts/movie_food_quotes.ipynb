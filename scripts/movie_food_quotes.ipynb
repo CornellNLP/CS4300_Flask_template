{
 "metadata": {
  "language_info": {
   "codemirror_mode": {
    "name": "ipython",
    "version": 3
   },
   "file_extension": ".py",
   "mimetype": "text/x-python",
   "name": "python",
   "nbconvert_exporter": "python",
   "pygments_lexer": "ipython3",
   "version": "3.8.5"
  },
  "orig_nbformat": 2,
  "kernelspec": {
   "name": "python385jvsc74a57bd0c476a049fcde5b81fb6a21b43e92761893545c8074c102fba35e987c688513e7",
   "display_name": "Python 3.8.5 64-bit ('nlm-env': venv)"
  }
 },
 "nbformat": 4,
 "nbformat_minor": 2,
 "cells": [
  {
   "cell_type": "code",
   "execution_count": 2,
   "metadata": {},
   "outputs": [],
   "source": [
    "import pandas as pd \n",
    "import sim \n",
    "import json\n",
    "from sklearn.feature_extraction.text import TfidfVectorizer\n",
    "import numpy as np\n",
    "from tqdm.notebook import tqdm\n",
    "\n",
    "df = pd.read_csv(\"../data/clean_recipes.csv\", sep=\";\")\n",
    "df.head()\n",
    "recipe_list = df[\"Recipe Name\"].tolist()\n",
    "with open(\"../data/movie_food_words_from_wordnets_top2_edited.json\") as json_file:\n",
    "    movie_list = json.load(json_file)\n",
    "\n",
    "movie_quotes = dict()\n",
    "for title in movie_list.keys():\n",
    "    movie_quotes[title]=dict()\n",
    "    with open(\"../../Scripts/\" + title + \".txt\", encoding=\"UTF-8\") as text:\n",
    "        lines = text.read().lower()\n",
    "        for word in set(movie_list[title]):\n",
    "            if word in lines:\n",
    "                idx1 = lines.index(word)\n",
    "                idx2 = lines.find(\".\", idx1)\n",
    "                idx3 = lines.rfind(\".\", 0, idx1)\n",
    "                movie_quotes[title][word]=\" \".join(lines[idx3 + 2:idx2].replace(\"\\n\", \"\").split())"
   ]
  },
  {
   "cell_type": "code",
   "execution_count": 3,
   "metadata": {},
   "outputs": [],
   "source": [
    "with open(\"movie_food_quotes.json\", \"w\") as outfile: \n",
    "    json.dump(movie_quotes, outfile)"
   ]
  },
  {
   "cell_type": "code",
   "execution_count": null,
   "metadata": {},
   "outputs": [],
   "source": []
  }
 ]
}