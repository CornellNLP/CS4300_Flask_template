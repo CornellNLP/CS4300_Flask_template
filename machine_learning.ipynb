{
 "cells": [
  {
   "cell_type": "code",
   "execution_count": 8,
   "metadata": {},
   "outputs": [],
   "source": [
    "from sklearn.svm import SVC\n",
    "import json\n",
    "import pandas as pd"
   ]
  },
  {
   "cell_type": "code",
   "execution_count": 9,
   "metadata": {},
   "outputs": [],
   "source": [
    "with open(\"CS4300sp2021-ljw222-rsp99-mot23-rgb226-ss2698/finalData2.json\", \"r\") as f:\n",
    "    data = json.load(f)"
   ]
  },
  {
   "cell_type": "code",
   "execution_count": 10,
   "metadata": {},
   "outputs": [],
   "source": [
    "# each row of DF:\n",
    "# - restaurant\n",
    "# - text of all reviews together?\n",
    "# - columns for each ambiance label, 1 or 0\n",
    "\n",
    "df = pd.DataFrame(columns=['restaurant', 'reviews', 'touristy', 'classy', 'romantic', 'casual', \n",
    "                          'hipster', 'divey', 'intimate', 'trendy', 'upscale'])"
   ]
  },
  {
   "cell_type": "code",
   "execution_count": 15,
   "metadata": {},
   "outputs": [],
   "source": [
    "for restaurant, restaurant_dict in data['BOSTON'].items():\n",
    "    ambiances = restaurant_dict['ambience']\n",
    "    review_texts = [r['text'] for r in restaurant_dict['reviews']]\n",
    "    review_combined = '\\n'.join(review_texts)\n",
    "    new_row = dict()\n",
    "    new_row['restaurant'] = restaurant\n",
    "    new_row['reviews'] = review_combined\n",
    "    for label in ['touristy', 'classy', 'romantic', 'casual', 'hipster', 'divey', 'intimate', 'trendy', 'upscale']:\n",
    "        if label in ambiances:\n",
    "            new_row[label] = 1\n",
    "        else:\n",
    "            new_row[label] = 0\n",
    "    df = df.append(new_row, ignore_index=True)"
   ]
  },
  {
   "cell_type": "code",
   "execution_count": 16,
   "metadata": {},
   "outputs": [
    {
     "data": {
      "text/html": [
       "<div>\n",
       "<style scoped>\n",
       "    .dataframe tbody tr th:only-of-type {\n",
       "        vertical-align: middle;\n",
       "    }\n",
       "\n",
       "    .dataframe tbody tr th {\n",
       "        vertical-align: top;\n",
       "    }\n",
       "\n",
       "    .dataframe thead th {\n",
       "        text-align: right;\n",
       "    }\n",
       "</style>\n",
       "<table border=\"1\" class=\"dataframe\">\n",
       "  <thead>\n",
       "    <tr style=\"text-align: right;\">\n",
       "      <th></th>\n",
       "      <th>restaurant</th>\n",
       "      <th>reviews</th>\n",
       "      <th>touristy</th>\n",
       "      <th>classy</th>\n",
       "      <th>romantic</th>\n",
       "      <th>casual</th>\n",
       "      <th>hipster</th>\n",
       "      <th>divey</th>\n",
       "      <th>intimate</th>\n",
       "      <th>trendy</th>\n",
       "      <th>upscale</th>\n",
       "    </tr>\n",
       "  </thead>\n",
       "  <tbody>\n",
       "    <tr>\n",
       "      <th>0</th>\n",
       "      <td>Legal Sea Foods</td>\n",
       "      <td>\"If it isn't fresh, it isn't legal, \" is Legal...</td>\n",
       "      <td>1</td>\n",
       "      <td>0</td>\n",
       "      <td>0</td>\n",
       "      <td>0</td>\n",
       "      <td>0</td>\n",
       "      <td>0</td>\n",
       "      <td>0</td>\n",
       "      <td>0</td>\n",
       "      <td>0</td>\n",
       "    </tr>\n",
       "    <tr>\n",
       "      <th>1</th>\n",
       "      <td>Espresso Minute</td>\n",
       "      <td>Very good coffee and solid crepes. I would adm...</td>\n",
       "      <td>0</td>\n",
       "      <td>0</td>\n",
       "      <td>0</td>\n",
       "      <td>0</td>\n",
       "      <td>0</td>\n",
       "      <td>0</td>\n",
       "      <td>0</td>\n",
       "      <td>0</td>\n",
       "      <td>0</td>\n",
       "    </tr>\n",
       "    <tr>\n",
       "      <th>2</th>\n",
       "      <td>Amrheins</td>\n",
       "      <td>Being seated within 5 mins upon our arrival an...</td>\n",
       "      <td>0</td>\n",
       "      <td>0</td>\n",
       "      <td>0</td>\n",
       "      <td>1</td>\n",
       "      <td>0</td>\n",
       "      <td>0</td>\n",
       "      <td>0</td>\n",
       "      <td>0</td>\n",
       "      <td>0</td>\n",
       "    </tr>\n",
       "    <tr>\n",
       "      <th>3</th>\n",
       "      <td>Fiouna's Persian Fusion Cuisine</td>\n",
       "      <td>This one star review...I don't like writing th...</td>\n",
       "      <td>0</td>\n",
       "      <td>0</td>\n",
       "      <td>0</td>\n",
       "      <td>1</td>\n",
       "      <td>0</td>\n",
       "      <td>0</td>\n",
       "      <td>0</td>\n",
       "      <td>0</td>\n",
       "      <td>0</td>\n",
       "    </tr>\n",
       "    <tr>\n",
       "      <th>4</th>\n",
       "      <td>Code 10</td>\n",
       "      <td>The reason why I'm giving this place a 2 at al...</td>\n",
       "      <td>0</td>\n",
       "      <td>0</td>\n",
       "      <td>0</td>\n",
       "      <td>1</td>\n",
       "      <td>0</td>\n",
       "      <td>0</td>\n",
       "      <td>0</td>\n",
       "      <td>0</td>\n",
       "      <td>0</td>\n",
       "    </tr>\n",
       "  </tbody>\n",
       "</table>\n",
       "</div>"
      ],
      "text/plain": [
       "                        restaurant  \\\n",
       "0                  Legal Sea Foods   \n",
       "1                  Espresso Minute   \n",
       "2                         Amrheins   \n",
       "3  Fiouna's Persian Fusion Cuisine   \n",
       "4                          Code 10   \n",
       "\n",
       "                                             reviews touristy classy romantic  \\\n",
       "0  \"If it isn't fresh, it isn't legal, \" is Legal...        1      0        0   \n",
       "1  Very good coffee and solid crepes. I would adm...        0      0        0   \n",
       "2  Being seated within 5 mins upon our arrival an...        0      0        0   \n",
       "3  This one star review...I don't like writing th...        0      0        0   \n",
       "4  The reason why I'm giving this place a 2 at al...        0      0        0   \n",
       "\n",
       "  casual hipster divey intimate trendy upscale  \n",
       "0      0       0     0        0      0       0  \n",
       "1      0       0     0        0      0       0  \n",
       "2      1       0     0        0      0       0  \n",
       "3      1       0     0        0      0       0  \n",
       "4      1       0     0        0      0       0  "
      ]
     },
     "execution_count": 16,
     "metadata": {},
     "output_type": "execute_result"
    }
   ],
   "source": [
    "df.head()"
   ]
  },
  {
   "cell_type": "code",
   "execution_count": 17,
   "metadata": {},
   "outputs": [],
   "source": [
    "from sklearn.feature_extraction.text import TfidfVectorizer\n",
    "from sklearn.model_selection import train_test_split"
   ]
  },
  {
   "cell_type": "code",
   "execution_count": 18,
   "metadata": {},
   "outputs": [],
   "source": [
    "X = df['reviews']\n",
    "Y = df.drop(['restaurant', 'reviews'], axis=1)\n",
    "X_train, X_test, y_train, y_test = train_test_split(X, Y, test_size=0.3)\n",
    "vec = TfidfVectorizer()\n",
    "Xtrain_features = vec.fit_transform(X_train)\n",
    "Xtest_features = vec.transform(X_test)"
   ]
  },
  {
   "cell_type": "code",
   "execution_count": 29,
   "metadata": {},
   "outputs": [],
   "source": [
    "svm = SVC()\n",
    "svm.fit(Xtrain_features, y_train['casual'].astype('int'))\n",
    "preds = svm.predict(Xtest_features)"
   ]
  },
  {
   "cell_type": "code",
   "execution_count": 24,
   "metadata": {},
   "outputs": [],
   "source": [
    "from sklearn.metrics import classification_report, confusion_matrix"
   ]
  },
  {
   "cell_type": "code",
   "execution_count": 30,
   "metadata": {},
   "outputs": [
    {
     "data": {
      "text/plain": [
       "array([[371,  29],\n",
       "       [215,  53]], dtype=int64)"
      ]
     },
     "execution_count": 30,
     "metadata": {},
     "output_type": "execute_result"
    }
   ],
   "source": [
    "confusion_matrix(y_test['casual'].astype('int'), preds)"
   ]
  },
  {
   "cell_type": "code",
   "execution_count": 31,
   "metadata": {},
   "outputs": [
    {
     "name": "stdout",
     "output_type": "stream",
     "text": [
      "              precision    recall  f1-score   support\n",
      "\n",
      "           0       0.63      0.93      0.75       400\n",
      "           1       0.65      0.20      0.30       268\n",
      "\n",
      "    accuracy                           0.63       668\n",
      "   macro avg       0.64      0.56      0.53       668\n",
      "weighted avg       0.64      0.63      0.57       668\n",
      "\n"
     ]
    }
   ],
   "source": [
    "print(classification_report(y_test['casual'].astype('int'), preds))"
   ]
  },
  {
   "cell_type": "code",
   "execution_count": null,
   "metadata": {},
   "outputs": [],
   "source": []
  }
 ],
 "metadata": {
  "kernelspec": {
   "display_name": "Python 3",
   "language": "python",
   "name": "python3"
  },
  "language_info": {
   "codemirror_mode": {
    "name": "ipython",
    "version": 3
   },
   "file_extension": ".py",
   "mimetype": "text/x-python",
   "name": "python",
   "nbconvert_exporter": "python",
   "pygments_lexer": "ipython3",
   "version": "3.7.7"
  }
 },
 "nbformat": 4,
 "nbformat_minor": 4
}
