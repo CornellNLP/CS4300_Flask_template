{
 "cells": [
  {
   "cell_type": "markdown",
   "id": "2fb5f1b2",
   "metadata": {},
   "source": [
    "Project Milestone 2 - Data Exploration"
   ]
  },
  {
   "cell_type": "code",
   "execution_count": 20,
   "id": "67ec8b04",
   "metadata": {},
   "outputs": [],
   "source": [
    "import json\n",
    "import matplotlib.pyplot as plt\n",
    "from nltk.tokenize import TreebankWordTokenizer\n",
    "from collections import defaultdict"
   ]
  },
  {
   "cell_type": "markdown",
   "id": "4fc8377a",
   "metadata": {},
   "source": [
    "Open our dataset sample json file, which was created using the file in our github repository: /dataset/dataset_builder.py"
   ]
  },
  {
   "cell_type": "code",
   "execution_count": 4,
   "id": "e7c74a02",
   "metadata": {},
   "outputs": [],
   "source": [
    "with open(\"db.json\", \"r\") as f:\n",
    "    dataset = json.load(f)"
   ]
  },
  {
   "cell_type": "code",
   "execution_count": 17,
   "id": "cc536e9f",
   "metadata": {
    "scrolled": true
   },
   "outputs": [
    {
     "name": "stdout",
     "output_type": "stream",
     "text": [
      "********* New York City *********\n",
      "Population 8336817\n",
      "Population Density 28317\n",
      "Contains 197 paragraphs of raw downloaded text from Wikipedia\n",
      "Paragraph 1 :\n",
      "[]\n",
      "Paragraph 2 :\n",
      "['new', 'york', 'city', '(', 'nyc', ')', ',', 'often', 'simply', 'called', 'new', 'york', ',', 'is', 'the', 'most', 'populous', 'city', 'in', 'the', 'united', 'states.', 'with', 'an', 'estimated', '2019', 'population', 'of', '8,336,817', 'distributed', 'over', 'about', '302.6', 'square', 'miles', '(', '784', 'km2', ')', ',', 'new', 'york', 'city', 'is', 'also', 'the', 'most', 'densely', 'populated', 'major', 'city', 'in', 'the', 'united', 'states.', '[', '11', ']', 'located', 'at', 'the', 'southern', 'tip', 'of', 'the', 'state', 'of', 'new', 'york', ',', 'the', 'city', 'is', 'the', 'center', 'of', 'the', 'new', 'york', 'metropolitan', 'area', ',', 'the', 'largest', 'metropolitan', 'area', 'in', 'the', 'world', 'by', 'urban', 'landmass.', '[', '12', ']', 'with', 'almost', '20', 'million', 'people', 'in', 'its', 'metropolitan', 'statistical', 'area', 'and', 'approximately', '23', 'million', 'in', 'its', 'combined', 'statistical', 'area', ',', 'it', 'is', 'one', 'of', 'the', 'world', \"'s\", 'most', 'populous', 'megacities.', 'new', 'york', 'city', 'has', 'been', 'described', 'as', 'the', 'cultural', ',', 'financial', ',', 'and', 'media', 'capital', 'of', 'the', 'world', ',', 'significantly', 'influencing', 'commerce', ',', '[', '13', ']', 'entertainment', ',', 'research', ',', 'technology', ',', 'education', ',', 'politics', ',', 'tourism', ',', 'art', ',', 'fashion', ',', 'and', 'sports', ',', 'and', 'is', 'the', 'most', 'photographed', 'city', 'in', 'the', 'world.', '[', '14', ']', 'home', 'to', 'the', 'headquarters', 'of', 'the', 'united', 'nations', ',', '[', '15', ']', 'new', 'york', 'is', 'an', 'important', 'center', 'for', 'international', 'diplomacy', ',', '[', '16', ']', '[', '17', ']', 'and', 'has', 'sometimes', 'been', 'called', 'the', 'capital', 'of', 'the', 'world.', '[', '18', ']', '[', '19', ']']\n",
      "Paragraph 3 :\n",
      "['situated', 'on', 'one', 'of', 'the', 'world', \"'s\", 'largest', 'natural', 'harbors', ',', 'new', 'york', 'city', 'is', 'composed', 'of', 'five', 'boroughs', ',', 'each', 'of', 'which', 'is', 'a', 'county', 'of', 'the', 'state', 'of', 'new', 'york.', 'the', 'five', 'boroughs—brooklyn', ',', 'queens', ',', 'manhattan', ',', 'the', 'bronx', ',', 'and', 'staten', 'island—were', 'created', 'when', 'local', 'governments', 'were', 'consolidated', 'into', 'a', 'single', 'city', 'in', '1898.', '[', '20', ']', 'the', 'city', 'and', 'its', 'metropolitan', 'area', 'constitute', 'the', 'premier', 'gateway', 'for', 'legal', 'immigration', 'to', 'the', 'united', 'states.', 'as', 'many', 'as', '800', 'languages', 'are', 'spoken', 'in', 'new', 'york', ',', '[', '21', ']', 'making', 'it', 'the', 'most', 'linguistically', 'diverse', 'city', 'in', 'the', 'world.', 'new', 'york', 'is', 'home', 'to', 'more', 'than', '3.2', 'million', 'residents', 'born', 'outside', 'the', 'united', 'states', ',', '[', '22', ']', 'the', 'largest', 'foreign-born', 'population', 'of', 'any', 'city', 'in', 'the', 'world', 'as', 'of', '2016.', '[', '23', ']', '[', '24', ']', 'as', 'of', '2019', '[', 'update', ']', ',', 'the', 'new', 'york', 'metropolitan', 'area', 'is', 'estimated', 'to', 'produce', 'a', 'gross', 'metropolitan', 'product', '(', 'gmp', ')', 'of', '$', '2.0', 'trillion.', 'if', 'the', 'new', 'york', 'metropolitan', 'area', 'were', 'a', 'sovereign', 'state', ',', 'it', 'would', 'have', 'the', 'eighth-largest', 'economy', 'in', 'the', 'world.', 'new', 'york', 'is', 'home', 'to', 'the', 'highest', 'number', 'of', 'billionaires', 'of', 'any', 'city', 'in', 'the', 'world.', '[', '25', ']']\n",
      "Paragraph 4 :\n",
      "['new', 'york', 'city', 'traces', 'its', 'origins', 'to', 'a', 'trading', 'post', 'founded', 'on', 'the', 'southern', 'tip', 'of', 'manhattan', 'island', 'by', 'dutch', 'colonists', 'in', '1624.', 'the', 'settlement', 'was', 'named', 'new', 'amsterdam', '(', 'dutch', ':', 'nieuw', 'amsterdam', ')', 'in', '1626', 'and', 'was', 'chartered', 'as', 'a', 'city', 'in', '1653.', '[', '26', ']', 'the', 'city', 'came', 'under', 'english', 'control', 'in', '1664', 'and', 'was', 'renamed', 'new', 'york', 'after', 'king', 'charles', 'ii', 'of', 'england', 'granted', 'the', 'lands', 'to', 'his', 'brother', ',', 'the', 'duke', 'of', 'york.', '[', '26', ']', '[', '27', ']', 'the', 'city', 'was', 'regained', 'by', 'the', 'dutch', 'in', 'july', '1673', 'and', 'was', 'renamed', 'new', 'orange', 'for', 'one', 'year', 'and', 'three', 'months', ';', 'the', 'city', 'has', 'been', 'continuously', 'named', 'new', 'york', 'since', 'november', '1674.', '[', '28', ']', '[', '29', ']', 'new', 'york', 'city', 'was', 'the', 'capital', 'of', 'the', 'united', 'states', 'from', '1785', 'until', '1790', ',', '[', '30', ']', 'and', 'has', 'been', 'the', 'largest', 'u.s.', 'city', 'since', '1790.', '[', '31', ']', 'the', 'statue', 'of', 'liberty', 'greeted', 'millions', 'of', 'immigrants', 'as', 'they', 'came', 'to', 'the', 'u.s.', 'by', 'ship', 'in', 'the', 'late', '19th', 'and', 'early', '20th', 'centuries', ',', '[', '32', ']', 'and', 'is', 'a', 'symbol', 'of', 'the', 'u.s.', 'and', 'its', 'ideals', 'of', 'liberty', 'and', 'peace.', '[', '33', ']', 'in', 'the', '21st', 'century', ',', 'new', 'york', 'has', 'emerged', 'as', 'a', 'global', 'node', 'of', 'creativity', ',', 'entrepreneurship', ',', '[', '34', ']', 'and', 'environmental', 'sustainability', ',', '[', '35', ']', '[', '36', ']', 'and', 'as', 'a', 'symbol', 'of', 'freedom', 'and', 'cultural', 'diversity.', '[', '37', ']', 'in', '2019', ',', 'new', 'york', 'was', 'voted', 'the', 'greatest', 'city', 'in', 'the', 'world', 'per', 'a', 'survey', 'of', 'over', '30,000', 'people', 'from', '48', 'cities', 'worldwide', ',', 'citing', 'its', 'cultural', 'diversity.', '[', '38', ']']\n",
      "\n",
      "\n",
      "\n",
      "\n"
     ]
    }
   ],
   "source": [
    "nyc = \"https://en.wikipedia.org/wiki/New_York_City\"\n",
    "info = dataset[nyc]\n",
    "print(\"*********\", info['city_name'], \"*********\")\n",
    "print(\"Population\", info['population'])\n",
    "print(\"Population Density\", info['population_density'])\n",
    "print(\"Contains\", len(info['text']), \"paragraphs of raw downloaded text from Wikipedia\")\n",
    "for i in range(4):\n",
    "    print(\"Paragraph\", i+1, \":\")\n",
    "    print(info['text'][i])\n",
    "print(\"\\n\\n\\n\")"
   ]
  },
  {
   "cell_type": "code",
   "execution_count": 15,
   "id": "83a9c480",
   "metadata": {},
   "outputs": [],
   "source": [
    "# Tokenize the paragraphs\n",
    "tokenizer = TreebankWordTokenizer()\n",
    "for url, info in dataset.items():\n",
    "    for i in range(len(info['text'])):\n",
    "        raw = info['text'][i]\n",
    "        tokenized = tokenizer.tokenize(raw.lower())\n",
    "        info['text'][i] = tokenized"
   ]
  },
  {
   "cell_type": "code",
   "execution_count": 19,
   "id": "190e3876",
   "metadata": {},
   "outputs": [
    {
     "name": "stdout",
     "output_type": "stream",
     "text": [
      "['new', 'york', 'city', '(', 'nyc', ')', ',', 'often', 'simply', 'called', 'new', 'york', ',', 'is', 'the', 'most', 'populous', 'city', 'in', 'the', 'united', 'states.', 'with', 'an', 'estimated', '2019', 'population', 'of', '8,336,817', 'distributed', 'over', 'about', '302.6', 'square', 'miles', '(', '784', 'km2', ')', ',', 'new', 'york', 'city', 'is', 'also', 'the', 'most', 'densely', 'populated', 'major', 'city', 'in', 'the', 'united', 'states.', '[', '11', ']', 'located', 'at', 'the', 'southern', 'tip', 'of', 'the', 'state', 'of', 'new', 'york', ',', 'the', 'city', 'is', 'the', 'center', 'of', 'the', 'new', 'york', 'metropolitan', 'area', ',', 'the', 'largest', 'metropolitan', 'area', 'in', 'the', 'world', 'by', 'urban', 'landmass.', '[', '12', ']', 'with', 'almost', '20', 'million', 'people', 'in', 'its', 'metropolitan', 'statistical', 'area', 'and', 'approximately', '23', 'million', 'in', 'its', 'combined', 'statistical', 'area', ',', 'it', 'is', 'one', 'of', 'the', 'world', \"'s\", 'most', 'populous', 'megacities.', 'new', 'york', 'city', 'has', 'been', 'described', 'as', 'the', 'cultural', ',', 'financial', ',', 'and', 'media', 'capital', 'of', 'the', 'world', ',', 'significantly', 'influencing', 'commerce', ',', '[', '13', ']', 'entertainment', ',', 'research', ',', 'technology', ',', 'education', ',', 'politics', ',', 'tourism', ',', 'art', ',', 'fashion', ',', 'and', 'sports', ',', 'and', 'is', 'the', 'most', 'photographed', 'city', 'in', 'the', 'world.', '[', '14', ']', 'home', 'to', 'the', 'headquarters', 'of', 'the', 'united', 'nations', ',', '[', '15', ']', 'new', 'york', 'is', 'an', 'important', 'center', 'for', 'international', 'diplomacy', ',', '[', '16', ']', '[', '17', ']', 'and', 'has', 'sometimes', 'been', 'called', 'the', 'capital', 'of', 'the', 'world.', '[', '18', ']', '[', '19', ']']\n"
     ]
    }
   ],
   "source": [
    "print(dataset[nyc]['text'][1])"
   ]
  },
  {
   "cell_type": "code",
   "execution_count": 23,
   "id": "8afb326d",
   "metadata": {},
   "outputs": [],
   "source": [
    "tf = defaultdict(int)\n",
    "for url, info in dataset.items():\n",
    "    for par in info['text']:\n",
    "        for token in par:\n",
    "            tf[token] += 1"
   ]
  },
  {
   "cell_type": "code",
   "execution_count": 40,
   "id": "3cd34300",
   "metadata": {},
   "outputs": [
    {
     "name": "stdout",
     "output_type": "stream",
     "text": [
      "Top 20 tokens by term frequency\n",
      "the 9741\n",
      ", 8363\n",
      "of 4347\n",
      "in 3867\n",
      "and 3817\n",
      "[ 3211\n",
      "] 3211\n",
      "to 1842\n",
      "a 1612\n",
      "city 1573\n",
      "( 1361\n",
      ") 1360\n",
      "is 1327\n",
      "'s 1105\n",
      "as 943\n",
      "was 788\n",
      "by 736\n",
      ". 712\n",
      "for 703\n",
      "new 682\n"
     ]
    }
   ],
   "source": [
    "print(\"Top 20 tokens by term frequency\")\n",
    "unsorted_tf = [(term, freq) for term, freq in tf.items()]\n",
    "sorted_tf = sorted(unsorted_tf, key=lambda x: x[1], reverse=True)\n",
    "for i in range(20):\n",
    "    print(sorted_tf[i][0], sorted_tf[i][1])"
   ]
  },
  {
   "cell_type": "code",
   "execution_count": 30,
   "id": "c720f959",
   "metadata": {},
   "outputs": [
    {
     "name": "stdout",
     "output_type": "stream",
     "text": [
      "Bottom 10 tokens by term frequency\n",
      "('p', 1)\n",
      "('terminates', 1)\n",
      "('tiger', 1)\n",
      "('viaduct.', 1)\n",
      "('envisioning', 1)\n",
      "('facility.', 1)\n",
      "('desired', 1)\n",
      "('skylink', 1)\n",
      "('check-in', 1)\n",
      "('proceeding', 1)\n"
     ]
    }
   ],
   "source": [
    "print(\"Bottom 10 tokens by term frequency\")\n",
    "for i in range(10):\n",
    "    print(sorted_tf[len(sorted_tf)-1-i])"
   ]
  },
  {
   "cell_type": "code",
   "execution_count": 45,
   "id": "a768da63",
   "metadata": {},
   "outputs": [
    {
     "data": {
      "text/plain": [
       "<BarContainer object of 300 artists>"
      ]
     },
     "execution_count": 45,
     "metadata": {},
     "output_type": "execute_result"
    },
    {
     "data": {
      "image/png": "[encoded data removed]",
      "text/plain": [
       "<Figure size 432x288 with 1 Axes>"
      ]
     },
     "metadata": {
      "needs_background": "light"
     },
     "output_type": "display_data"
    }
   ],
   "source": [
    "plt.bar(x=[i for i in range(300)], height=[x[1] for x in sorted_tf[:300]])"
   ]
  },
  {
   "cell_type": "code",
   "execution_count": 51,
   "id": "b1ca93bd",
   "metadata": {},
   "outputs": [],
   "source": [
    "tf_by_city = {}\n",
    "for url, info in dataset.items():\n",
    "    d = defaultdict(int)\n",
    "    for par in info['text']:\n",
    "        for tok in par:\n",
    "            d[tok] += 1\n",
    "    tf_by_city[info['city_name']] = d"
   ]
  },
  {
   "cell_type": "code",
   "execution_count": 58,
   "id": "2fee06c0",
   "metadata": {},
   "outputs": [
    {
     "name": "stdout",
     "output_type": "stream",
     "text": [
      "***** New York City *****\n",
      "('island', 61)\n",
      "('%', 61)\n",
      "('which', 57)\n",
      "('states', 57)\n",
      "('its', 52)\n",
      "('population', 51)\n",
      "('american', 51)\n",
      "('more', 49)\n",
      "('an', 48)\n",
      "('one', 47)\n",
      "***** Los Angeles *****\n",
      "('united', 25)\n",
      "('population', 24)\n",
      "('it', 24)\n",
      "('world', 23)\n",
      "('largest', 21)\n",
      "('that', 21)\n",
      "('were', 21)\n",
      "('center', 21)\n",
      "(':', 20)\n",
      "('metropolitan', 20)\n",
      "***** Chicago *****\n",
      "('university', 44)\n",
      "('an', 43)\n",
      "('that', 43)\n",
      "('including', 42)\n",
      "('school', 42)\n",
      "('it', 41)\n",
      "('one', 41)\n",
      "('``', 41)\n",
      "(\"''\", 41)\n",
      "('new', 39)\n",
      "***** Houston *****\n",
      "(';', 37)\n",
      "('an', 35)\n",
      "('or', 35)\n",
      "('were', 35)\n",
      "('downtown', 35)\n",
      "('states', 33)\n",
      "('its', 33)\n",
      "('``', 33)\n",
      "(\"''\", 33)\n",
      "('major', 33)\n",
      "***** Phoenix, Arizona *****\n",
      "(';', 39)\n",
      "('other', 38)\n",
      "('area', 37)\n",
      "('over', 37)\n",
      "('one', 36)\n",
      "('an', 36)\n",
      "('were', 36)\n",
      "('first', 36)\n",
      "('that', 35)\n",
      "('valley', 34)\n",
      "***** Philadelphia *****\n",
      "(';', 38)\n",
      "('street', 38)\n",
      "('largest', 37)\n",
      "('are', 37)\n",
      "('also', 36)\n",
      "('american', 36)\n",
      "('delaware', 34)\n",
      "('population', 33)\n",
      "('states', 31)\n",
      "('its', 31)\n",
      "***** San Antonio *****\n",
      "('``', 29)\n",
      "('u.s.', 26)\n",
      "('or', 26)\n",
      "('largest', 25)\n",
      "('also', 25)\n",
      "('population', 24)\n",
      "('alamo', 24)\n",
      "('home', 24)\n",
      "('one', 23)\n",
      "('that', 23)\n",
      "***** San Diego *****\n",
      "(\"''\", 33)\n",
      "('united', 31)\n",
      "('an', 30)\n",
      "('also', 30)\n",
      "('it', 28)\n",
      "('had', 28)\n",
      "('county', 27)\n",
      "('one', 27)\n",
      "('university', 27)\n",
      "('mission', 26)\n",
      "***** Dallas *****\n",
      "('its', 38)\n",
      "('an', 36)\n",
      "('center', 36)\n",
      "('school', 36)\n",
      "('it', 35)\n",
      "('states', 35)\n",
      "('dallas.', 35)\n",
      "('american', 34)\n",
      "('including', 33)\n",
      "('which', 32)\n"
     ]
    }
   ],
   "source": [
    "for city_name, tf_dict in tf_by_city.items():\n",
    "    print(\"*****\", city_name, \"*****\")\n",
    "    sorted_tf = sorted([(term, freq) for term,freq in tf_dict.items()], key=lambda x: x[1], reverse=True)\n",
    "    for i in range(35,45):\n",
    "        print(sorted_tf[i])"
   ]
  },
  {
   "cell_type": "code",
   "execution_count": null,
   "id": "58458441",
   "metadata": {},
   "outputs": [],
   "source": []
  }
 ],
 "metadata": {
  "kernelspec": {
   "display_name": "cs4300-env",
   "language": "python",
   "name": "cs4300-env"
  },
  "language_info": {
   "codemirror_mode": {
    "name": "ipython",
    "version": 3
   },
   "file_extension": ".py",
   "mimetype": "text/x-python",
   "name": "python",
   "nbconvert_exporter": "python",
   "pygments_lexer": "ipython3",
   "version": "3.7.6"
  }
 },
 "nbformat": 4,
 "nbformat_minor": 5
}
