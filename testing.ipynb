{
 "cells": [
  {
   "cell_type": "code",
   "execution_count": 1,
   "metadata": {},
   "outputs": [
    {
     "name": "stdout",
     "output_type": "stream",
     "text": [
      "86417\n",
      "found\n",
      "138825\n",
      "found\n",
      "186077\n",
      "314881\n",
      "53881\n",
      "117994\n",
      "found\n",
      "273801\n",
      "found\n",
      "438622\n",
      "474001\n",
      "424789\n",
      "226108\n",
      "216098\n",
      "found\n",
      "125842\n",
      "28391\n",
      "40125\n",
      "470902\n",
      "263739\n",
      "found\n",
      "461343\n",
      "461769\n",
      "109862\n",
      "294465\n",
      "369419\n",
      "92849\n",
      "455182\n",
      "8365\n",
      "found\n",
      "394057\n",
      "205257\n",
      "100442\n",
      "373011\n",
      "487464\n",
      "374937\n",
      "248863\n",
      "216938\n",
      "found\n",
      "300507\n",
      "150047\n",
      "found\n",
      "275978\n",
      "found\n",
      "['Johnsonville® Three Cheese Italian Style Chicken Sausage Skillet Pizza', 'Avocado and Mango Salad with Passion Fruit Vinaigrette', 'Rhubarb Pork Chop Bake', 'Linguine with Garlic-Butter Shrimp', \"Pammy's Slow Cooker Beans\", 'Easy Overnight Blueberry French Toast', 'Harvest Loaf Cake', 'Artichoke Soup', 'Lemon Zucchini and Cucumber Salad', 'Roast Chicken with Apples, Leeks, and Rosemary']\n"
     ]
    }
   ],
   "source": [
    "from recipe_scrapers import scrape_me\n",
    "import pandas as pd\n",
    "import random\n",
    "\n",
    "authors = []\n",
    "titles = []\n",
    "total_times = []\n",
    "yields = []\n",
    "ingredients = []\n",
    "instructions = []\n",
    "images = []\n",
    "host = []\n",
    "links = []\n",
    "nutrients = []\n",
    "ratings = []\n",
    "\n",
    "# scraper = scrape_me(\n",
    "#     \"https://www.allrecipes.com/recipe/\" + str() + \"/\")\n",
    "# print(scraper)\n",
    "# random sample\n",
    "# do we include things with empty fields?\n",
    "count = 0\n",
    "while count < 10:\n",
    "    i = random.randint(0, 500000)\n",
    "\n",
    "    print(i)\n",
    "    # try:\n",
    "    scraper = scrape_me(\n",
    "        \"https://www.allrecipes.com/recipe/\" + str(i) + \"/\")\n",
    "    title = scraper.title()\n",
    "    if title == \"\" or title in titles:\n",
    "        # i += 1\n",
    "        continue\n",
    "    print(\"found\")\n",
    "    titles.append(title)\n",
    "    authors.append(scraper.author() if scraper.author() else \"\")\n",
    "    total_times.append(scraper.total_time() if scraper.total_time() else \"\")\n",
    "    yields.append(scraper.yields() if scraper.yields() else \"\")\n",
    "    ingredients.append(scraper.ingredients() if scraper.ingredients() else \"\")\n",
    "    instructions.append(scraper.instructions() if scraper.instructions() else \"\")\n",
    "    images.append(scraper.image() if scraper.image() else \"\")\n",
    "    host.append(scraper.host() if scraper.host() else \"\")\n",
    "    nutrients.append(scraper.nutrients() if scraper.nutrients() else \"\")\n",
    "    ratings.append(scraper.ratings() if scraper.ratings() else \"\")\n",
    "    # i += 1\n",
    "    count += 1\n",
    "    # except:\n",
    "    # i += 1\n",
    "    # continue\n",
    "    # print(titles)\n",
    "\n",
    "print(titles)\n",
    "#remove duplicates?\n",
    "\n"
   ]
  },
  {
   "cell_type": "code",
   "execution_count": 8,
   "metadata": {},
   "outputs": [],
   "source": [
    "recipes = pd.DataFrame({\n",
    "    'title': titles,\n",
    "    'authors': authors,\n",
    "    'total time': total_times,\n",
    "    'yields': yields,\n",
    "    'ingredients': ingredients,\n",
    "    'instructions': instructions,\n",
    "    'images': images,\n",
    "    'host': host,\n",
    "    'nutrients': nutrients,\n",
    "    'ratings': ratings\n",
    "})\n",
    "\n",
    "recipes.to_csv('p02_recipes.csv')\n",
    "\n"
   ]
  },
  {
   "cell_type": "code",
   "execution_count": 5,
   "metadata": {},
   "outputs": [
    {
     "name": "stdout",
     "output_type": "stream",
     "text": [
      "10\n",
      "10\n",
      "10\n",
      "10\n",
      "10\n",
      "10\n",
      "10\n",
      "10\n"
     ]
    }
   ],
   "source": [
    "print(len(titles))\n",
    "print(len(total_times))\n",
    "print(len(yields))\n",
    "print(len(ingredients))\n",
    "print(len(images))\n",
    "print(len(host))\n",
    "print(len(ratings))\n",
    "print(len(nutrients))"
   ]
  },
  {
   "cell_type": "markdown",
   "metadata": {},
   "source": [
    "# Exploratory Data"
   ]
  },
  {
   "cell_type": "code",
   "execution_count": 36,
   "metadata": {},
   "outputs": [],
   "source": [
    "import statistics\n",
    "import json\n",
    "import ast"
   ]
  },
  {
   "cell_type": "code",
   "execution_count": 5,
   "metadata": {},
   "outputs": [],
   "source": [
    "#load csv into dict\n",
    "\n",
    "import csv\n",
    "\n",
    "keys = [\"id\",\"title\", \"authors\", \"total_time\", \"yields\", \"ingredients\", \"instructions\", \"images\", \"host\", \"nutrients\", \"ratings\"]\n",
    "\n",
    "\n",
    "with open('p02_recipes.csv') as f:\n",
    "    a = [{keys[i]: list(row.items())[i][1] for i in range(len(keys))} for row in csv.DictReader(f, skipinitialspace=True)]\n",
    "        "
   ]
  },
  {
   "cell_type": "code",
   "execution_count": 12,
   "metadata": {},
   "outputs": [
    {
     "name": "stdout",
     "output_type": "stream",
     "text": [
      "{'id': '1', 'title': 'Johnsonville® Three Cheese Italian Style Chicken Sausage Skillet Pizza', 'authors': '', 'total_time': '30', 'yields': '6 serving(s)', 'ingredients': \"['1 (12 inch) pre-baked pizza crust', '1 1/2 cups shredded mozzarella cheese', '1 (14 ounce) jar pizza sauce', '1 (12 ounce) package Johnsonville® Three Cheese Italian Style Chicken Sausage, sliced', '1 (3.5 ounce) package sliced pepperoni']\", 'instructions': 'Top pizza crust with cheese. Bake crust according to package directions. Meanwhile, in a 12-inch skillet, combine the pizza sauce, sausage and pepperoni. Bring to a simmer, stirring occasionally. Reduce heat to low. Cut pizza crust into squares; arrange over sausage mixture in skillet.', 'images': 'https://images.media-allrecipes.com/images/79591.png', 'host': 'allrecipes.com', 'nutrients': \"{'calories': '505 calories;', 'fatContent': '23.8', 'carbohydrateContent': '43', 'proteinContent': '29.6', 'cholesterolContent': '89', 'sodiumContent': '1734'}\", 'ratings': ''}\n"
     ]
    }
   ],
   "source": [
    "print(a[1])"
   ]
  },
  {
   "cell_type": "code",
   "execution_count": 18,
   "metadata": {},
   "outputs": [
    {
     "name": "stdout",
     "output_type": "stream",
     "text": [
      "Victoria M.H. 100\n"
     ]
    }
   ],
   "source": [
    "titles = []\n",
    "authors = []\n",
    "times = []\n",
    "yields= []\n",
    "ingredients = []\n",
    "instructions = []\n",
    "images = []\n",
    "nutrients = []\n",
    "ratings = []\n",
    "\n",
    "for dic in a:\n",
    "    titles += [dic[\"title\"]]\n",
    "    authors += [dic[\"authors\"]]\n",
    "    times += [dic[\"total_time\"]]\n",
    "    yields += [dic[\"yields\"]]\n",
    "    ingredients += [dic[\"ingredients\"]]\n",
    "    instructions += [dic[\"instructions\"]]\n",
    "    images += [dic[\"images\"]]\n",
    "    nutrients += [dic[\"nutrients\"]]\n",
    "    ratings += [dic[\"ratings\"]]\n",
    "    \n",
    "print(authors[9], len(authors))"
   ]
  },
  {
   "cell_type": "code",
   "execution_count": 19,
   "metadata": {},
   "outputs": [
    {
     "name": "stdout",
     "output_type": "stream",
     "text": [
      "With authors:  0.65 Without authors:  0.35\n"
     ]
    }
   ],
   "source": [
    "#percentage of recipies with and without authors\n",
    "wth = len([item for item in authors if item != ''])/len(authors)\n",
    "wthout = 1 - wth\n",
    "print(\"With authors: \", wth, \"Without authors: \", wthout)"
   ]
  },
  {
   "cell_type": "code",
   "execution_count": 21,
   "metadata": {},
   "outputs": [
    {
     "name": "stdout",
     "output_type": "stream",
     "text": [
      "Total time (in mins): \n",
      "Mean:  86.17045454545455 \n",
      "Median:  50.0 \n",
      "Std dev:  118.90904682101764\n"
     ]
    }
   ],
   "source": [
    "#mean and median and sd total time, ignoring empties\n",
    "times_no_emp = [int(item) for item in times if item]\n",
    "mn = statistics.mean(times_no_emp)\n",
    "mdn = statistics.median(times_no_emp)\n",
    "sd = statistics.stdev(times_no_emp)\n",
    "\n",
    "print(\"Total time (in mins): \\nMean: \", mn, \"\\nMedian: \", mdn, \"\\nStd dev: \", sd)"
   ]
  },
  {
   "cell_type": "code",
   "execution_count": 23,
   "metadata": {},
   "outputs": [
    {
     "name": "stdout",
     "output_type": "stream",
     "text": [
      "With ratings:  0.81 Without ratings:  0.18999999999999995\n"
     ]
    }
   ],
   "source": [
    "#percentage recipies withtout ratings\n",
    "wth_r = len([item for item in ratings if item != ''])/len(ratings)\n",
    "wthout_r = 1 - wth_r\n",
    "print(\"With ratings: \", wth_r, \"Without ratings: \", wthout_r)"
   ]
  },
  {
   "cell_type": "code",
   "execution_count": 25,
   "metadata": {},
   "outputs": [
    {
     "name": "stdout",
     "output_type": "stream",
     "text": [
      "Ratings (out of 5): \n",
      "Mean:  3.5308641975308643 \n",
      "Median:  4.19 \n",
      "Std dev:  1.8357874315473348\n"
     ]
    }
   ],
   "source": [
    "#mean median sd recipie rating\n",
    "\n",
    "ratings_no_emp = [float(item) for item in ratings if item]\n",
    "mn_r = statistics.mean(ratings_no_emp)\n",
    "mdn_r = statistics.median(ratings_no_emp)\n",
    "sd_r = statistics.stdev(ratings_no_emp)\n",
    "\n",
    "print(\"Ratings (out of 5): \\nMean: \", mn_r, \"\\nMedian: \", mdn_r, \"\\nStd dev: \", sd_r)"
   ]
  },
  {
   "cell_type": "code",
   "execution_count": 43,
   "metadata": {},
   "outputs": [
    {
     "data": {
      "image/png": "[encoded data removed]",
      "text/plain": [
       "<Figure size 432x288 with 1 Axes>"
      ]
     },
     "metadata": {},
     "output_type": "display_data"
    }
   ],
   "source": [
    "#graph distribution of ratings\n",
    "import matplotlib.pyplot as plt\n",
    "import numpy as np\n",
    "\n",
    "plt.hist(ratings_no_emp, density=True, bins=50)\n",
    "plt.ylabel('Data')\n",
    "plt.xlabel('Rating')\n",
    "plt.show()"
   ]
  },
  {
   "cell_type": "code",
   "execution_count": 39,
   "metadata": {},
   "outputs": [
    {
     "name": "stdout",
     "output_type": "stream",
     "text": [
      "Num Ingredeints: \n",
      "Mean:  8.84 \n",
      "Max:  24 \n",
      "Min:  2\n"
     ]
    }
   ],
   "source": [
    "#max num ingredients, min, mean\n",
    "ingredients_2 = [[n.strip() for n in ast.literal_eval(x)] for x in ingredients]\n",
    "num_ingredients = [len(x) for x in ingredients_2]\n",
    "max_l = max(num_ingredients)\n",
    "min_l = min(num_ingredients)\n",
    "mean_l = statistics.mean(num_ingredients)\n",
    "\n",
    "print(\"Num Ingredeints: \\nMean: \", mean_l, \"\\nMax: \", max_l, \"\\nMin: \", min_l)"
   ]
  },
  {
   "cell_type": "code",
   "execution_count": 44,
   "metadata": {},
   "outputs": [
    {
     "data": {
      "image/png": "[encoded data removed]",
      "text/plain": [
       "<Figure size 432x288 with 1 Axes>"
      ]
     },
     "metadata": {},
     "output_type": "display_data"
    }
   ],
   "source": [
    "#graph number of ingredients\n",
    "import matplotlib.pyplot as plt\n",
    "import numpy as np\n",
    "\n",
    "plt.hist(num_ingredients, density=True, bins=20)\n",
    "plt.ylabel('Data')\n",
    "plt.xlabel('Num Ingredeints')\n",
    "plt.show()"
   ]
  },
  {
   "cell_type": "code",
   "execution_count": null,
   "metadata": {},
   "outputs": [],
   "source": []
  }
 ],
 "metadata": {
  "kernelspec": {
   "display_name": "Python 3",
   "language": "python",
   "name": "python3"
  },
  "language_info": {
   "codemirror_mode": {
    "name": "ipython",
    "version": 3
   },
   "file_extension": ".py",
   "mimetype": "text/x-python",
   "name": "python",
   "nbconvert_exporter": "python",
   "pygments_lexer": "ipython3",
   "version": "3.7.6"
  }
 },
 "nbformat": 4,
 "nbformat_minor": 4
}
