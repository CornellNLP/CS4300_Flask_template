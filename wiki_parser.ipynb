{
 "cells": [
  {
   "cell_type": "code",
   "execution_count": 63,
   "metadata": {
    "collapsed": true
   },
   "outputs": [],
   "source": [
    "import wikipedia\n",
    "import re\n",
    "from wikitables import import_tables\n",
    "import bs4\n",
    "import requests\n",
    "from bs4 import BeautifulSoup, SoupStrainer\n"
   ]
  },
  {
   "cell_type": "code",
   "execution_count": 27,
   "metadata": {
    "collapsed": true
   },
   "outputs": [],
   "source": [
    "af_am_women = import_tables('List of African-American women in STEM fields') #returns a list of WikiTable objects"
   ]
  },
  {
   "cell_type": "code",
   "execution_count": 28,
   "metadata": {
    "collapsed": true
   },
   "outputs": [],
   "source": [
    "anthro_women = import_tables('List of women anthropologists')"
   ]
  },
  {
   "cell_type": "code",
   "execution_count": 29,
   "metadata": {
    "collapsed": false
   },
   "outputs": [],
   "source": [
    "am_af_names = []\n",
    "for i in range(len(af_am_women)):\n",
    "    for row in af_am_women[i].rows:\n",
    "        am_af_names.append((row['Name']))"
   ]
  },
  {
   "cell_type": "code",
   "execution_count": 30,
   "metadata": {
    "collapsed": false
   },
   "outputs": [],
   "source": [
    "anthro_names = []\n",
    "for i in range(len(anthro_women)):\n",
    "    for row in anthro_women[i].rows:\n",
    "        anthro_names.append((row['Name']))"
   ]
  },
  {
   "cell_type": "code",
   "execution_count": 31,
   "metadata": {
    "collapsed": true
   },
   "outputs": [],
   "source": [
    "\n",
    "r = requests.get(\"https://en.wikipedia.org/wiki/Wikipedia:WikiProject_Women_scientists#Did_you_know?_articles\")"
   ]
  },
  {
   "cell_type": "code",
   "execution_count": 32,
   "metadata": {
    "collapsed": true
   },
   "outputs": [],
   "source": [
    "soup = BeautifulSoup(r.content, \"html5lib\")"
   ]
  },
  {
   "cell_type": "code",
   "execution_count": 33,
   "metadata": {
    "collapsed": false
   },
   "outputs": [
    {
     "ename": "KeyError",
     "evalue": "'title'",
     "output_type": "error",
     "traceback": [
      "\u001b[0;31m---------------------------------------------------------------------------\u001b[0m",
      "\u001b[0;31mKeyError\u001b[0m                                  Traceback (most recent call last)",
      "\u001b[0;32m<ipython-input-33-bc9312412151>\u001b[0m in \u001b[0;36m<module>\u001b[0;34m()\u001b[0m\n\u001b[1;32m      1\u001b[0m \u001b[0mwomen_scientists\u001b[0m \u001b[0;34m=\u001b[0m \u001b[0;34m[\u001b[0m\u001b[0;34m]\u001b[0m\u001b[0;34m\u001b[0m\u001b[0m\n\u001b[1;32m      2\u001b[0m \u001b[0;32mfor\u001b[0m \u001b[0mdiv\u001b[0m \u001b[0;32min\u001b[0m \u001b[0msoup\u001b[0m\u001b[0;34m.\u001b[0m\u001b[0mselect\u001b[0m\u001b[0;34m(\u001b[0m\u001b[0;34m'td li'\u001b[0m\u001b[0;34m)\u001b[0m\u001b[0;34m:\u001b[0m\u001b[0;34m\u001b[0m\u001b[0m\n\u001b[0;32m----> 3\u001b[0;31m     \u001b[0mwomen_scientists\u001b[0m\u001b[0;34m.\u001b[0m\u001b[0mappend\u001b[0m\u001b[0;34m(\u001b[0m\u001b[0mdiv\u001b[0m\u001b[0;34m.\u001b[0m\u001b[0mfind\u001b[0m\u001b[0;34m(\u001b[0m\u001b[0;34m'a'\u001b[0m\u001b[0;34m)\u001b[0m\u001b[0;34m[\u001b[0m\u001b[0;34m'title'\u001b[0m\u001b[0;34m]\u001b[0m\u001b[0;34m)\u001b[0m\u001b[0;34m\u001b[0m\u001b[0m\n\u001b[0m",
      "\u001b[0;32m/Library/Frameworks/Python.framework/Versions/3.5/lib/python3.5/site-packages/bs4/element.py\u001b[0m in \u001b[0;36m__getitem__\u001b[0;34m(self, key)\u001b[0m\n\u001b[1;32m   1009\u001b[0m         \"\"\"tag[key] returns the value of the 'key' attribute for the tag,\n\u001b[1;32m   1010\u001b[0m         and throws an exception if it's not there.\"\"\"\n\u001b[0;32m-> 1011\u001b[0;31m         \u001b[0;32mreturn\u001b[0m \u001b[0mself\u001b[0m\u001b[0;34m.\u001b[0m\u001b[0mattrs\u001b[0m\u001b[0;34m[\u001b[0m\u001b[0mkey\u001b[0m\u001b[0;34m]\u001b[0m\u001b[0;34m\u001b[0m\u001b[0m\n\u001b[0m\u001b[1;32m   1012\u001b[0m \u001b[0;34m\u001b[0m\u001b[0m\n\u001b[1;32m   1013\u001b[0m     \u001b[0;32mdef\u001b[0m \u001b[0m__iter__\u001b[0m\u001b[0;34m(\u001b[0m\u001b[0mself\u001b[0m\u001b[0;34m)\u001b[0m\u001b[0;34m:\u001b[0m\u001b[0;34m\u001b[0m\u001b[0m\n",
      "\u001b[0;31mKeyError\u001b[0m: 'title'"
     ]
    }
   ],
   "source": [
    "women_scientists = []\n",
    "for div in soup.select('td li'):\n",
    "    women_scientists.append(div.find('a')['title'])"
   ]
  },
  {
   "cell_type": "code",
   "execution_count": 34,
   "metadata": {
    "collapsed": false
   },
   "outputs": [
    {
     "data": {
      "text/plain": [
       "['Mary Anning',\n",
       " 'Lilias Armstrong',\n",
       " 'Ann Bannon',\n",
       " 'Rachel Carson',\n",
       " 'Ursula Franklin',\n",
       " 'Barbara McClintock',\n",
       " 'Margaret Murray',\n",
       " 'Emmy Noether',\n",
       " 'Margaret Thatcher',\n",
       " 'Ruth Lyttle Satter Prize in Mathematics',\n",
       " 'Elizabeth Alexander (scientist)',\n",
       " 'Mary Amdur',\n",
       " 'Frances Ames',\n",
       " 'Elda Emma Anderson',\n",
       " 'Myrtle Bachelder',\n",
       " 'Jean Bartik',\n",
       " 'Ann Bishop (biologist)',\n",
       " 'Brigitte Boisselier',\n",
       " 'Ann T. Bowling',\n",
       " 'Nessa Carey',\n",
       " 'Gerty Cori',\n",
       " 'Marie Curie',\n",
       " 'Joan Curran',\n",
       " 'Ann Dunham',\n",
       " 'Natasha Falle',\n",
       " 'Frieda Fraser',\n",
       " 'Mary Dilys Glynne',\n",
       " 'Maria Goeppert-Mayer',\n",
       " 'Hypatia',\n",
       " 'Mary Jackson (engineer)',\n",
       " 'Margaret Ursula Jones',\n",
       " 'Frances Oldham Kelsey',\n",
       " 'Hina Rabbani Khar',\n",
       " 'Judith Krug',\n",
       " 'Linda Laubenstein',\n",
       " 'Henrietta Swan Leavitt',\n",
       " 'Hilde Levi',\n",
       " 'Doris Mackinnon',\n",
       " 'Helen Mayo',\n",
       " 'Frances McConnell-Mills',\n",
       " 'Agnes Fay Morgan',\n",
       " 'Rosalie Slaughter Morton',\n",
       " 'Christian Ramsay',\n",
       " 'Pamela C. Rasmussen',\n",
       " 'Dorothy P. Rice',\n",
       " 'Vera Rubin',\n",
       " 'Margaret Thatcher',\n",
       " 'Olga Tufnell',\n",
       " 'Katharine Way',\n",
       " 'Blanche Wheeler Williams',\n",
       " 'Leona Woods',\n",
       " 'Chien-Shiung Wu',\n",
       " 'Hoylande Young',\n",
       " 'Ruth Kelly',\n",
       " 'Elsie MacGill',\n",
       " 'Andrea Ablasser',\n",
       " 'Suhayya Abu-Hakima',\n",
       " 'Alice Agogino',\n",
       " 'In-Young Ahn',\n",
       " 'Fay Ajzenberg-Selove',\n",
       " 'Nora Lilian Alcock',\n",
       " 'Claudia Alexander',\n",
       " 'Elizabeth Alexander (scientist)',\n",
       " 'Alice Alldredge',\n",
       " 'Heather C. Allen',\n",
       " 'Margaret Allen',\n",
       " 'Yasmin Altwaijri',\n",
       " 'Rommie Amaro',\n",
       " 'Mary Amdur',\n",
       " 'Adelaide Ames',\n",
       " 'Frances Ames',\n",
       " 'Naomi Amir',\n",
       " 'Angelika Amon',\n",
       " 'Nalini Anantharaman',\n",
       " 'Elda Emma Anderson',\n",
       " 'Gloria Long Anderson',\n",
       " 'Sharon Anderson',\n",
       " 'Brenda Andrews',\n",
       " 'Marimba Ani',\n",
       " 'Mary Louisa Armitt',\n",
       " 'Audrey Arnott',\n",
       " 'Chieko Asakawa',\n",
       " 'Valerie Aurora',\n",
       " 'Myrtle Bachelder',\n",
       " 'Jean Bacon',\n",
       " 'Anna Baetjer',\n",
       " 'Susan Bailey',\n",
       " 'Alice Ball',\n",
       " 'Anne Elizabeth Ball',\n",
       " 'Mary Elizabeth Barber',\n",
       " 'Mary Barber (bacteriologist)',\n",
       " 'Kathrin Barboza Marquez',\n",
       " 'Ida Barney',\n",
       " 'Regina Barzilay',\n",
       " 'Dorothea Bate',\n",
       " 'Grace Bates',\n",
       " 'Sarah Bavly',\n",
       " 'Diana Beck',\n",
       " 'Lydia Becker',\n",
       " 'Kay Behrensmeyer',\n",
       " 'Ulrike Beisiegel',\n",
       " 'Anne Beloff-Chain',\n",
       " 'Katherine Belov',\n",
       " 'Elissa P. Benedek',\n",
       " 'Magdalena Bermejo',\n",
       " 'Mónica Bettencourt-Dias',\n",
       " 'Agathe L. van Beverwijk',\n",
       " 'Margarete Bieber',\n",
       " 'Rosemary Biggs',\n",
       " 'Leonora Bilger',\n",
       " 'Caroline Birley',\n",
       " 'Ann Bishop (biologist)',\n",
       " 'Beatrice Blackwood',\n",
       " 'Margaret Blackwood',\n",
       " 'Cicely Pearl Blair',\n",
       " 'Dorothy Blum',\n",
       " 'Berta Bobath',\n",
       " 'Antje Boetius',\n",
       " 'Diana Marcela Bolaños Rodriguez',\n",
       " 'Tami Bond',\n",
       " 'Idelisa Bonnelly',\n",
       " 'Louise Bourgeois Boursier',\n",
       " 'Cecilia Bouzat',\n",
       " 'Ursula Graham Bower',\n",
       " 'Ann T. Bowling',\n",
       " 'Alice Bowman',\n",
       " 'Helen Boyle',\n",
       " 'Maria Eugenia Bozzoli',\n",
       " 'Mary Katharine Brandegee',\n",
       " 'Sara Branham Matthews',\n",
       " 'Nina Starr Braunwald',\n",
       " 'Victoria Bricker',\n",
       " 'Angela Hartley Brodie',\n",
       " 'Mary Brodrick',\n",
       " 'Elizabeth M. Bryan',\n",
       " 'Louise Stevens Bryant',\n",
       " 'Lucy Meredith Bryce',\n",
       " 'Mary Buckland',\n",
       " 'Edith Bülbring',\n",
       " 'Nancy Tyson Burbidge',\n",
       " 'Gertrude Simmons Burlingham',\n",
       " 'Stephanie Burns',\n",
       " 'Nathalie Cabrol',\n",
       " 'Doris Calloway',\n",
       " 'Ella Orr Campbell',\n",
       " 'Mary Cannon',\n",
       " 'Nessa Carey',\n",
       " 'Margery C. Carlson',\n",
       " 'Janet Carr',\n",
       " 'Elena Cattaneo',\n",
       " 'Colleen Cavanaugh',\n",
       " 'June Chan',\n",
       " 'Nancy T. Chang',\n",
       " 'Xuemei Chen',\n",
       " 'Graciela Chichilnisky',\n",
       " 'Jennifer Childs-Roshak',\n",
       " 'Shya Chitaley',\n",
       " 'Carol Chomsky',\n",
       " 'Edith Claypole',\n",
       " 'Mary Strong Clemens',\n",
       " 'Edith Clements',\n",
       " 'Kim Cobb',\n",
       " 'Doris Mable Cochran',\n",
       " 'Jane Colden',\n",
       " 'Louisa Collings',\n",
       " 'Mary Collins (immunologist)',\n",
       " 'Computer Engineer Barbie',\n",
       " 'Tina Cooper',\n",
       " 'Vivienne Cassie Cooper',\n",
       " 'Catherine Corrigan',\n",
       " 'Kendra Coulter',\n",
       " 'Mary M. Crawford',\n",
       " 'Jacqueline Crawley',\n",
       " 'Aleen Cust',\n",
       " 'Marie Darby',\n",
       " 'Blanche Evans Dean',\n",
       " 'Fe del Mundo',\n",
       " 'Maude Delap',\n",
       " 'Kate Devlin',\n",
       " 'Cécile DeWitt-Morette',\n",
       " 'Liebe Sokol Diamond',\n",
       " 'Mary Cynthia Dickerson',\n",
       " 'Elaine Didier',\n",
       " 'Amalie Dietrich',\n",
       " 'Jane Dieulafoy',\n",
       " 'Judith Donath',\n",
       " 'Klara Döpel',\n",
       " 'Marie-Louise Dubreil-Jacotin',\n",
       " 'Moon Duchin',\n",
       " 'Suzanne Duigan',\n",
       " 'Ioana Dumitriu',\n",
       " 'Moira Dunbar',\n",
       " 'Rachael Dunlop',\n",
       " 'Florence Margaret Durham',\n",
       " 'Helen Dyer',\n",
       " 'Janice Eberly',\n",
       " 'Lina Eckenstein',\n",
       " 'Tilly Edinger',\n",
       " 'Cecile Hoover Edwards',\n",
       " 'Grace Eldering',\n",
       " 'Constance Ellis',\n",
       " 'Theresa Elmendorf',\n",
       " 'Victoria Joyce Ely',\n",
       " 'Gladys Anderson Emerson',\n",
       " 'Rica Erickson',\n",
       " 'Ethel Bellamy',\n",
       " 'Vera Faddeeva',\n",
       " 'Lesley Fallowfield',\n",
       " 'Adeyinka Gladys Falusi',\n",
       " 'Maxine Fassberg',\n",
       " 'Daphne Gail Fautin',\n",
       " 'Safi Faye',\n",
       " 'Olga Fedchenko',\n",
       " 'Elizabeth J. Feinler',\n",
       " 'Genevieve Grotjan Feinstein',\n",
       " 'List of female Fellows of the Royal Society',\n",
       " 'Catherine Clarke Fenselau',\n",
       " 'Angella D. Ferguson',\n",
       " 'Catherine Feuillet',\n",
       " 'Joan Feynman',\n",
       " 'Kathryn Ferguson Fink',\n",
       " 'Rita Sapiro Finkler',\n",
       " 'Mabel Purefoy FitzGerald',\n",
       " 'Christiane Floyd',\n",
       " 'Justina Ford',\n",
       " 'Laura Forster',\n",
       " 'Susannah Fox',\n",
       " 'Frieda Fraser',\n",
       " 'Helen Freedhoff',\n",
       " 'Ida Freund',\n",
       " 'Łucja Frey',\n",
       " 'Helen Fricker',\n",
       " 'Rose Gaffney',\n",
       " 'Kadambini Ganguly',\n",
       " 'Pamela L. Gay',\n",
       " 'Vera Fedorovna Gaze',\n",
       " 'Elena Georgieva',\n",
       " 'Susan Gerbi',\n",
       " 'Lydia Giberson',\n",
       " 'Jane Gibson',\n",
       " 'Cecilia Glaisher',\n",
       " 'Mary Dilys Glynne',\n",
       " 'Sulamith Goldhaber',\n",
       " 'Kathleen Gough',\n",
       " 'Alice Gray',\n",
       " 'Elizabeth Gray (fossil collector)',\n",
       " 'Irene Greif',\n",
       " 'Eliza Ann Grier',\n",
       " 'Rebecca Grinter',\n",
       " 'Nicole Grobert',\n",
       " 'Emīlija Gudriniece',\n",
       " 'Marjorie Hahn',\n",
       " 'Jane Hamilton Hall',\n",
       " 'Debora Hammond',\n",
       " 'Gillian Hanson',\n",
       " 'Tsuruko Haraguchi',\n",
       " 'Diane Harper',\n",
       " 'Rita Harradence',\n",
       " 'Grethe Rytter Hasle',\n",
       " 'Louise Hay (mathematician)',\n",
       " 'Alma Levant Hayden',\n",
       " 'Ellen Hayes',\n",
       " 'Elizabeth Lee Hazen',\n",
       " 'Leela Hazzah',\n",
       " 'He Luli',\n",
       " 'He Zehui',\n",
       " 'Julia Wilmotte Henshaw',\n",
       " 'Amy H. Herring',\n",
       " 'Nancy M. Hill',\n",
       " 'Edith Hirsch (economist)',\n",
       " 'Ada Hitchins',\n",
       " 'Ingeborg Hochmair',\n",
       " 'Lisbeth Hockey',\n",
       " 'Hanna von Hoerner',\n",
       " 'Adriana Hoffmann',\n",
       " 'Karen Holford',\n",
       " 'Mary Emilie Holmes',\n",
       " 'Marjorie G. Horning',\n",
       " 'Gabrielle Howard',\n",
       " 'Dagmar Hülsenberg',\n",
       " 'Edith Humphrey',\n",
       " 'Catherine T. Hunt',\n",
       " 'Ida Henrietta Hyde',\n",
       " 'Ida Maclean',\n",
       " 'Iota Sigma Pi',\n",
       " 'Terri Irwin',\n",
       " 'Frances Ivens',\n",
       " 'Nina Jablonski',\n",
       " 'Mary Jackson (engineer)',\n",
       " 'Nancy B. Jackson',\n",
       " 'Barbara Ward, Baroness Jackson of Lodsworth',\n",
       " 'Maria Elizabetha Jacson',\n",
       " 'Annie Nicolette Zadoks Josephus Jitta',\n",
       " 'Edith Irby Jones',\n",
       " 'Emer Jones',\n",
       " 'Lois Jones (scientist)',\n",
       " 'Margaret Ursula Jones',\n",
       " 'Sara Murray Jordan',\n",
       " 'Madeleine M. Joullié',\n",
       " 'Hilary Kahn',\n",
       " 'Katherine Sophia Kane',\n",
       " 'Selna Kaplan',\n",
       " 'Elizaveta Karamihailova',\n",
       " 'Arfa Karim',\n",
       " 'Isabella Karle',\n",
       " 'Victoria Kaspi',\n",
       " 'Kakani Katija Young',\n",
       " 'Myra Keen',\n",
       " 'Gerta Keller',\n",
       " 'Sinah Estelle Kelley',\n",
       " 'Lynne Kelly (science writer)',\n",
       " 'Lisa Kewley',\n",
       " 'Daria Khaltourina',\n",
       " 'Faiza Al-Kharafi',\n",
       " 'Judith Kingston',\n",
       " 'Elizabeth and Mary Kirby',\n",
       " 'Ruth L. Kirschstein',\n",
       " 'Eleanora Knopf',\n",
       " 'Matilda Cullen Knowles',\n",
       " 'Akiko Kobayashi (chemist)',\n",
       " 'Kong Tai Heong',\n",
       " 'Marian Koshland',\n",
       " 'Cecilia Krieger',\n",
       " 'Chika Kuroda',\n",
       " 'Marie-Louise Lachapelle',\n",
       " 'Jeanne LaDuke',\n",
       " 'Elizabeth Laird (physicist)',\n",
       " 'Emily Lakdawalla',\n",
       " 'Jeanne Lampl-de Groot',\n",
       " 'Cynthia Larive',\n",
       " 'June Lascelles',\n",
       " 'Vida Latham',\n",
       " 'Abbie Lathrop',\n",
       " 'Linda Laubenstein',\n",
       " 'Vera Lebedeva',\n",
       " 'Marie Lebour',\n",
       " 'Cynthia B. Lee',\n",
       " 'Susan Leeman',\n",
       " 'Ruth Lehmann',\n",
       " 'Marguerite Lehr',\n",
       " 'Lei Jieqiong',\n",
       " 'Dorothea Leighton',\n",
       " 'Sara Plummer Lemmon',\n",
       " 'Hilde Levi',\n",
       " 'Margaret Reed Lewis',\n",
       " 'Alice H. Lichtenstein',\n",
       " 'Maria Carmela Lico',\n",
       " 'Lidija Liepiņa',\n",
       " 'Gloria Lim',\n",
       " 'Maria von Linden',\n",
       " 'Patricia Lindop',\n",
       " 'Mariangela Lisanti',\n",
       " 'Astrid Løken',\n",
       " 'Myra Adele Logan',\n",
       " 'Yueh-Lin Loo',\n",
       " 'Marsha Looper',\n",
       " 'Mary Loveless',\n",
       " 'Catherine A. Lozupone',\n",
       " 'Martha L. Ludwig',\n",
       " 'Hilda Lyon',\n",
       " 'Rachel MacNair',\n",
       " 'Pauline Gracia Beery Mack',\n",
       " 'Doris Mackinnon',\n",
       " 'Nobuyo Maeda',\n",
       " 'Eleanor Maguire',\n",
       " 'Joanne M. Maguire',\n",
       " 'Julie Makani',\n",
       " 'Shirley M. Malcom',\n",
       " 'Averil Mansfield',\n",
       " 'Nancy Marcus',\n",
       " 'Ilya Espino de Marotta',\n",
       " 'Loretta Marron',\n",
       " 'Yoky Matsuoka',\n",
       " 'Kiran Mazumdar-Shaw',\n",
       " 'Anna Marguerite McCann',\n",
       " 'Naomi McClure-Griffiths',\n",
       " 'Frances McConnell-Mills',\n",
       " 'Mollie McGeown',\n",
       " 'Frances Gertrude McGill',\n",
       " 'Marcia McNutt',\n",
       " 'Grace Medes',\n",
       " 'Annie Meinertzhagen',\n",
       " 'Vijaya Melnick',\n",
       " 'Mary Philadelphia Merrifield',\n",
       " 'Johanna Mestorf',\n",
       " 'Marie Meurdrac',\n",
       " 'Ynes Mexia',\n",
       " 'Margaret Meyer',\n",
       " 'Beatrice Mintz',\n",
       " 'Hannah Monyer',\n",
       " 'Willie Hobbs Moore',\n",
       " 'Agnes Fay Morgan',\n",
       " 'Jenny Morton',\n",
       " 'Julia Morton',\n",
       " 'Christine Murrell',\n",
       " 'Bangalore Nagarathnamma',\n",
       " 'Pia Nalli',\n",
       " 'Eva-Maria Neher',\n",
       " 'Mary Frances Winston Newson',\n",
       " 'Margaret Newton',\n",
       " 'Ann C. Noble',\n",
       " 'Emmy Noether',\n",
       " 'Patricia Numann',\n",
       " 'Yin Yin Nwe',\n",
       " 'Tebello Nyokong',\n",
       " \"Margaret O'Flynn\",\n",
       " \"Siobhan O'Sullivan\",\n",
       " 'Utako Okamoto',\n",
       " 'Melahat Okuyan',\n",
       " 'Ida Shepard Oldroyd',\n",
       " 'Elaine Oran',\n",
       " 'Elisa Oricchio',\n",
       " 'Daphne Osborne',\n",
       " 'Hinke Osinga',\n",
       " 'Helen Matusevich Oujesky',\n",
       " 'May Owen',\n",
       " 'Bertha Parker Pallan',\n",
       " 'Mary-Lou Pardue',\n",
       " 'Mary Parke',\n",
       " 'Ivy Parker',\n",
       " 'Delphine Parrott',\n",
       " 'Edith Marion Patch',\n",
       " 'Jennie Patrick',\n",
       " 'Louise Pearce',\n",
       " 'Dorothea Pertz',\n",
       " 'Mary Pickford (physiologist)',\n",
       " 'Vivian Pinn',\n",
       " 'Judith Pipher',\n",
       " 'Antoinette Pirie',\n",
       " 'Rosalind Pitt-Rivers',\n",
       " 'Terry Plank',\n",
       " 'E. Gail de Planque',\n",
       " 'Beryl Platt, Baroness Platt of Writtle',\n",
       " 'Ina Plug',\n",
       " 'Isis Pogson',\n",
       " 'Vera Yevstafievna Popova',\n",
       " 'Helen Porter',\n",
       " 'Elizabeth Press',\n",
       " 'Kathleen I. Pritchard',\n",
       " 'Qian Xiuling',\n",
       " 'Ami Radunskaya',\n",
       " 'Estelle Ramey',\n",
       " 'Christian Ramsay',\n",
       " 'Kamal Ranadive',\n",
       " 'Lucie Randoin',\n",
       " 'Darshan Ranganathan',\n",
       " 'Mary J. Rathbun',\n",
       " 'Dixy Lee Ray',\n",
       " 'Louise Reiss',\n",
       " 'Ellen Swallow Richards',\n",
       " 'Jane S. Richardson',\n",
       " 'Jennifer Richeson',\n",
       " 'Emily Riehl',\n",
       " 'Charlotte Roberts',\n",
       " 'Eslanda Goode Robeson',\n",
       " 'Frieda Robscheit-Robbins',\n",
       " 'Sibyl M. Rock',\n",
       " 'Lorene Rogers',\n",
       " 'Judith Roitman',\n",
       " 'Anna Curtenius Roosevelt',\n",
       " 'Ora Mendelsohn Rosen',\n",
       " 'Lisa Rossbacher',\n",
       " 'Linda Preiss Rothschild',\n",
       " 'Anne Rudloe',\n",
       " 'Ruth Lyttle Satter Prize in Mathematics',\n",
       " 'Una M. Ryan',\n",
       " 'Una Ryan',\n",
       " 'Penny Sackett',\n",
       " 'Omowunmi Sadik',\n",
       " 'Naomi Sager',\n",
       " 'Charlotte Sahl-Madsen',\n",
       " 'Annette Salmeen',\n",
       " 'Zdenka Samish',\n",
       " 'Katherine Sanford',\n",
       " 'Karimat El-Sayed',\n",
       " 'Velma Scantlebury',\n",
       " 'Ruth Schmidt',\n",
       " 'Norah Schuster',\n",
       " 'Neena Schwartz',\n",
       " 'Olive Scott',\n",
       " 'Josefa Celsa Señaris',\n",
       " 'Marjorie Senechal',\n",
       " 'Mary Lura Sherrill',\n",
       " 'Margot Shiner',\n",
       " 'Molly Shoichet',\n",
       " 'Sofia Simmonds',\n",
       " 'Audrey Smith',\n",
       " 'Honor Smith',\n",
       " 'May Smith (psychologist)',\n",
       " 'Margaret C. Snyder',\n",
       " 'Alicia M. Soderberg',\n",
       " 'Kamala Sohonie',\n",
       " 'Esther Somerfeld-Ziskind',\n",
       " 'Nancy Sottos',\n",
       " 'Doris Huestis Speirs',\n",
       " 'Sarah Spiegel',\n",
       " 'Frances Stackhouse Acton',\n",
       " 'Gigliola Staffilani',\n",
       " 'Zvezdelina Stankova',\n",
       " 'Marjory Stephenson',\n",
       " 'Greta Stevenson',\n",
       " 'Lucille Farrier Stickel',\n",
       " 'Ragnhild Sundby',\n",
       " 'Louise Nixon Sutton',\n",
       " 'Thyrsa Frazier Svager',\n",
       " 'Jean Swank',\n",
       " 'Marcia P. Sward',\n",
       " 'Mary Hamilton Swindler',\n",
       " 'Lubna Tahtamouni',\n",
       " 'Riin Tamm',\n",
       " 'Salinee Tavaranan',\n",
       " 'Grace Oladunni Taylor',\n",
       " 'Emily Temple-Wood',\n",
       " 'Audrey Terras',\n",
       " 'Bess Thomas',\n",
       " 'Ethel Thomas',\n",
       " 'Sydney Mary Thompson',\n",
       " 'Josephine Tilden',\n",
       " 'Samantha Tross',\n",
       " 'Elizabeth Truswell',\n",
       " 'Michiyo Tsujimura',\n",
       " 'Laurence Tubiana',\n",
       " 'Olga Tufnell',\n",
       " 'Kay Tye',\n",
       " 'Meena Upadhyaya',\n",
       " 'Judith Vaitukaitis',\n",
       " 'Hannah Valantine',\n",
       " 'Elinor Frances Vallentin',\n",
       " 'Gertrude Van Wagenen',\n",
       " 'Karen Vogtmann',\n",
       " 'Karen Vousden',\n",
       " 'Marvalee Wake',\n",
       " 'Carden Wallace',\n",
       " 'Ruth Sawtell Wallis',\n",
       " 'Janet Watson',\n",
       " 'Katharine Way',\n",
       " 'Gene Weltfish',\n",
       " 'Amanda Weltman',\n",
       " 'Zena Werb',\n",
       " 'Nancy Wexler',\n",
       " 'Anna Johnson Pell Wheeler',\n",
       " 'Mary Cabot Wheelwright',\n",
       " 'Mary Anne Whitby',\n",
       " 'Inez Whipple Wilder',\n",
       " 'Mary Louisa Willard',\n",
       " 'Blanche Wheeler Williams',\n",
       " 'Caroline Ransom Williams',\n",
       " 'Emily Willingham',\n",
       " 'Margaret Windeyer',\n",
       " 'Evelyn M. Witkin',\n",
       " 'Sidney C. Wolff',\n",
       " 'Bencie Woll',\n",
       " 'Constance Wood',\n",
       " 'Leona Woods',\n",
       " 'Beatrice Worsley',\n",
       " 'Chien-Shiung Wu',\n",
       " 'Jane Wynne',\n",
       " 'Vivian Wing-Wah Yam',\n",
       " 'Kono Yasui',\n",
       " 'Josephine Silone Yates',\n",
       " 'Ye Shuhua',\n",
       " 'Lesley Yellowlees',\n",
       " 'Hoylande Young',\n",
       " 'Myeong-Hee Yu',\n",
       " 'Toshiko Yuasa',\n",
       " 'Yue Qi',\n",
       " 'Lixia Zhang',\n",
       " 'Christiane Ziegler',\n",
       " 'Huda Zoghbi',\n",
       " 'Margarete Zuelzer',\n",
       " 'Laurel van der Wal']"
      ]
     },
     "execution_count": 34,
     "metadata": {},
     "output_type": "execute_result"
    }
   ],
   "source": [
    "women_scientists"
   ]
  },
  {
   "cell_type": "code",
   "execution_count": 55,
   "metadata": {
    "collapsed": true
   },
   "outputs": [],
   "source": [
    "all_women = women_scientists + anthro_names + af_am_women"
   ]
  },
  {
   "cell_type": "code",
   "execution_count": 57,
   "metadata": {
    "collapsed": false
   },
   "outputs": [
    {
     "name": "stdout",
     "output_type": "stream",
     "text": [
      "1401\n",
      "['Mary Anning', 'Lilias Armstrong', 'Ann Bannon', 'Rachel Carson', 'Ursula Franklin', 'Barbara McClintock', 'Margaret Murray', 'Emmy Noether', 'Margaret Thatcher', 'Ruth Lyttle Satter Prize in Mathematics', 'Elizabeth Alexander (scientist)', 'Mary Amdur', 'Frances Ames', 'Elda Emma Anderson', 'Myrtle Bachelder', 'Jean Bartik', 'Ann Bishop (biologist)', 'Brigitte Boisselier', 'Ann T. Bowling', 'Nessa Carey', 'Gerty Cori', 'Marie Curie', 'Joan Curran', 'Ann Dunham', 'Natasha Falle', 'Frieda Fraser', 'Mary Dilys Glynne', 'Maria Goeppert-Mayer', 'Hypatia', 'Mary Jackson (engineer)', 'Margaret Ursula Jones', 'Frances Oldham Kelsey', 'Hina Rabbani Khar', 'Judith Krug', 'Linda Laubenstein', 'Henrietta Swan Leavitt', 'Hilde Levi', 'Doris Mackinnon', 'Helen Mayo', 'Frances McConnell-Mills', 'Agnes Fay Morgan', 'Rosalie Slaughter Morton', 'Christian Ramsay', 'Pamela C. Rasmussen', 'Dorothy P. Rice', 'Vera Rubin', 'Margaret Thatcher', 'Olga Tufnell', 'Katharine Way', 'Blanche Wheeler Williams', 'Leona Woods', 'Chien-Shiung Wu', 'Hoylande Young', 'Ruth Kelly', 'Elsie MacGill', 'Andrea Ablasser', 'Suhayya Abu-Hakima', 'Alice Agogino', 'In-Young Ahn', 'Fay Ajzenberg-Selove', 'Nora Lilian Alcock', 'Claudia Alexander', 'Elizabeth Alexander (scientist)', 'Alice Alldredge', 'Heather C. Allen', 'Margaret Allen', 'Yasmin Altwaijri', 'Rommie Amaro', 'Mary Amdur', 'Adelaide Ames', 'Frances Ames', 'Naomi Amir', 'Angelika Amon', 'Nalini Anantharaman', 'Elda Emma Anderson', 'Gloria Long Anderson', 'Sharon Anderson', 'Brenda Andrews', 'Marimba Ani', 'Mary Louisa Armitt', 'Audrey Arnott', 'Chieko Asakawa', 'Valerie Aurora', 'Myrtle Bachelder', 'Jean Bacon', 'Anna Baetjer', 'Susan Bailey', 'Alice Ball', 'Anne Elizabeth Ball', 'Mary Elizabeth Barber', 'Mary Barber (bacteriologist)', 'Kathrin Barboza Marquez', 'Ida Barney', 'Regina Barzilay', 'Dorothea Bate', 'Grace Bates', 'Sarah Bavly', 'Diana Beck', 'Lydia Becker', 'Kay Behrensmeyer', 'Ulrike Beisiegel', 'Anne Beloff-Chain', 'Katherine Belov', 'Elissa P. Benedek', 'Magdalena Bermejo', 'Mónica Bettencourt-Dias', 'Agathe L. van Beverwijk', 'Margarete Bieber', 'Rosemary Biggs', 'Leonora Bilger', 'Caroline Birley', 'Ann Bishop (biologist)', 'Beatrice Blackwood', 'Margaret Blackwood', 'Cicely Pearl Blair', 'Dorothy Blum', 'Berta Bobath', 'Antje Boetius', 'Diana Marcela Bolaños Rodriguez', 'Tami Bond', 'Idelisa Bonnelly', 'Louise Bourgeois Boursier', 'Cecilia Bouzat', 'Ursula Graham Bower', 'Ann T. Bowling', 'Alice Bowman', 'Helen Boyle', 'Maria Eugenia Bozzoli', 'Mary Katharine Brandegee', 'Sara Branham Matthews', 'Nina Starr Braunwald', 'Victoria Bricker', 'Angela Hartley Brodie', 'Mary Brodrick', 'Elizabeth M. Bryan', 'Louise Stevens Bryant', 'Lucy Meredith Bryce', 'Mary Buckland', 'Edith Bülbring', 'Nancy Tyson Burbidge', 'Gertrude Simmons Burlingham', 'Stephanie Burns', 'Nathalie Cabrol', 'Doris Calloway', 'Ella Orr Campbell', 'Mary Cannon', 'Nessa Carey', 'Margery C. Carlson', 'Janet Carr', 'Elena Cattaneo', 'Colleen Cavanaugh', 'June Chan', 'Nancy T. Chang', 'Xuemei Chen', 'Graciela Chichilnisky', 'Jennifer Childs-Roshak', 'Shya Chitaley', 'Carol Chomsky', 'Edith Claypole', 'Mary Strong Clemens', 'Edith Clements', 'Kim Cobb', 'Doris Mable Cochran', 'Jane Colden', 'Louisa Collings', 'Mary Collins (immunologist)', 'Computer Engineer Barbie', 'Tina Cooper', 'Vivienne Cassie Cooper', 'Catherine Corrigan', 'Kendra Coulter', 'Mary M. Crawford', 'Jacqueline Crawley', 'Aleen Cust', 'Marie Darby', 'Blanche Evans Dean', 'Fe del Mundo', 'Maude Delap', 'Kate Devlin', 'Cécile DeWitt-Morette', 'Liebe Sokol Diamond', 'Mary Cynthia Dickerson', 'Elaine Didier', 'Amalie Dietrich', 'Jane Dieulafoy', 'Judith Donath', 'Klara Döpel', 'Marie-Louise Dubreil-Jacotin', 'Moon Duchin', 'Suzanne Duigan', 'Ioana Dumitriu', 'Moira Dunbar', 'Rachael Dunlop', 'Florence Margaret Durham', 'Helen Dyer', 'Janice Eberly', 'Lina Eckenstein', 'Tilly Edinger', 'Cecile Hoover Edwards', 'Grace Eldering', 'Constance Ellis', 'Theresa Elmendorf', 'Victoria Joyce Ely', 'Gladys Anderson Emerson', 'Rica Erickson', 'Ethel Bellamy', 'Vera Faddeeva', 'Lesley Fallowfield', 'Adeyinka Gladys Falusi', 'Maxine Fassberg', 'Daphne Gail Fautin', 'Safi Faye', 'Olga Fedchenko', 'Elizabeth J. Feinler', 'Genevieve Grotjan Feinstein', 'List of female Fellows of the Royal Society', 'Catherine Clarke Fenselau', 'Angella D. Ferguson', 'Catherine Feuillet', 'Joan Feynman', 'Kathryn Ferguson Fink', 'Rita Sapiro Finkler', 'Mabel Purefoy FitzGerald', 'Christiane Floyd', 'Justina Ford', 'Laura Forster', 'Susannah Fox', 'Frieda Fraser', 'Helen Freedhoff', 'Ida Freund', 'Łucja Frey', 'Helen Fricker', 'Rose Gaffney', 'Kadambini Ganguly', 'Pamela L. Gay', 'Vera Fedorovna Gaze', 'Elena Georgieva', 'Susan Gerbi', 'Lydia Giberson', 'Jane Gibson', 'Cecilia Glaisher', 'Mary Dilys Glynne', 'Sulamith Goldhaber', 'Kathleen Gough', 'Alice Gray', 'Elizabeth Gray (fossil collector)', 'Irene Greif', 'Eliza Ann Grier', 'Rebecca Grinter', 'Nicole Grobert', 'Emīlija Gudriniece', 'Marjorie Hahn', 'Jane Hamilton Hall', 'Debora Hammond', 'Gillian Hanson', 'Tsuruko Haraguchi', 'Diane Harper', 'Rita Harradence', 'Grethe Rytter Hasle', 'Louise Hay (mathematician)', 'Alma Levant Hayden', 'Ellen Hayes', 'Elizabeth Lee Hazen', 'Leela Hazzah', 'He Luli', 'He Zehui', 'Julia Wilmotte Henshaw', 'Amy H. Herring', 'Nancy M. Hill', 'Edith Hirsch (economist)', 'Ada Hitchins', 'Ingeborg Hochmair', 'Lisbeth Hockey', 'Hanna von Hoerner', 'Adriana Hoffmann', 'Karen Holford', 'Mary Emilie Holmes', 'Marjorie G. Horning', 'Gabrielle Howard', 'Dagmar Hülsenberg', 'Edith Humphrey', 'Catherine T. Hunt', 'Ida Henrietta Hyde', 'Ida Maclean', 'Iota Sigma Pi', 'Terri Irwin', 'Frances Ivens', 'Nina Jablonski', 'Mary Jackson (engineer)', 'Nancy B. Jackson', 'Barbara Ward, Baroness Jackson of Lodsworth', 'Maria Elizabetha Jacson', 'Annie Nicolette Zadoks Josephus Jitta', 'Edith Irby Jones', 'Emer Jones', 'Lois Jones (scientist)', 'Margaret Ursula Jones', 'Sara Murray Jordan', 'Madeleine M. Joullié', 'Hilary Kahn', 'Katherine Sophia Kane', 'Selna Kaplan', 'Elizaveta Karamihailova', 'Arfa Karim', 'Isabella Karle', 'Victoria Kaspi', 'Kakani Katija Young', 'Myra Keen', 'Gerta Keller', 'Sinah Estelle Kelley', 'Lynne Kelly (science writer)', 'Lisa Kewley', 'Daria Khaltourina', 'Faiza Al-Kharafi', 'Judith Kingston', 'Elizabeth and Mary Kirby', 'Ruth L. Kirschstein', 'Eleanora Knopf', 'Matilda Cullen Knowles', 'Akiko Kobayashi (chemist)', 'Kong Tai Heong', 'Marian Koshland', 'Cecilia Krieger', 'Chika Kuroda', 'Marie-Louise Lachapelle', 'Jeanne LaDuke', 'Elizabeth Laird (physicist)', 'Emily Lakdawalla', 'Jeanne Lampl-de Groot', 'Cynthia Larive', 'June Lascelles', 'Vida Latham', 'Abbie Lathrop', 'Linda Laubenstein', 'Vera Lebedeva', 'Marie Lebour', 'Cynthia B. Lee', 'Susan Leeman', 'Ruth Lehmann', 'Marguerite Lehr', 'Lei Jieqiong', 'Dorothea Leighton', 'Sara Plummer Lemmon', 'Hilde Levi', 'Margaret Reed Lewis', 'Alice H. Lichtenstein', 'Maria Carmela Lico', 'Lidija Liepiņa', 'Gloria Lim', 'Maria von Linden', 'Patricia Lindop', 'Mariangela Lisanti', 'Astrid Løken', 'Myra Adele Logan', 'Yueh-Lin Loo', 'Marsha Looper', 'Mary Loveless', 'Catherine A. Lozupone', 'Martha L. Ludwig', 'Hilda Lyon', 'Rachel MacNair', 'Pauline Gracia Beery Mack', 'Doris Mackinnon', 'Nobuyo Maeda', 'Eleanor Maguire', 'Joanne M. Maguire', 'Julie Makani', 'Shirley M. Malcom', 'Averil Mansfield', 'Nancy Marcus', 'Ilya Espino de Marotta', 'Loretta Marron', 'Yoky Matsuoka', 'Kiran Mazumdar-Shaw', 'Anna Marguerite McCann', 'Naomi McClure-Griffiths', 'Frances McConnell-Mills', 'Mollie McGeown', 'Frances Gertrude McGill', 'Marcia McNutt', 'Grace Medes', 'Annie Meinertzhagen', 'Vijaya Melnick', 'Mary Philadelphia Merrifield', 'Johanna Mestorf', 'Marie Meurdrac', 'Ynes Mexia', 'Margaret Meyer', 'Beatrice Mintz', 'Hannah Monyer', 'Willie Hobbs Moore', 'Agnes Fay Morgan', 'Jenny Morton', 'Julia Morton', 'Christine Murrell', 'Bangalore Nagarathnamma', 'Pia Nalli', 'Eva-Maria Neher', 'Mary Frances Winston Newson', 'Margaret Newton', 'Ann C. Noble', 'Emmy Noether', 'Patricia Numann', 'Yin Yin Nwe', 'Tebello Nyokong', \"Margaret O'Flynn\", \"Siobhan O'Sullivan\", 'Utako Okamoto', 'Melahat Okuyan', 'Ida Shepard Oldroyd', 'Elaine Oran', 'Elisa Oricchio', 'Daphne Osborne', 'Hinke Osinga', 'Helen Matusevich Oujesky', 'May Owen', 'Bertha Parker Pallan', 'Mary-Lou Pardue', 'Mary Parke', 'Ivy Parker', 'Delphine Parrott', 'Edith Marion Patch', 'Jennie Patrick', 'Louise Pearce', 'Dorothea Pertz', 'Mary Pickford (physiologist)', 'Vivian Pinn', 'Judith Pipher', 'Antoinette Pirie', 'Rosalind Pitt-Rivers', 'Terry Plank', 'E. Gail de Planque', 'Beryl Platt, Baroness Platt of Writtle', 'Ina Plug', 'Isis Pogson', 'Vera Yevstafievna Popova', 'Helen Porter', 'Elizabeth Press', 'Kathleen I. Pritchard', 'Qian Xiuling', 'Ami Radunskaya', 'Estelle Ramey', 'Christian Ramsay', 'Kamal Ranadive', 'Lucie Randoin', 'Darshan Ranganathan', 'Mary J. Rathbun', 'Dixy Lee Ray', 'Louise Reiss', 'Ellen Swallow Richards', 'Jane S. Richardson', 'Jennifer Richeson', 'Emily Riehl', 'Charlotte Roberts', 'Eslanda Goode Robeson', 'Frieda Robscheit-Robbins', 'Sibyl M. Rock', 'Lorene Rogers', 'Judith Roitman', 'Anna Curtenius Roosevelt', 'Ora Mendelsohn Rosen', 'Lisa Rossbacher', 'Linda Preiss Rothschild', 'Anne Rudloe', 'Ruth Lyttle Satter Prize in Mathematics', 'Una M. Ryan', 'Una Ryan', 'Penny Sackett', 'Omowunmi Sadik', 'Naomi Sager', 'Charlotte Sahl-Madsen', 'Annette Salmeen', 'Zdenka Samish', 'Katherine Sanford', 'Karimat El-Sayed', 'Velma Scantlebury', 'Ruth Schmidt', 'Norah Schuster', 'Neena Schwartz', 'Olive Scott', 'Josefa Celsa Señaris', 'Marjorie Senechal', 'Mary Lura Sherrill', 'Margot Shiner', 'Molly Shoichet', 'Sofia Simmonds', 'Audrey Smith', 'Honor Smith', 'May Smith (psychologist)', 'Margaret C. Snyder', 'Alicia M. Soderberg', 'Kamala Sohonie', 'Esther Somerfeld-Ziskind', 'Nancy Sottos', 'Doris Huestis Speirs', 'Sarah Spiegel', 'Frances Stackhouse Acton', 'Gigliola Staffilani', 'Zvezdelina Stankova', 'Marjory Stephenson', 'Greta Stevenson', 'Lucille Farrier Stickel', 'Ragnhild Sundby', 'Louise Nixon Sutton', 'Thyrsa Frazier Svager', 'Jean Swank', 'Marcia P. Sward', 'Mary Hamilton Swindler', 'Lubna Tahtamouni', 'Riin Tamm', 'Salinee Tavaranan', 'Grace Oladunni Taylor', 'Emily Temple-Wood', 'Audrey Terras', 'Bess Thomas', 'Ethel Thomas', 'Sydney Mary Thompson', 'Josephine Tilden', 'Samantha Tross', 'Elizabeth Truswell', 'Michiyo Tsujimura', 'Laurence Tubiana', 'Olga Tufnell', 'Kay Tye', 'Meena Upadhyaya', 'Judith Vaitukaitis', 'Hannah Valantine', 'Elinor Frances Vallentin', 'Gertrude Van Wagenen', 'Karen Vogtmann', 'Karen Vousden', 'Marvalee Wake', 'Carden Wallace', 'Ruth Sawtell Wallis', 'Janet Watson', 'Katharine Way', 'Gene Weltfish', 'Amanda Weltman', 'Zena Werb', 'Nancy Wexler', 'Anna Johnson Pell Wheeler', 'Mary Cabot Wheelwright', 'Mary Anne Whitby', 'Inez Whipple Wilder', 'Mary Louisa Willard', 'Blanche Wheeler Williams', 'Caroline Ransom Williams', 'Emily Willingham', 'Margaret Windeyer', 'Evelyn M. Witkin', 'Sidney C. Wolff', 'Bencie Woll', 'Constance Wood', 'Leona Woods', 'Beatrice Worsley', 'Chien-Shiung Wu', 'Jane Wynne', 'Vivian Wing-Wah Yam', 'Kono Yasui', 'Josephine Silone Yates', 'Ye Shuhua', 'Lesley Yellowlees', 'Hoylande Young', 'Myeong-Hee Yu', 'Toshiko Yuasa', 'Yue Qi', 'Lixia Zhang', 'Christiane Ziegler', 'Huda Zoghbi', 'Margarete Zuelzer', 'Laurel van der Wal', Adeline Masquelier, Adrienne L. Kaeppler, Agnes Conway, Agnès Humbert, Aihwa Ong, Aileen Fox, Alana Cordy-Collins, Alanah Woody, Alba Zaluar, Aleksandra Dunin-Wąsowicz, Alessandra Melucco Vaccaro, Alette Schreiner, Alexandra David-Néel, Alice Beck Kehoe, Alice Cunningham Fletcher, Alice E. Gillington, Alice G. Dewey, Alice Kober, Alice Mossie Brues, Alice Roberts, Alicia P. Magos, Alison Galloway, Alison Spedding, Alison Wylie, Alla Ter-Sarkisiants, Amanda Adams, Amber Case, Amelia Edwards, Amélie Kuhrt, Ana María Groot, Angana P. Chatterji, Aninhalli Vasavi, Anita Álvarez de Williams, Anita Brenner, Ann Dunham, Ann Fienup-Riordan, Ann Peoples, Anna Curtenius Roosevelt, Anna Czekanowska-Kuklińska, Anna Lomax Wood, Anna Lou Dehavenon, Anna Maria Bietti Sestieri, Anna Maria Di Sciullo, Anna Pujol Puigvehi, Anna Sadurska, Anna Tsing, Annah Robinson Watson, Annamaria Orla-Bukowska, Anne Allison, Anne Chapman, Anne Dambricourt-Malassé, Anne Johnson, Anne Macaulay, Anne Salmond, Anne Stine Ingstad, Anne Zeller, Annemarie Mol, Annette Laming-Emperaire, Annette Weiner, Annie Brisset, Annie Marion MacLean, Annie York, Antonia Arslan, Antonia Mills, Aud Talle, Audrey Butt Colson, Audrey Meaney, Audrey Richards, Audrey Smedley, Ayten Aydın, Bambi Schieffelin, Barbara Freire-Marreco, Barbara Harrell-Bond, Barbara J. Heath, Barbara Myerhoff, Barbara Rylko-Bauer, Barbara Smuts, Beatrice Blackwood, Beatrice Blyth Whiting, Beatrice De Cardi, Beatrice Medicine, Berit Wallenberg, Bertha Parker Pallan, Bertha Phillpotts, Beryl Esembe, Betsy Bryan, Bettina Hauge, Betty Meggers, Bianca Williams, Birgit Zotz, Birgitta Hoffmann, Birutė Galdikas, Blanche Wheeler Williams, Bonnie Nardi, Brackette Williams, Bridget Allchin, Brigitte Bönisch-Brednich, Brit Solli, Brunilde Sismondo Ridgway, Butet Manurung, C.H.E. Haspels, Camilla Wedgwood, Carenza Lewis, Carla Obermeyer, Carmel Schrire, Carmen Baroja, Carmen Guarini, Carobeth Laird, Carol Breckenridge, Carol Delaney, Carol J. Greenhouse, Carol Laderman, Carol Meyers, Carol R. Ember, Carole C. Noon, Caroline Furness Jayne, Caroline Humphrey, Caroline Malone, Caroline Moser, Caroline Wilkinson, Carolyn Fluehr-Lobban, Carolyn Hamilton, Carolyn M. Heighway, Carolyn Sargent, Caterina Magni, Catharine McClellan, Catherine Berndt, Catherine L. Besteman, Catherine Lutz, Catherine Morgan, Catherine Namono, Catherine S. Fowler, Cathrine Hasse, Cathy Small, Cezaria Baudouin de Courtenay Ehrenkreutz Jędrzejewiczowa, Chantal Boulanger, Charlotte Booth, Charlotte Gower Chapman, Charlotte Lewis, Charlotte Roberts, Charlotte Viall Wiser, Chie Nakane, Christian Maclagan, Christiane Desroches Noblecourt, Christine Niederberger Betton, Chuni Kotal, Cindy Cruz, Claire Barratt, Claire Smith, Clara Passafari, Clare Selgin Wolfowitz, Clarisa Hardy, Claudia Roden, Claudia Zaslavsky, Clea Koff, Clémence Royer, Clementina Panella, Cleo Odzer, Constance Cox, Constance Goddard DuBois, Constanza Ceruti, Cora DuBois, Courtney Angela Brkic, Cristina Rémond, Cynthia Beall, Cynthia Irwin-Williams, Daisy Bates, Danielle Stordeur, Danijela Stefanović, Daphne Berdahl, Daria Khaltourina, Dawn Atkins, Dawn Prince-Hughes, Dean Falk, Débora Diniz, Deborah Fouts, Deborah Hyde, Deborah M. Pearsall, Denise Schmandt-Besserat, Dia Cha, Dian Fossey, Diana Kirkbride, Diane Barwick, Diane Bell, Diane Massam, Diane Zaino Chase, Dina Lévi-Strauss, Dolores Piperno, Donna Gerdts, Dorinne K. Kondo, Doris Bartholomew, Doris Zemurray Stone, Dorothea Bate, Dorothea Bleek, Dorothy Burr Thompson, Dorothy D. Lee, Dorothy E. Smith, Dorothy Garrod, Dorothy Jean Ray, Dorothy King, Dorothy Way Eggan, Dounia Bouzar, E. S. Drower, Edith Durham, Edith Porada, Edith Turner, Eilat Mazar, Eileen Krige, Eleanor Leacock, Eleanor Myers, Eleanor Robson, Elena Berezovich, Elena Efimovna Kuzmina, Eleni Konsolaki, Eliane Karp, Elinor Ochs, Elisabeth Croll, Elizabeth, Elizabeth Brumfiel, Elizabeth Burgos, Elizabeth Colson, Elizabeth Cowper, Elizabeth Fentress, Elizabeth French, Elizabeth Grant, Elizabeth Jacobs, Elizabeth Kapu'uwailani Lindsey, Elizabeth Marshall Thomas, Elizabeth Mertz, Elizabeth Spillius, Elizabeth Thomas, Elizabeth Warnock Fernea, Elizabeth Wayland Barber, Ella Cara Deloria, Ella Sophia Armitage, Ellen Dissanayake, Elli Köngäs-Maranda, Elsie Clews Parsons, Emeline Hill Richardson, Emiko Ohnuki-Tierney, Emiliana Cruz, Emilie Demant Hatt, Emily Martin, Emily Vermeule, Erica Lehrer, Erika Bourguignon, Erika Simon, Erminie Wheeler-Voegelin, Erminnie A. Smith, Erna Gunther, Ernestine Friedl, Eslanda Goode Robeson, Estelle Lazer, Esther Boise Van Deman, Esther de Pommery, Esther Hermitte, Esther Newton, Esther Schiff Goldfrank, Ethel Alpenfels, Ethel Bristowe, Eugenie Scott, Eugenie Sellers Strong, Eva Justin, Éva Pócs, Eva Verbitsky Hunt, Evelyn Byrd Harrison, Ewa Klonowski, Fadwa El Guindi, Faina Petryakova, Fatimah Jackson, Faye Ginsburg, Felicitas Goodman, Fiona Caroline Graham, Florence Connolly Shipek, Florence Hawley, Florinda Donner, France Martineau, France Winddance Twine, Frances D'Souza, Baroness D'Souza, Frances Densmore, Frances J. White, Frances Toor, Francine Saillant, Françoise Claustre, Françoise Henry, Françoise Héritier, Françoise Pommaret, Freda Ahenakew, Frederica de Laguna, Frédérique Apffel-Marglin, Fuambai Ahmadu, Gabriella Coleman, Gail M. Kelly, Galia Sabar, Galina Lozko, Galina Starovoytova, Gayatri Reddy, Gayle J. Fritz, Gayle Rubin, Gene Weltfish, Genevieve Bell, Georgina Born, Geraldine Finlayson, Geraldine Harris, Germaine Dieterlen, Germaine Tillion, Gertrud Pätsch, Gertrude Bell, Gertrude Blom, Gertrude Caton–Thompson, Gertrude M. Godden, Gina Athena Ulysse, Ginette Aumassip, Gisela Bleibtreu-Ehrenberg, Gisela Richter, Gladys Reichard, Gladys Tantaquidgeon, Grace Crowfoot, Grete Mostny, Gudrun Corvinus, Guillemette Andreu, Halet Çambel, Halleh Ghorashi, Hallgerður Gísladóttir, Hannah Landecker, Hannah Marie Wormington, Harriet Boyd-Hawes, Harriet Cosgrove, Heather Botting, Heather Burke, Heather Horst, Heather Hurst, Heather Levi, Heather McKillop, Heather Pringle, Heleen Sancisi Weerdenburg, Helen Codere, Helen Fisher, Helen Geake, Helen Leach, Helen Perlstein Pollard, Helena Hamerow, Helena Wulff, Helene Hagan, Helene J. Kantor, Henrietta Moore, Henriette Mertz, Hermine Hartleben, Hilary du Cros, Hilda Kuper, Hilda Lockhart Lorimer, Hilda Petrie, Hilde Danielsen, Hilde Frafjord Johnson, Hilma Granqvist, Homa Hoodfar, Honor Frost, Hortense Powdermaker, Ida Halpern, Ilse Schwidetzky, Ineke van Wetering, Ingeborg Scheibler, Ingrid Rüütel, Irawati Karve, Irit Ziffer, Irma McClaurin, Isabella Abbott, Jacqueline Roumeguere-Eberhardt, Jacquetta Hawkes, Jacqui Wood, Jane C. Goodale, Jane Dieulafoy, Jane Ellen Buikstra, Jane Goodall, Jane I. Guyer, Jane MacLaren Walsh, Janet Bennion, Janet D. Spector, Janet Davidson, Janet Roitman, Janice Boddy, Janine R. Wedel, Jean Briggs, Jean Comaroff, Jean Lave, Jean Schensul, Jeanne Arnold, Jeanne Guillemin, Jennifer Moody, Jessica Greenberg, Jill Pruetz, Jo Anne Van Tilburg, Joan Breton Connelly, Joan du Plat Taylor, Joan Halifax, Joan Lee Tu, Joan M. Tenenbaum, Joan Metge, Joann Kealiinohomoku, Jocelyne Dakhlia, Jocelyn Toynbee, Johanna Mestorf, Johnnetta B. Cole, Jolan Babus, Jorun Solheim, Jovita González, Joyce Marcus, Joyce Tyldesley, Judith Becker, Judith Berman, Judith E. Glaser, Judith Lynne Hanna, Judith Shapiro, Judy Birmingham, Julia Averkieva, Julia Elena Fortún, Juliet Morrow, June Helm, June Nash, K. Aslihan Yener, Karen Boswall, Karen Ho, Karen Mc Carthy Brown, Karen Nakamura, Karen Ramey Burns, Kari Bruwelheide, Karla Poewe, Karolyn Smardz Frost, Käte Bosse-Griffiths, Kate Fox, Katharina C. Rebay, Katharina Galor, Katharine Elizabeth Dopp, Katharine Luomala, Katherine Dunham, Katherine Routledge, Kathleen Gough, Kathleen Kenyon, Kathleen M. Adams, Kathleen Musante DeWalt, Kathleen O'Neal Gear, Kathrine S. French, Kathryn Woolard, Katherine Ann Dettwyler, Kathy Reichs, Katrina Karkazis, Katy Gardner, Katya Gibel Mevorach, Kay Warren, Keewaydinoquay Peschel, Kelly Dixon, Kim Yeshi, Kira Hall, Kirsten Hastrup, Kris L. Hardin, Kristen Gremillion, Kristen R. Ghodsee, Kristina Killgrove, L. Taylor Hansen, Lady Hester Stanhope, Laura Bohannan, Laura Nader, Laurette Séjourné, LaVerne Jeanne, Layla AbdelRahim, Lee Ann Newsom, Leela Dube, Leila Badre, Leith Mullings, Lélia Gonzalez, Lesley Gill, Leslie Milne, Leslie Van Gelder, Leyla Neyzi, Lida Shaw King, Lila Abu-Lughod, Lilian Hamilton Jeffery, Lina Fruzzetti, Linda Braidwood, Linda Dégh, Linda Fierz-David, Linda L. Barnes, Linda M. Hunt, Lisa Curran, Lisa Redfield Peattie, Lisa Rofel, Lisbeth Haas, Lissant Bolton, Lívia Járóka, Liza Dalby, Lorna Marshall, Lorraine Copeland, Louise Burkhart, Louise Lamphere, Louise Leakey, Lourdes Gutiérrez Nájera, Lucy Goodison, Lucy Mair, Lucy Myers Wright Mitchell, Lucy Suchman, Lucy Taxis Shoe Meritt, Luisa Accati, Luisa Maffi, Lydia Cabrera, Lydia T. Black, Lydia White, Lyla Pinch Brock, Lyn Miles, Lynne P. Sullivan, Mabel Cook Cole, Mabel Lang, Madawi al-Rasheed, Madeleine Colani, Madeleine Pelletier, Madeline Kneberg Lewis, Mai Yamani, Makaziwe Mandela, Makereti Papakura, Malathi de Alwis, Malika Zeghal, Marcela Lagarde, Marcia C. Inhorn, Marcia Langton, Marcia Theophilo, Margaret B. Blackman, Margaret Bender, Margaret Conkey, Margaret Elizabeth Ashley-Towle, Margaret Hasluck, Margaret Lantis, Margaret Lock, Margaret Mead, Margaret Murray, Margaret Rule, Margarete Bieber, Margarethe Lenore Selenka, Margherita Guarducci, Margrét Hermanns Auðardóttir, Marguerite Dupire, Mari Lyn Salvador, Maria Czaplicka, Marianne Nøhr Larsen, María Elisa Velázquez Gutiérrez, Maria Fadiman, Maria Reiche, Maria Teschler-Nicola, Marianne Gullestad, Marie-Claire Foblets, Marie-Françoise Guédon, Marie-Lucie Tarpent, Marija Gimbutas, Marija Makarovič, Marika Moisseeff, Marilyn Houlberg, Marilyn Ivy, Marilyn Strathern, Marina Cunin, Marion Elizabeth Blake, Mariza Corrêa, Marjan Mashkour, Marjorie F. Lambert, Marjorie Halpin, Marjorie Shostak, Marta Lamas, Marta Turok, Martha Crago, Martha Kaplan, Martha Rhoads Bell, Martha Warren Beckwith, Martine Franck, Mary Albright, Mary Ann Ochota, Mary Cabot Wheelwright, Mary Catherine Bateson, Mary Catherine Ferguson, Mary Doria Russell, Mary Douglas, Mary Frere, Mary Hamilton Swindler, Mary Leakey, Mary Lou Ridinger, Mary-Russell Ferrell Colton, Matilda Coxe Stevenson, Maud Cunnington, Maud Oakes, Maxine Margolis, Maya Haïdar Boustani, Meave Leakey, Melba Padilla Maggay, Mercedes Doretti, Mercedes Fernández-Martorell, Meredith Small, Merrill Swain, Merryl Wyn Davies, Micaela Portilla, Michelle Rosaldo, Mildred Trotter, Minou Tavárez Mirabal, Miranda Aldhouse-Green, Mireya Mayor, Miriam Tildesley, Miriyam Aouragh, Miyako Inoue, Mizuko Ito, Mona Bhan, Mónica Pellecer Alecio, Monica Wilson, Montgomery McFate, Muazzez İlmiye Çığ, Muhibbe Darga, Myra Shackley, Myrna Gopnik, Myrna Mack, Nadia Abu El Haj, Nancy Dupree, Nancy Oestreich Lurie, Nancy Romero-Daza, Nancy Scheper-Hughes, Nancy Turner, Natalia Polosmak, Natalie Curtis, Nathalie Beaux-Grimal, Nathalie Luca, Niara Sudarkasa, Nicky Milner, Nicole Loraux, Nicolette Bethel, Niède Guidon, Nina Etkin, Nina Frances Layard, Nina Gagen-Torn, Nina Jablonski, Nita Kumar, Nora Ahlberg, Norma Mendoza-Denton, Odette du Puigaudeau, Odille Morison, Olga F. Linares, Olga Najera-Ramirez, Olive Pink, Olivia Harris, Orly Goldwasser, Paloma Gay y Blasco, Pamela Erickson, Patricia Alice Shaw, Patricia Barchas, Patricia Birley, Patricia Sawin, Patricia Wright, Patricia Zavella, Patty Jo Watson, Pauline Turner Strong, Pearl Primus, Penelope Wilson, Penny Wolin, Phyllis Kaberry, Phyllis Morse, Phyllis Williams Lehmann, Pirkko-Liisa Lehtosalo-Hilander, Polly Hill, Polly Schaafsma, Priscilla Reining, Prudence Hero Napier, Rae Bridgman, Raquel Brailowsky, Rayna Rapp, Rebecca Grinter, Regina Bendix, Regna Darnell, Regula Tschumi, Reina Torres de Araúz, Renée Friedman, Rhoda Bubendey Métraux, Riane Eisler, Rita El Khayat, Rita P. Wright, Rivke Jaffe, Roberta Gilchrist, Rosalind Moss, Rose Mary Allen, Rosemary Cramp, Rosemary Firth, Ruth Amiran, Ruth Behar, Ruth Bunzel, Ruth Cardoso, Ruth Cernea, Ruth DeEtte Simpson, Ruth Hill Useem, Ruth Landes, Ruth Sawtell Wallis, Ruth Shady, Ruth Tringham, Ruth Underhill, S. Lochlann Jain, Saba Mahmood, Sabina Magliocco, Sabine Gaudzinski-Windheuser, Sada Mire, Saddeka Arebi, Safi Faye, Salima Ikram, Sally Falk Moore, Sally Larsen, Sally Price, Samar Minallah, Sandra Morgen, Sara C. Bisel, Sara Yorke Stevenson, Sarah Blaffer Hrdy, Sarah F. Maclaren, Sarah Franklin, Sarah Green, Sarah J. Mahler, Sarah Milledge Nelson, Sarah Parcak, Selma Al-Radi, Seodi White, Setha Low, Shana Poplack, Shannon Lee Dawdy, Sharada Srinivasan, Sharon Claydon, Sheila Kitzinger, Shelly Errington, Shereen Ratnagar, Sherry Ortner, Shirley Heath, Sidney Robertson Cowell, Signithia Fordham, Smadar Lavie, Sohini Ray, Solveig Nordström, Sondra Hale, Sonia Álvarez Leguizamón, Sonia Mary Cole, Sophie Bledsoe Aberle, Stine Rossel, Suad Joseph, Sue Black, Sue Hamilton, Sue Hendrickson, Sue Savage-Rumbaugh, Sula Benet, Sumaya bint El Hassan, Susan Cachel, Susan D. Gillespie, Susan E. Alcock, Susan Gal, Susan Hirsch, Susan Irene Rotroff, Susan Kane, Susan M. Ervin-Tripp, Susan Visvanathan, Susana Pinilla, Susanne Bickel, Susanne Osthoff, Susanne Schröter, Suzanna W. Miles, Svetlana Pletneva, Sydel Silverman, Sylvia Leith-Ross, Sylvia M. Broadbent, Taisha Abelar, Tamasin Ramsay, Tanya Luhrmann, Tatiana Proskouriakoff, Temperance \"Bones\" Brennan, Teresa Giménez Barbat, Teresa Porzecanski, Theodora Kroeber, Theresa Goell, Tullia Magrini, Unni Wikan, Ursula Cowgill, Ursula Graham Bower, Ursula McConnel, Val Curtis, Veena Das, Vera Grabe, Véréna Paravel, Veronica Seton-Williams, Vibha Tripathi, Victoria Wyatt, Vilma Sindona Eichholz, Viola Garfield, Virginia Abernethy, Virginia Grace, Virginia Gutiérrez de Pineda, Virginia R. Domínguez, Vronwy Hankey, Wendy Ashmore, Wendy Fonarow, Wendy Orent, Wendy Rose, Wilhelmina Feemster Jashemski, Winifred Brunton, Winifred Lamb, Yeda Pessoa de Castro, Yolanda Murphy, Zagorka Golubović, Zainab Bahrani, Zakia Zouanat, Zalpa Bersanova, Zeineb Benzina, Zelia Nuttall, Ziba Mir-Hosseini, Zora Neale Hurston, Zsófia Torma, <WikiTable 'List of African-American women in STEM fields[0]'>, <WikiTable 'List of African-American women in STEM fields[1]'>, <WikiTable 'List of African-American women in STEM fields[2]'>, <WikiTable 'List of African-American women in STEM fields[3]'>, <WikiTable 'List of African-American women in STEM fields[4]'>, <WikiTable 'List of African-American women in STEM fields[5]'>, <WikiTable 'List of African-American women in STEM fields[6]'>, <WikiTable 'List of African-American women in STEM fields[7]'>, <WikiTable 'List of African-American women in STEM fields[8]'>, <WikiTable 'List of African-American women in STEM fields[9]'>, <WikiTable 'List of African-American women in STEM fields[10]'>, <WikiTable 'List of African-American women in STEM fields[11]'>, <WikiTable 'List of African-American women in STEM fields[12]'>, <WikiTable 'List of African-American women in STEM fields[13]'>, <WikiTable 'List of African-American women in STEM fields[14]'>, <WikiTable 'List of African-American women in STEM fields[15]'>, <WikiTable 'List of African-American women in STEM fields[16]'>, <WikiTable 'List of African-American women in STEM fields[17]'>, <WikiTable 'List of African-American women in STEM fields[18]'>, <WikiTable 'List of African-American women in STEM fields[19]'>, <WikiTable 'List of African-American women in STEM fields[20]'>]\n"
     ]
    }
   ],
   "source": [
    "print(len(all_women))\n",
    "print(all_women)"
   ]
  },
  {
   "cell_type": "code",
   "execution_count": 58,
   "metadata": {
    "collapsed": false
   },
   "outputs": [
    {
     "name": "stdout",
     "output_type": "stream",
     "text": [
      "['Mary Anning', 'Lilias Armstrong', 'Ann Bannon', 'Rachel Carson', 'Ursula Franklin', 'Barbara McClintock', 'Margaret Murray', 'Emmy Noether', 'Margaret Thatcher', 'Ruth Lyttle Satter Prize in Mathematics', 'Elizabeth Alexander (scientist)', 'Mary Amdur', 'Frances Ames', 'Elda Emma Anderson', 'Myrtle Bachelder', 'Jean Bartik', 'Ann Bishop (biologist)', 'Brigitte Boisselier', 'Ann T. Bowling', 'Nessa Carey', 'Gerty Cori', 'Marie Curie', 'Joan Curran', 'Ann Dunham', 'Natasha Falle', 'Frieda Fraser', 'Mary Dilys Glynne', 'Maria Goeppert-Mayer', 'Hypatia', 'Mary Jackson (engineer)', 'Margaret Ursula Jones', 'Frances Oldham Kelsey', 'Hina Rabbani Khar', 'Judith Krug', 'Linda Laubenstein', 'Henrietta Swan Leavitt', 'Hilde Levi', 'Doris Mackinnon', 'Helen Mayo', 'Frances McConnell-Mills', 'Agnes Fay Morgan', 'Rosalie Slaughter Morton', 'Christian Ramsay', 'Pamela C. Rasmussen', 'Dorothy P. Rice', 'Vera Rubin', 'Margaret Thatcher', 'Olga Tufnell', 'Katharine Way', 'Blanche Wheeler Williams', 'Leona Woods', 'Chien-Shiung Wu', 'Hoylande Young', 'Ruth Kelly', 'Elsie MacGill', 'Andrea Ablasser', 'Suhayya Abu-Hakima', 'Alice Agogino', 'In-Young Ahn', 'Fay Ajzenberg-Selove', 'Nora Lilian Alcock', 'Claudia Alexander', 'Elizabeth Alexander (scientist)', 'Alice Alldredge', 'Heather C. Allen', 'Margaret Allen', 'Yasmin Altwaijri', 'Rommie Amaro', 'Mary Amdur', 'Adelaide Ames', 'Frances Ames', 'Naomi Amir', 'Angelika Amon', 'Nalini Anantharaman', 'Elda Emma Anderson', 'Gloria Long Anderson', 'Sharon Anderson', 'Brenda Andrews', 'Marimba Ani', 'Mary Louisa Armitt', 'Audrey Arnott', 'Chieko Asakawa', 'Valerie Aurora', 'Myrtle Bachelder', 'Jean Bacon', 'Anna Baetjer', 'Susan Bailey', 'Alice Ball', 'Anne Elizabeth Ball', 'Mary Elizabeth Barber', 'Mary Barber (bacteriologist)', 'Kathrin Barboza Marquez', 'Ida Barney', 'Regina Barzilay', 'Dorothea Bate', 'Grace Bates', 'Sarah Bavly', 'Diana Beck', 'Lydia Becker', 'Kay Behrensmeyer', 'Ulrike Beisiegel', 'Anne Beloff-Chain', 'Katherine Belov', 'Elissa P. Benedek', 'Magdalena Bermejo', 'Mónica Bettencourt-Dias', 'Agathe L. van Beverwijk', 'Margarete Bieber', 'Rosemary Biggs', 'Leonora Bilger', 'Caroline Birley', 'Ann Bishop (biologist)', 'Beatrice Blackwood', 'Margaret Blackwood', 'Cicely Pearl Blair', 'Dorothy Blum', 'Berta Bobath', 'Antje Boetius', 'Diana Marcela Bolaños Rodriguez', 'Tami Bond', 'Idelisa Bonnelly', 'Louise Bourgeois Boursier', 'Cecilia Bouzat', 'Ursula Graham Bower', 'Ann T. Bowling', 'Alice Bowman', 'Helen Boyle', 'Maria Eugenia Bozzoli', 'Mary Katharine Brandegee', 'Sara Branham Matthews', 'Nina Starr Braunwald', 'Victoria Bricker', 'Angela Hartley Brodie', 'Mary Brodrick', 'Elizabeth M. Bryan', 'Louise Stevens Bryant', 'Lucy Meredith Bryce', 'Mary Buckland', 'Edith Bülbring', 'Nancy Tyson Burbidge', 'Gertrude Simmons Burlingham', 'Stephanie Burns', 'Nathalie Cabrol', 'Doris Calloway', 'Ella Orr Campbell', 'Mary Cannon', 'Nessa Carey', 'Margery C. Carlson', 'Janet Carr', 'Elena Cattaneo', 'Colleen Cavanaugh', 'June Chan', 'Nancy T. Chang', 'Xuemei Chen', 'Graciela Chichilnisky', 'Jennifer Childs-Roshak', 'Shya Chitaley', 'Carol Chomsky', 'Edith Claypole', 'Mary Strong Clemens', 'Edith Clements', 'Kim Cobb', 'Doris Mable Cochran', 'Jane Colden', 'Louisa Collings', 'Mary Collins (immunologist)', 'Computer Engineer Barbie', 'Tina Cooper', 'Vivienne Cassie Cooper', 'Catherine Corrigan', 'Kendra Coulter', 'Mary M. Crawford', 'Jacqueline Crawley', 'Aleen Cust', 'Marie Darby', 'Blanche Evans Dean', 'Fe del Mundo', 'Maude Delap', 'Kate Devlin', 'Cécile DeWitt-Morette', 'Liebe Sokol Diamond', 'Mary Cynthia Dickerson', 'Elaine Didier', 'Amalie Dietrich', 'Jane Dieulafoy', 'Judith Donath', 'Klara Döpel', 'Marie-Louise Dubreil-Jacotin', 'Moon Duchin', 'Suzanne Duigan', 'Ioana Dumitriu', 'Moira Dunbar', 'Rachael Dunlop', 'Florence Margaret Durham', 'Helen Dyer', 'Janice Eberly', 'Lina Eckenstein', 'Tilly Edinger', 'Cecile Hoover Edwards', 'Grace Eldering', 'Constance Ellis', 'Theresa Elmendorf', 'Victoria Joyce Ely', 'Gladys Anderson Emerson', 'Rica Erickson', 'Ethel Bellamy', 'Vera Faddeeva', 'Lesley Fallowfield', 'Adeyinka Gladys Falusi', 'Maxine Fassberg', 'Daphne Gail Fautin', 'Safi Faye', 'Olga Fedchenko', 'Elizabeth J. Feinler', 'Genevieve Grotjan Feinstein', 'List of female Fellows of the Royal Society', 'Catherine Clarke Fenselau', 'Angella D. Ferguson', 'Catherine Feuillet', 'Joan Feynman', 'Kathryn Ferguson Fink', 'Rita Sapiro Finkler', 'Mabel Purefoy FitzGerald', 'Christiane Floyd', 'Justina Ford', 'Laura Forster', 'Susannah Fox', 'Frieda Fraser', 'Helen Freedhoff', 'Ida Freund', 'Łucja Frey', 'Helen Fricker', 'Rose Gaffney', 'Kadambini Ganguly', 'Pamela L. Gay', 'Vera Fedorovna Gaze', 'Elena Georgieva', 'Susan Gerbi', 'Lydia Giberson', 'Jane Gibson', 'Cecilia Glaisher', 'Mary Dilys Glynne', 'Sulamith Goldhaber', 'Kathleen Gough', 'Alice Gray', 'Elizabeth Gray (fossil collector)', 'Irene Greif', 'Eliza Ann Grier', 'Rebecca Grinter', 'Nicole Grobert', 'Emīlija Gudriniece', 'Marjorie Hahn', 'Jane Hamilton Hall', 'Debora Hammond', 'Gillian Hanson', 'Tsuruko Haraguchi', 'Diane Harper', 'Rita Harradence', 'Grethe Rytter Hasle', 'Louise Hay (mathematician)', 'Alma Levant Hayden', 'Ellen Hayes', 'Elizabeth Lee Hazen', 'Leela Hazzah', 'He Luli', 'He Zehui', 'Julia Wilmotte Henshaw', 'Amy H. Herring', 'Nancy M. Hill', 'Edith Hirsch (economist)', 'Ada Hitchins', 'Ingeborg Hochmair', 'Lisbeth Hockey', 'Hanna von Hoerner', 'Adriana Hoffmann', 'Karen Holford', 'Mary Emilie Holmes', 'Marjorie G. Horning', 'Gabrielle Howard', 'Dagmar Hülsenberg', 'Edith Humphrey', 'Catherine T. Hunt', 'Ida Henrietta Hyde', 'Ida Maclean', 'Iota Sigma Pi', 'Terri Irwin', 'Frances Ivens', 'Nina Jablonski', 'Mary Jackson (engineer)', 'Nancy B. Jackson', 'Barbara Ward, Baroness Jackson of Lodsworth', 'Maria Elizabetha Jacson', 'Annie Nicolette Zadoks Josephus Jitta', 'Edith Irby Jones', 'Emer Jones', 'Lois Jones (scientist)', 'Margaret Ursula Jones', 'Sara Murray Jordan', 'Madeleine M. Joullié', 'Hilary Kahn', 'Katherine Sophia Kane', 'Selna Kaplan', 'Elizaveta Karamihailova', 'Arfa Karim', 'Isabella Karle', 'Victoria Kaspi', 'Kakani Katija Young', 'Myra Keen', 'Gerta Keller', 'Sinah Estelle Kelley', 'Lynne Kelly (science writer)', 'Lisa Kewley', 'Daria Khaltourina', 'Faiza Al-Kharafi', 'Judith Kingston', 'Elizabeth and Mary Kirby', 'Ruth L. Kirschstein', 'Eleanora Knopf', 'Matilda Cullen Knowles', 'Akiko Kobayashi (chemist)', 'Kong Tai Heong', 'Marian Koshland', 'Cecilia Krieger', 'Chika Kuroda', 'Marie-Louise Lachapelle', 'Jeanne LaDuke', 'Elizabeth Laird (physicist)', 'Emily Lakdawalla', 'Jeanne Lampl-de Groot', 'Cynthia Larive', 'June Lascelles', 'Vida Latham', 'Abbie Lathrop', 'Linda Laubenstein', 'Vera Lebedeva', 'Marie Lebour', 'Cynthia B. Lee', 'Susan Leeman', 'Ruth Lehmann', 'Marguerite Lehr', 'Lei Jieqiong', 'Dorothea Leighton', 'Sara Plummer Lemmon', 'Hilde Levi', 'Margaret Reed Lewis', 'Alice H. Lichtenstein', 'Maria Carmela Lico', 'Lidija Liepiņa', 'Gloria Lim', 'Maria von Linden', 'Patricia Lindop', 'Mariangela Lisanti', 'Astrid Løken', 'Myra Adele Logan', 'Yueh-Lin Loo', 'Marsha Looper', 'Mary Loveless', 'Catherine A. Lozupone', 'Martha L. Ludwig', 'Hilda Lyon', 'Rachel MacNair', 'Pauline Gracia Beery Mack', 'Doris Mackinnon', 'Nobuyo Maeda', 'Eleanor Maguire', 'Joanne M. Maguire', 'Julie Makani', 'Shirley M. Malcom', 'Averil Mansfield', 'Nancy Marcus', 'Ilya Espino de Marotta', 'Loretta Marron', 'Yoky Matsuoka', 'Kiran Mazumdar-Shaw', 'Anna Marguerite McCann', 'Naomi McClure-Griffiths', 'Frances McConnell-Mills', 'Mollie McGeown', 'Frances Gertrude McGill', 'Marcia McNutt', 'Grace Medes', 'Annie Meinertzhagen', 'Vijaya Melnick', 'Mary Philadelphia Merrifield', 'Johanna Mestorf', 'Marie Meurdrac', 'Ynes Mexia', 'Margaret Meyer', 'Beatrice Mintz', 'Hannah Monyer', 'Willie Hobbs Moore', 'Agnes Fay Morgan', 'Jenny Morton', 'Julia Morton', 'Christine Murrell', 'Bangalore Nagarathnamma', 'Pia Nalli', 'Eva-Maria Neher', 'Mary Frances Winston Newson', 'Margaret Newton', 'Ann C. Noble', 'Emmy Noether', 'Patricia Numann', 'Yin Yin Nwe', 'Tebello Nyokong', \"Margaret O'Flynn\", \"Siobhan O'Sullivan\", 'Utako Okamoto', 'Melahat Okuyan', 'Ida Shepard Oldroyd', 'Elaine Oran', 'Elisa Oricchio', 'Daphne Osborne', 'Hinke Osinga', 'Helen Matusevich Oujesky', 'May Owen', 'Bertha Parker Pallan', 'Mary-Lou Pardue', 'Mary Parke', 'Ivy Parker', 'Delphine Parrott', 'Edith Marion Patch', 'Jennie Patrick', 'Louise Pearce', 'Dorothea Pertz', 'Mary Pickford (physiologist)', 'Vivian Pinn', 'Judith Pipher', 'Antoinette Pirie', 'Rosalind Pitt-Rivers', 'Terry Plank', 'E. Gail de Planque', 'Beryl Platt, Baroness Platt of Writtle', 'Ina Plug', 'Isis Pogson', 'Vera Yevstafievna Popova', 'Helen Porter', 'Elizabeth Press', 'Kathleen I. Pritchard', 'Qian Xiuling', 'Ami Radunskaya', 'Estelle Ramey', 'Christian Ramsay', 'Kamal Ranadive', 'Lucie Randoin', 'Darshan Ranganathan', 'Mary J. Rathbun', 'Dixy Lee Ray', 'Louise Reiss', 'Ellen Swallow Richards', 'Jane S. Richardson', 'Jennifer Richeson', 'Emily Riehl', 'Charlotte Roberts', 'Eslanda Goode Robeson', 'Frieda Robscheit-Robbins', 'Sibyl M. Rock', 'Lorene Rogers', 'Judith Roitman', 'Anna Curtenius Roosevelt', 'Ora Mendelsohn Rosen', 'Lisa Rossbacher', 'Linda Preiss Rothschild', 'Anne Rudloe', 'Ruth Lyttle Satter Prize in Mathematics', 'Una M. Ryan', 'Una Ryan', 'Penny Sackett', 'Omowunmi Sadik', 'Naomi Sager', 'Charlotte Sahl-Madsen', 'Annette Salmeen', 'Zdenka Samish', 'Katherine Sanford', 'Karimat El-Sayed', 'Velma Scantlebury', 'Ruth Schmidt', 'Norah Schuster', 'Neena Schwartz', 'Olive Scott', 'Josefa Celsa Señaris', 'Marjorie Senechal', 'Mary Lura Sherrill', 'Margot Shiner', 'Molly Shoichet', 'Sofia Simmonds', 'Audrey Smith', 'Honor Smith', 'May Smith (psychologist)', 'Margaret C. Snyder', 'Alicia M. Soderberg', 'Kamala Sohonie', 'Esther Somerfeld-Ziskind', 'Nancy Sottos', 'Doris Huestis Speirs', 'Sarah Spiegel', 'Frances Stackhouse Acton', 'Gigliola Staffilani', 'Zvezdelina Stankova', 'Marjory Stephenson', 'Greta Stevenson', 'Lucille Farrier Stickel', 'Ragnhild Sundby', 'Louise Nixon Sutton', 'Thyrsa Frazier Svager', 'Jean Swank', 'Marcia P. Sward', 'Mary Hamilton Swindler', 'Lubna Tahtamouni', 'Riin Tamm', 'Salinee Tavaranan', 'Grace Oladunni Taylor', 'Emily Temple-Wood', 'Audrey Terras', 'Bess Thomas', 'Ethel Thomas', 'Sydney Mary Thompson', 'Josephine Tilden', 'Samantha Tross', 'Elizabeth Truswell', 'Michiyo Tsujimura', 'Laurence Tubiana', 'Olga Tufnell', 'Kay Tye', 'Meena Upadhyaya', 'Judith Vaitukaitis', 'Hannah Valantine', 'Elinor Frances Vallentin', 'Gertrude Van Wagenen', 'Karen Vogtmann', 'Karen Vousden', 'Marvalee Wake', 'Carden Wallace', 'Ruth Sawtell Wallis', 'Janet Watson', 'Katharine Way', 'Gene Weltfish', 'Amanda Weltman', 'Zena Werb', 'Nancy Wexler', 'Anna Johnson Pell Wheeler', 'Mary Cabot Wheelwright', 'Mary Anne Whitby', 'Inez Whipple Wilder', 'Mary Louisa Willard', 'Blanche Wheeler Williams', 'Caroline Ransom Williams', 'Emily Willingham', 'Margaret Windeyer', 'Evelyn M. Witkin', 'Sidney C. Wolff', 'Bencie Woll', 'Constance Wood', 'Leona Woods', 'Beatrice Worsley', 'Chien-Shiung Wu', 'Jane Wynne', 'Vivian Wing-Wah Yam', 'Kono Yasui', 'Josephine Silone Yates', 'Ye Shuhua', 'Lesley Yellowlees', 'Hoylande Young', 'Myeong-Hee Yu', 'Toshiko Yuasa', 'Yue Qi', 'Lixia Zhang', 'Christiane Ziegler', 'Huda Zoghbi', 'Margarete Zuelzer', 'Laurel van der Wal', 'Adeline Masquelier', 'Adrienne L. Kaeppler', 'Agnes Conway', 'Agnès Humbert', 'Aihwa Ong', 'Aileen Fox', 'Alana Cordy-Collins', 'Alanah Woody', 'Alba Zaluar', 'Aleksandra Dunin-Wąsowicz', 'Alessandra Melucco Vaccaro', 'Alette Schreiner', 'Alexandra David-Néel', 'Alice Beck Kehoe', 'Alice Cunningham Fletcher', 'Alice E. Gillington', 'Alice G. Dewey', 'Alice Kober', 'Alice Mossie Brues', 'Alice Roberts', 'Alicia P. Magos', 'Alison Galloway', 'Alison Spedding', 'Alison Wylie', 'Alla Ter-Sarkisiants', 'Amanda Adams', 'Amber Case', 'Amelia Edwards', 'Amélie Kuhrt', 'Ana María Groot', 'Angana P. Chatterji', 'Aninhalli Vasavi', 'Anita Álvarez de Williams', 'Anita Brenner', 'Ann Dunham', 'Ann Fienup-Riordan', 'Ann Peoples', 'Anna Curtenius Roosevelt', 'Anna Czekanowska-Kuklińska', 'Anna Lomax Wood', 'Anna Lou Dehavenon', 'Anna Maria Bietti Sestieri', 'Anna Maria Di Sciullo', 'Anna Pujol Puigvehi', 'Anna Sadurska', 'Anna Tsing', 'Annah Robinson Watson', 'Annamaria Orla-Bukowska', 'Anne Allison', 'Anne Chapman', 'Anne Dambricourt-Malassé', 'Anne Johnson', 'Anne Macaulay', 'Anne Salmond', 'Anne Stine Ingstad', 'Anne Zeller', 'Annemarie Mol', 'Annette Laming-Emperaire', 'Annette Weiner', 'Annie Brisset', 'Annie Marion MacLean', 'Annie York', 'Antonia Arslan', 'Antonia Mills', 'Aud Talle', 'Audrey Butt Colson', 'Audrey Meaney', 'Audrey Richards', 'Audrey Smedley', 'Ayten Aydın', 'Bambi Schieffelin', 'Barbara Freire-Marreco', 'Barbara Harrell-Bond', 'Barbara J. Heath', 'Barbara Myerhoff', 'Barbara Rylko-Bauer', 'Barbara Smuts', 'Beatrice Blackwood', 'Beatrice Blyth Whiting', 'Beatrice De Cardi', 'Beatrice Medicine', 'Berit Wallenberg', 'Bertha Parker Pallan', 'Bertha Phillpotts', 'Beryl Esembe', 'Betsy Bryan', 'Bettina Hauge', 'Betty Meggers', 'Bianca Williams', 'Birgit Zotz', 'Birgitta Hoffmann', 'Birutė Galdikas', 'Blanche Wheeler Williams', 'Bonnie Nardi', 'Brackette Williams', 'Bridget Allchin', 'Brigitte Bönisch-Brednich', 'Brit Solli', 'Brunilde Sismondo Ridgway', 'Butet Manurung', 'C.H.E. Haspels', 'Camilla Wedgwood', 'Carenza Lewis', 'Carla Obermeyer', 'Carmel Schrire', 'Carmen Baroja', 'Carmen Guarini', 'Carobeth Laird', 'Carol Breckenridge', 'Carol Delaney', 'Carol J. Greenhouse', 'Carol Laderman', 'Carol Meyers', 'Carol R. Ember', 'Carole C. Noon', 'Caroline Furness Jayne', 'Caroline Humphrey', 'Caroline Malone', 'Caroline Moser', 'Caroline Wilkinson', 'Carolyn Fluehr-Lobban', 'Carolyn Hamilton', 'Carolyn M. Heighway', 'Carolyn Sargent', 'Caterina Magni', 'Catharine McClellan', 'Catherine Berndt', 'Catherine L. Besteman', 'Catherine Lutz', 'Catherine Morgan', 'Catherine Namono', 'Catherine S. Fowler', 'Cathrine Hasse', 'Cathy Small', 'Cezaria Baudouin de Courtenay Ehrenkreutz Jędrzejewiczowa', 'Chantal Boulanger', 'Charlotte Booth', 'Charlotte Gower Chapman', 'Charlotte Lewis', 'Charlotte Roberts', 'Charlotte Viall Wiser', 'Chie Nakane', 'Christian Maclagan', 'Christiane Desroches Noblecourt', 'Christine Niederberger Betton', 'Chuni Kotal', 'Cindy Cruz', 'Claire Barratt', 'Claire Smith', 'Clara Passafari', 'Clare Selgin Wolfowitz', 'Clarisa Hardy', 'Claudia Roden', 'Claudia Zaslavsky', 'Clea Koff', 'Clémence Royer', 'Clementina Panella', 'Cleo Odzer', 'Constance Cox', 'Constance Goddard DuBois', 'Constanza Ceruti', 'Cora DuBois', 'Courtney Angela Brkic', 'Cristina Rémond', 'Cynthia Beall', 'Cynthia Irwin-Williams', 'Daisy Bates', 'Danielle Stordeur', 'Danijela Stefanović', 'Daphne Berdahl', 'Daria Khaltourina', 'Dawn Atkins', 'Dawn Prince-Hughes', 'Dean Falk', 'Débora Diniz', 'Deborah Fouts', 'Deborah Hyde', 'Deborah M. Pearsall', 'Denise Schmandt-Besserat', 'Dia Cha', 'Dian Fossey', 'Diana Kirkbride', 'Diane Barwick', 'Diane Bell', 'Diane Massam', 'Diane Zaino Chase', 'Dina Lévi-Strauss', 'Dolores Piperno', 'Donna Gerdts', 'Dorinne K. Kondo', 'Doris Bartholomew', 'Doris Zemurray Stone', 'Dorothea Bate', 'Dorothea Bleek', 'Dorothy Burr Thompson', 'Dorothy D. Lee', 'Dorothy E. Smith', 'Dorothy Garrod', 'Dorothy Jean Ray', 'Dorothy King', 'Dorothy Way Eggan', 'Dounia Bouzar', 'E. S. Drower', 'Edith Durham', 'Edith Porada', 'Edith Turner', 'Eilat Mazar', 'Eileen Krige', 'Eleanor Leacock', 'Eleanor Myers', 'Eleanor Robson', 'Elena Berezovich', 'Elena Efimovna Kuzmina', 'Eleni Konsolaki', 'Eliane Karp', 'Elinor Ochs', 'Elisabeth Croll', 'Elizabeth', 'Elizabeth Brumfiel', 'Elizabeth Burgos', 'Elizabeth Colson', 'Elizabeth Cowper', 'Elizabeth Fentress', 'Elizabeth French', 'Elizabeth Grant', 'Elizabeth Jacobs', \"Elizabeth Kapu'uwailani Lindsey\", 'Elizabeth Marshall Thomas', 'Elizabeth Mertz', 'Elizabeth Spillius', 'Elizabeth Thomas', 'Elizabeth Warnock Fernea', 'Elizabeth Wayland Barber', 'Ella Cara Deloria', 'Ella Sophia Armitage', 'Ellen Dissanayake', 'Elli Köngäs-Maranda', 'Elsie Clews Parsons', 'Emeline Hill Richardson', 'Emiko Ohnuki-Tierney', 'Emiliana Cruz', 'Emilie Demant Hatt', 'Emily Martin', 'Emily Vermeule', 'Erica Lehrer', 'Erika Bourguignon', 'Erika Simon', 'Erminie Wheeler-Voegelin', 'Erminnie A. Smith', 'Erna Gunther', 'Ernestine Friedl', 'Eslanda Goode Robeson', 'Estelle Lazer', 'Esther Boise Van Deman', 'Esther de Pommery', 'Esther Hermitte', 'Esther Newton', 'Esther Schiff Goldfrank', 'Ethel Alpenfels', 'Ethel Bristowe', 'Eugenie Scott', 'Eugenie Sellers Strong', 'Eva Justin', 'Éva Pócs', 'Eva Verbitsky Hunt', 'Evelyn Byrd Harrison', 'Ewa Klonowski', 'Fadwa El Guindi', 'Faina Petryakova', 'Fatimah Jackson', 'Faye Ginsburg', 'Felicitas Goodman', 'Fiona Caroline Graham', 'Florence Connolly Shipek', 'Florence Hawley', 'Florinda Donner', 'France Martineau', 'France Winddance Twine', \"Frances D'Souza, Baroness D'Souza\", 'Frances Densmore', 'Frances J. White', 'Frances Toor', 'Francine Saillant', 'Françoise Claustre', 'Françoise Henry', 'Françoise Héritier', 'Françoise Pommaret', 'Freda Ahenakew', 'Frederica de Laguna', 'Frédérique Apffel-Marglin', 'Fuambai Ahmadu', 'Gabriella Coleman', 'Gail M. Kelly', 'Galia Sabar', 'Galina Lozko', 'Galina Starovoytova', 'Gayatri Reddy', 'Gayle J. Fritz', 'Gayle Rubin', 'Gene Weltfish', 'Genevieve Bell', 'Georgina Born', 'Geraldine Finlayson', 'Geraldine Harris', 'Germaine Dieterlen', 'Germaine Tillion', 'Gertrud Pätsch', 'Gertrude Bell', 'Gertrude Blom', 'Gertrude Caton–Thompson', 'Gertrude M. Godden', 'Gina Athena Ulysse', 'Ginette Aumassip', 'Gisela Bleibtreu-Ehrenberg', 'Gisela Richter', 'Gladys Reichard', 'Gladys Tantaquidgeon', 'Grace Crowfoot', 'Grete Mostny', 'Gudrun Corvinus', 'Guillemette Andreu', 'Halet Çambel', 'Halleh Ghorashi', 'Hallgerður Gísladóttir', 'Hannah Landecker', 'Hannah Marie Wormington', 'Harriet Boyd-Hawes', 'Harriet Cosgrove', 'Heather Botting', 'Heather Burke', 'Heather Horst', 'Heather Hurst', 'Heather Levi', 'Heather McKillop', 'Heather Pringle', 'Heleen Sancisi Weerdenburg', 'Helen Codere', 'Helen Fisher', 'Helen Geake', 'Helen Leach', 'Helen Perlstein Pollard', 'Helena Hamerow', 'Helena Wulff', 'Helene Hagan', 'Helene J. Kantor', 'Henrietta Moore', 'Henriette Mertz', 'Hermine Hartleben', 'Hilary du Cros', 'Hilda Kuper', 'Hilda Lockhart Lorimer', 'Hilda Petrie', 'Hilde Danielsen', 'Hilde Frafjord Johnson', 'Hilma Granqvist', 'Homa Hoodfar', 'Honor Frost', 'Hortense Powdermaker', 'Ida Halpern', 'Ilse Schwidetzky', 'Ineke van Wetering', 'Ingeborg Scheibler', 'Ingrid Rüütel', 'Irawati Karve', 'Irit Ziffer', 'Irma McClaurin', 'Isabella Abbott', 'Jacqueline Roumeguere-Eberhardt', 'Jacquetta Hawkes', 'Jacqui Wood', 'Jane C. Goodale', 'Jane Dieulafoy', 'Jane Ellen Buikstra', 'Jane Goodall', 'Jane I. Guyer', 'Jane MacLaren Walsh', 'Janet Bennion', 'Janet D. Spector', 'Janet Davidson', 'Janet Roitman', 'Janice Boddy', 'Janine R. Wedel', 'Jean Briggs', 'Jean Comaroff', 'Jean Lave', 'Jean Schensul', 'Jeanne Arnold', 'Jeanne Guillemin', 'Jennifer Moody', 'Jessica Greenberg', 'Jill Pruetz', 'Jo Anne Van Tilburg', 'Joan Breton Connelly', 'Joan du Plat Taylor', 'Joan Halifax', 'Joan Lee Tu', 'Joan M. Tenenbaum', 'Joan Metge', 'Joann Kealiinohomoku', 'Jocelyne Dakhlia', 'Jocelyn Toynbee', 'Johanna Mestorf', 'Johnnetta B. Cole', 'Jolan Babus', 'Jorun Solheim', 'Jovita González', 'Joyce Marcus', 'Joyce Tyldesley', 'Judith Becker', 'Judith Berman', 'Judith E. Glaser', 'Judith Lynne Hanna', 'Judith Shapiro', 'Judy Birmingham', 'Julia Averkieva', 'Julia Elena Fortún', 'Juliet Morrow', 'June Helm', 'June Nash', 'K. Aslihan Yener', 'Karen Boswall', 'Karen Ho', 'Karen Mc Carthy Brown', 'Karen Nakamura', 'Karen Ramey Burns', 'Kari Bruwelheide', 'Karla Poewe', 'Karolyn Smardz Frost', 'Käte Bosse-Griffiths', 'Kate Fox', 'Katharina C. Rebay', 'Katharina Galor', 'Katharine Elizabeth Dopp', 'Katharine Luomala', 'Katherine Dunham', 'Katherine Routledge', 'Kathleen Gough', 'Kathleen Kenyon', 'Kathleen M. Adams', 'Kathleen Musante DeWalt', \"Kathleen O'Neal Gear\", 'Kathrine S. French', 'Kathryn Woolard', 'Katherine Ann Dettwyler', 'Kathy Reichs', 'Katrina Karkazis', 'Katy Gardner', 'Katya Gibel Mevorach', 'Kay Warren', 'Keewaydinoquay Peschel', 'Kelly Dixon', 'Kim Yeshi', 'Kira Hall', 'Kirsten Hastrup', 'Kris L. Hardin', 'Kristen Gremillion', 'Kristen R. Ghodsee', 'Kristina Killgrove', 'L. Taylor Hansen', 'Lady Hester Stanhope', 'Laura Bohannan', 'Laura Nader', 'Laurette Séjourné', 'LaVerne Jeanne', 'Layla AbdelRahim', 'Lee Ann Newsom', 'Leela Dube', 'Leila Badre', 'Leith Mullings', 'Lélia Gonzalez', 'Lesley Gill', 'Leslie Milne', 'Leslie Van Gelder', 'Leyla Neyzi', 'Lida Shaw King', 'Lila Abu-Lughod', 'Lilian Hamilton Jeffery', 'Lina Fruzzetti', 'Linda Braidwood', 'Linda Dégh', 'Linda Fierz-David', 'Linda L. Barnes', 'Linda M. Hunt', 'Lisa Curran', 'Lisa Redfield Peattie', 'Lisa Rofel', 'Lisbeth Haas', 'Lissant Bolton', 'Lívia Járóka', 'Liza Dalby', 'Lorna Marshall', 'Lorraine Copeland', 'Louise Burkhart', 'Louise Lamphere', 'Louise Leakey', 'Lourdes Gutiérrez Nájera', 'Lucy Goodison', 'Lucy Mair', 'Lucy Myers Wright Mitchell', 'Lucy Suchman', 'Lucy Taxis Shoe Meritt', 'Luisa Accati', 'Luisa Maffi', 'Lydia Cabrera', 'Lydia T. Black', 'Lydia White', 'Lyla Pinch Brock', 'Lyn Miles', 'Lynne P. Sullivan', 'Mabel Cook Cole', 'Mabel Lang', 'Madawi al-Rasheed', 'Madeleine Colani', 'Madeleine Pelletier', 'Madeline Kneberg Lewis', 'Mai Yamani', 'Makaziwe Mandela', 'Makereti Papakura', 'Malathi de Alwis', 'Malika Zeghal', 'Marcela Lagarde', 'Marcia C. Inhorn', 'Marcia Langton', 'Marcia Theophilo', 'Margaret B. Blackman', 'Margaret Bender', 'Margaret Conkey', 'Margaret Elizabeth Ashley-Towle', 'Margaret Hasluck', 'Margaret Lantis', 'Margaret Lock', 'Margaret Mead', 'Margaret Murray', 'Margaret Rule', 'Margarete Bieber', 'Margarethe Lenore Selenka', 'Margherita Guarducci', 'Margrét Hermanns Auðardóttir', 'Marguerite Dupire', 'Mari Lyn Salvador', 'Maria Czaplicka', 'Marianne Nøhr Larsen', 'María Elisa Velázquez Gutiérrez', 'Maria Fadiman', 'Maria Reiche', 'Maria Teschler-Nicola', 'Marianne Gullestad', 'Marie-Claire Foblets', 'Marie-Françoise Guédon', 'Marie-Lucie Tarpent', 'Marija Gimbutas', 'Marija Makarovič', 'Marika Moisseeff', 'Marilyn Houlberg', 'Marilyn Ivy', 'Marilyn Strathern', 'Marina Cunin', 'Marion Elizabeth Blake', 'Mariza Corrêa', 'Marjan Mashkour', 'Marjorie F. Lambert', 'Marjorie Halpin', 'Marjorie Shostak', 'Marta Lamas', 'Marta Turok', 'Martha Crago', 'Martha Kaplan', 'Martha Rhoads Bell', 'Martha Warren Beckwith', 'Martine Franck', 'Mary Albright', 'Mary Ann Ochota', 'Mary Cabot Wheelwright', 'Mary Catherine Bateson', 'Mary Catherine Ferguson', 'Mary Doria Russell', 'Mary Douglas', 'Mary Frere', 'Mary Hamilton Swindler', 'Mary Leakey', 'Mary Lou Ridinger', 'Mary-Russell Ferrell Colton', 'Matilda Coxe Stevenson', 'Maud Cunnington', 'Maud Oakes', 'Maxine Margolis', 'Maya Haïdar Boustani', 'Meave Leakey', 'Melba Padilla Maggay', 'Mercedes Doretti', 'Mercedes Fernández-Martorell', 'Meredith Small', 'Merrill Swain', 'Merryl Wyn Davies', 'Micaela Portilla', 'Michelle Rosaldo', 'Mildred Trotter', 'Minou Tavárez Mirabal', 'Miranda Aldhouse-Green', 'Mireya Mayor', 'Miriam Tildesley', 'Miriyam Aouragh', 'Miyako Inoue', 'Mizuko Ito', 'Mona Bhan', 'Mónica Pellecer Alecio', 'Monica Wilson', 'Montgomery McFate', 'Muazzez İlmiye Çığ', 'Muhibbe Darga', 'Myra Shackley', 'Myrna Gopnik', 'Myrna Mack', 'Nadia Abu El Haj', 'Nancy Dupree', 'Nancy Oestreich Lurie', 'Nancy Romero-Daza', 'Nancy Scheper-Hughes', 'Nancy Turner', 'Natalia Polosmak', 'Natalie Curtis', 'Nathalie Beaux-Grimal', 'Nathalie Luca', 'Niara Sudarkasa', 'Nicky Milner', 'Nicole Loraux', 'Nicolette Bethel', 'Niède Guidon', 'Nina Etkin', 'Nina Frances Layard', 'Nina Gagen-Torn', 'Nina Jablonski', 'Nita Kumar', 'Nora Ahlberg', 'Norma Mendoza-Denton', 'Odette du Puigaudeau', 'Odille Morison', 'Olga F. Linares', 'Olga Najera-Ramirez', 'Olive Pink', 'Olivia Harris', 'Orly Goldwasser', 'Paloma Gay y Blasco', 'Pamela Erickson', 'Patricia Alice Shaw', 'Patricia Barchas', 'Patricia Birley', 'Patricia Sawin', 'Patricia Wright', 'Patricia Zavella', 'Patty Jo Watson', 'Pauline Turner Strong', 'Pearl Primus', 'Penelope Wilson', 'Penny Wolin', 'Phyllis Kaberry', 'Phyllis Morse', 'Phyllis Williams Lehmann', 'Pirkko-Liisa Lehtosalo-Hilander', 'Polly Hill', 'Polly Schaafsma', 'Priscilla Reining', 'Prudence Hero Napier', 'Rae Bridgman', 'Raquel Brailowsky', 'Rayna Rapp', 'Rebecca Grinter', 'Regina Bendix', 'Regna Darnell', 'Regula Tschumi', 'Reina Torres de Araúz', 'Renée Friedman', 'Rhoda Bubendey Métraux', 'Riane Eisler', 'Rita El Khayat', 'Rita P. Wright', 'Rivke Jaffe', 'Roberta Gilchrist', 'Rosalind Moss', 'Rose Mary Allen', 'Rosemary Cramp', 'Rosemary Firth', 'Ruth Amiran', 'Ruth Behar', 'Ruth Bunzel', 'Ruth Cardoso', 'Ruth Cernea', 'Ruth DeEtte Simpson', 'Ruth Hill Useem', 'Ruth Landes', 'Ruth Sawtell Wallis', 'Ruth Shady', 'Ruth Tringham', 'Ruth Underhill', 'S. Lochlann Jain', 'Saba Mahmood', 'Sabina Magliocco', 'Sabine Gaudzinski-Windheuser', 'Sada Mire', 'Saddeka Arebi', 'Safi Faye', 'Salima Ikram', 'Sally Falk Moore', 'Sally Larsen', 'Sally Price', 'Samar Minallah', 'Sandra Morgen', 'Sara C. Bisel', 'Sara Yorke Stevenson', 'Sarah Blaffer Hrdy', 'Sarah F. Maclaren', 'Sarah Franklin', 'Sarah Green', 'Sarah J. Mahler', 'Sarah Milledge Nelson', 'Sarah Parcak', 'Selma Al-Radi', 'Seodi White', 'Setha Low', 'Shana Poplack', 'Shannon Lee Dawdy', 'Sharada Srinivasan', 'Sharon Claydon', 'Sheila Kitzinger', 'Shelly Errington', 'Shereen Ratnagar', 'Sherry Ortner', 'Shirley Heath', 'Sidney Robertson Cowell', 'Signithia Fordham', 'Smadar Lavie', 'Sohini Ray', 'Solveig Nordström', 'Sondra Hale', 'Sonia Álvarez Leguizamón', 'Sonia Mary Cole', 'Sophie Bledsoe Aberle', 'Stine Rossel', 'Suad Joseph', 'Sue Black', 'Sue Hamilton', 'Sue Hendrickson', 'Sue Savage-Rumbaugh', 'Sula Benet', 'Sumaya bint El Hassan', 'Susan Cachel', 'Susan D. Gillespie', 'Susan E. Alcock', 'Susan Gal', 'Susan Hirsch', 'Susan Irene Rotroff', 'Susan Kane', 'Susan M. Ervin-Tripp', 'Susan Visvanathan', 'Susana Pinilla', 'Susanne Bickel', 'Susanne Osthoff', 'Susanne Schröter', 'Suzanna W. Miles', 'Svetlana Pletneva', 'Sydel Silverman', 'Sylvia Leith-Ross', 'Sylvia M. Broadbent', 'Taisha Abelar', 'Tamasin Ramsay', 'Tanya Luhrmann', 'Tatiana Proskouriakoff', 'Temperance \"Bones\" Brennan', 'Teresa Giménez Barbat', 'Teresa Porzecanski', 'Theodora Kroeber', 'Theresa Goell', 'Tullia Magrini', 'Unni Wikan', 'Ursula Cowgill', 'Ursula Graham Bower', 'Ursula McConnel', 'Val Curtis', 'Veena Das', 'Vera Grabe', 'Véréna Paravel', 'Veronica Seton-Williams', 'Vibha Tripathi', 'Victoria Wyatt', 'Vilma Sindona Eichholz', 'Viola Garfield', 'Virginia Abernethy', 'Virginia Grace', 'Virginia Gutiérrez de Pineda', 'Virginia R. Domínguez', 'Vronwy Hankey', 'Wendy Ashmore', 'Wendy Fonarow', 'Wendy Orent', 'Wendy Rose', 'Wilhelmina Feemster Jashemski', 'Winifred Brunton', 'Winifred Lamb', 'Yeda Pessoa de Castro', 'Yolanda Murphy', 'Zagorka Golubović', 'Zainab Bahrani', 'Zakia Zouanat', 'Zalpa Bersanova', 'Zeineb Benzina', 'Zelia Nuttall', 'Ziba Mir-Hosseini', 'Zora Neale Hurston', 'Zsófia Torma']\n"
     ]
    }
   ],
   "source": [
    "# removing weird things that aren't names and have the '[' character such as wikitables\n",
    "women = [str(i) for i in all_women]\n",
    "for j in women[:]:\n",
    "    if \"<\" in j or \"[\" in j:\n",
    "        women.remove(j)\n",
    "\n",
    "print(women)"
   ]
  },
  {
   "cell_type": "code",
   "execution_count": 60,
   "metadata": {
    "collapsed": false
   },
   "outputs": [
    {
     "name": "stdout",
     "output_type": "stream",
     "text": [
      "1380\n"
     ]
    }
   ],
   "source": [
    "print(len(women))"
   ]
  },
  {
   "cell_type": "code",
   "execution_count": 61,
   "metadata": {
    "collapsed": false
   },
   "outputs": [
    {
     "name": "stderr",
     "output_type": "stream",
     "text": [
      "/Library/Frameworks/Python.framework/Versions/3.5/lib/python3.5/site-packages/bs4/__init__.py:181: UserWarning: No parser was explicitly specified, so I'm using the best available HTML parser for this system (\"html5lib\"). This usually isn't a problem, but if you run this code on another system, or in a different virtual environment, it may use a different parser and behave differently.\n",
      "\n",
      "The code that caused this warning is on line 184 of the file /Library/Frameworks/Python.framework/Versions/3.5/lib/python3.5/runpy.py. To get rid of this warning, change code that looks like this:\n",
      "\n",
      " BeautifulSoup(YOUR_MARKUP})\n",
      "\n",
      "to this:\n",
      "\n",
      " BeautifulSoup(YOUR_MARKUP, \"html5lib\")\n",
      "\n",
      "  markup_type=markup_type))\n"
     ]
    },
    {
     "ename": "DisambiguationError",
     "evalue": "\"Dawn Atkins\" may refer to: \nDawn Atkins (romantic novelist)\nDawn Atkins (anthropologist)",
     "output_type": "error",
     "traceback": [
      "\u001b[0;31m---------------------------------------------------------------------------\u001b[0m",
      "\u001b[0;31mDisambiguationError\u001b[0m                       Traceback (most recent call last)",
      "\u001b[0;32m<ipython-input-61-fa6f45ebddda>\u001b[0m in \u001b[0;36m<module>\u001b[0;34m()\u001b[0m\n\u001b[1;32m      1\u001b[0m \u001b[0mdata\u001b[0m \u001b[0;34m=\u001b[0m \u001b[0;34m[\u001b[0m\u001b[0;34m]\u001b[0m\u001b[0;34m\u001b[0m\u001b[0m\n\u001b[1;32m      2\u001b[0m \u001b[0;32mfor\u001b[0m \u001b[0mwoman\u001b[0m \u001b[0;32min\u001b[0m \u001b[0mwomen\u001b[0m\u001b[0;34m:\u001b[0m\u001b[0;34m\u001b[0m\u001b[0m\n\u001b[0;32m----> 3\u001b[0;31m     \u001b[0mdata\u001b[0m\u001b[0;34m.\u001b[0m\u001b[0mappend\u001b[0m\u001b[0;34m(\u001b[0m\u001b[0;34m{\u001b[0m\u001b[0;34m'name'\u001b[0m\u001b[0;34m:\u001b[0m \u001b[0mwoman\u001b[0m\u001b[0;34m,\u001b[0m \u001b[0;34m'summary'\u001b[0m\u001b[0;34m:\u001b[0m \u001b[0mwikipedia\u001b[0m\u001b[0;34m.\u001b[0m\u001b[0msummary\u001b[0m\u001b[0;34m(\u001b[0m\u001b[0mwoman\u001b[0m\u001b[0;34m)\u001b[0m\u001b[0;34m}\u001b[0m\u001b[0;34m)\u001b[0m\u001b[0;34m\u001b[0m\u001b[0m\n\u001b[0m\u001b[1;32m      4\u001b[0m \u001b[0;34m\u001b[0m\u001b[0m\n",
      "\u001b[0;32m/Library/Frameworks/Python.framework/Versions/3.5/lib/python3.5/site-packages/wikipedia/util.py\u001b[0m in \u001b[0;36m__call__\u001b[0;34m(self, *args, **kwargs)\u001b[0m\n\u001b[1;32m     26\u001b[0m       \u001b[0mret\u001b[0m \u001b[0;34m=\u001b[0m \u001b[0mself\u001b[0m\u001b[0;34m.\u001b[0m\u001b[0m_cache\u001b[0m\u001b[0;34m[\u001b[0m\u001b[0mkey\u001b[0m\u001b[0;34m]\u001b[0m\u001b[0;34m\u001b[0m\u001b[0m\n\u001b[1;32m     27\u001b[0m     \u001b[0;32melse\u001b[0m\u001b[0;34m:\u001b[0m\u001b[0;34m\u001b[0m\u001b[0m\n\u001b[0;32m---> 28\u001b[0;31m       \u001b[0mret\u001b[0m \u001b[0;34m=\u001b[0m \u001b[0mself\u001b[0m\u001b[0;34m.\u001b[0m\u001b[0m_cache\u001b[0m\u001b[0;34m[\u001b[0m\u001b[0mkey\u001b[0m\u001b[0;34m]\u001b[0m \u001b[0;34m=\u001b[0m \u001b[0mself\u001b[0m\u001b[0;34m.\u001b[0m\u001b[0mfn\u001b[0m\u001b[0;34m(\u001b[0m\u001b[0;34m*\u001b[0m\u001b[0margs\u001b[0m\u001b[0;34m,\u001b[0m \u001b[0;34m**\u001b[0m\u001b[0mkwargs\u001b[0m\u001b[0;34m)\u001b[0m\u001b[0;34m\u001b[0m\u001b[0m\n\u001b[0m\u001b[1;32m     29\u001b[0m \u001b[0;34m\u001b[0m\u001b[0m\n\u001b[1;32m     30\u001b[0m     \u001b[0;32mreturn\u001b[0m \u001b[0mret\u001b[0m\u001b[0;34m\u001b[0m\u001b[0m\n",
      "\u001b[0;32m/Library/Frameworks/Python.framework/Versions/3.5/lib/python3.5/site-packages/wikipedia/wikipedia.py\u001b[0m in \u001b[0;36msummary\u001b[0;34m(title, sentences, chars, auto_suggest, redirect)\u001b[0m\n\u001b[1;32m    229\u001b[0m   \u001b[0;31m# use auto_suggest and redirect to get the correct article\u001b[0m\u001b[0;34m\u001b[0m\u001b[0;34m\u001b[0m\u001b[0m\n\u001b[1;32m    230\u001b[0m   \u001b[0;31m# also, use page's error checking to raise DisambiguationError if necessary\u001b[0m\u001b[0;34m\u001b[0m\u001b[0;34m\u001b[0m\u001b[0m\n\u001b[0;32m--> 231\u001b[0;31m   \u001b[0mpage_info\u001b[0m \u001b[0;34m=\u001b[0m \u001b[0mpage\u001b[0m\u001b[0;34m(\u001b[0m\u001b[0mtitle\u001b[0m\u001b[0;34m,\u001b[0m \u001b[0mauto_suggest\u001b[0m\u001b[0;34m=\u001b[0m\u001b[0mauto_suggest\u001b[0m\u001b[0;34m,\u001b[0m \u001b[0mredirect\u001b[0m\u001b[0;34m=\u001b[0m\u001b[0mredirect\u001b[0m\u001b[0;34m)\u001b[0m\u001b[0;34m\u001b[0m\u001b[0m\n\u001b[0m\u001b[1;32m    232\u001b[0m   \u001b[0mtitle\u001b[0m \u001b[0;34m=\u001b[0m \u001b[0mpage_info\u001b[0m\u001b[0;34m.\u001b[0m\u001b[0mtitle\u001b[0m\u001b[0;34m\u001b[0m\u001b[0m\n\u001b[1;32m    233\u001b[0m   \u001b[0mpageid\u001b[0m \u001b[0;34m=\u001b[0m \u001b[0mpage_info\u001b[0m\u001b[0;34m.\u001b[0m\u001b[0mpageid\u001b[0m\u001b[0;34m\u001b[0m\u001b[0m\n",
      "\u001b[0;32m/Library/Frameworks/Python.framework/Versions/3.5/lib/python3.5/site-packages/wikipedia/wikipedia.py\u001b[0m in \u001b[0;36mpage\u001b[0;34m(title, pageid, auto_suggest, redirect, preload)\u001b[0m\n\u001b[1;32m    274\u001b[0m         \u001b[0;31m# if there is no suggestion or search results, the page doesn't exist\u001b[0m\u001b[0;34m\u001b[0m\u001b[0;34m\u001b[0m\u001b[0m\n\u001b[1;32m    275\u001b[0m         \u001b[0;32mraise\u001b[0m \u001b[0mPageError\u001b[0m\u001b[0;34m(\u001b[0m\u001b[0mtitle\u001b[0m\u001b[0;34m)\u001b[0m\u001b[0;34m\u001b[0m\u001b[0m\n\u001b[0;32m--> 276\u001b[0;31m     \u001b[0;32mreturn\u001b[0m \u001b[0mWikipediaPage\u001b[0m\u001b[0;34m(\u001b[0m\u001b[0mtitle\u001b[0m\u001b[0;34m,\u001b[0m \u001b[0mredirect\u001b[0m\u001b[0;34m=\u001b[0m\u001b[0mredirect\u001b[0m\u001b[0;34m,\u001b[0m \u001b[0mpreload\u001b[0m\u001b[0;34m=\u001b[0m\u001b[0mpreload\u001b[0m\u001b[0;34m)\u001b[0m\u001b[0;34m\u001b[0m\u001b[0m\n\u001b[0m\u001b[1;32m    277\u001b[0m   \u001b[0;32melif\u001b[0m \u001b[0mpageid\u001b[0m \u001b[0;32mis\u001b[0m \u001b[0;32mnot\u001b[0m \u001b[0;32mNone\u001b[0m\u001b[0;34m:\u001b[0m\u001b[0;34m\u001b[0m\u001b[0m\n\u001b[1;32m    278\u001b[0m     \u001b[0;32mreturn\u001b[0m \u001b[0mWikipediaPage\u001b[0m\u001b[0;34m(\u001b[0m\u001b[0mpageid\u001b[0m\u001b[0;34m=\u001b[0m\u001b[0mpageid\u001b[0m\u001b[0;34m,\u001b[0m \u001b[0mpreload\u001b[0m\u001b[0;34m=\u001b[0m\u001b[0mpreload\u001b[0m\u001b[0;34m)\u001b[0m\u001b[0;34m\u001b[0m\u001b[0m\n",
      "\u001b[0;32m/Library/Frameworks/Python.framework/Versions/3.5/lib/python3.5/site-packages/wikipedia/wikipedia.py\u001b[0m in \u001b[0;36m__init__\u001b[0;34m(self, title, pageid, redirect, preload, original_title)\u001b[0m\n\u001b[1;32m    297\u001b[0m       \u001b[0;32mraise\u001b[0m \u001b[0mValueError\u001b[0m\u001b[0;34m(\u001b[0m\u001b[0;34m\"Either a title or a pageid must be specified\"\u001b[0m\u001b[0;34m)\u001b[0m\u001b[0;34m\u001b[0m\u001b[0m\n\u001b[1;32m    298\u001b[0m \u001b[0;34m\u001b[0m\u001b[0m\n\u001b[0;32m--> 299\u001b[0;31m     \u001b[0mself\u001b[0m\u001b[0;34m.\u001b[0m\u001b[0m__load\u001b[0m\u001b[0;34m(\u001b[0m\u001b[0mredirect\u001b[0m\u001b[0;34m=\u001b[0m\u001b[0mredirect\u001b[0m\u001b[0;34m,\u001b[0m \u001b[0mpreload\u001b[0m\u001b[0;34m=\u001b[0m\u001b[0mpreload\u001b[0m\u001b[0;34m)\u001b[0m\u001b[0;34m\u001b[0m\u001b[0m\n\u001b[0m\u001b[1;32m    300\u001b[0m \u001b[0;34m\u001b[0m\u001b[0m\n\u001b[1;32m    301\u001b[0m     \u001b[0;32mif\u001b[0m \u001b[0mpreload\u001b[0m\u001b[0;34m:\u001b[0m\u001b[0;34m\u001b[0m\u001b[0m\n",
      "\u001b[0;32m/Library/Frameworks/Python.framework/Versions/3.5/lib/python3.5/site-packages/wikipedia/wikipedia.py\u001b[0m in \u001b[0;36m__load\u001b[0;34m(self, redirect, preload)\u001b[0m\n\u001b[1;32m    391\u001b[0m       \u001b[0mmay_refer_to\u001b[0m \u001b[0;34m=\u001b[0m \u001b[0;34m[\u001b[0m\u001b[0mli\u001b[0m\u001b[0;34m.\u001b[0m\u001b[0ma\u001b[0m\u001b[0;34m.\u001b[0m\u001b[0mget_text\u001b[0m\u001b[0;34m(\u001b[0m\u001b[0;34m)\u001b[0m \u001b[0;32mfor\u001b[0m \u001b[0mli\u001b[0m \u001b[0;32min\u001b[0m \u001b[0mfiltered_lis\u001b[0m \u001b[0;32mif\u001b[0m \u001b[0mli\u001b[0m\u001b[0;34m.\u001b[0m\u001b[0ma\u001b[0m\u001b[0;34m]\u001b[0m\u001b[0;34m\u001b[0m\u001b[0m\n\u001b[1;32m    392\u001b[0m \u001b[0;34m\u001b[0m\u001b[0m\n\u001b[0;32m--> 393\u001b[0;31m       \u001b[0;32mraise\u001b[0m \u001b[0mDisambiguationError\u001b[0m\u001b[0;34m(\u001b[0m\u001b[0mgetattr\u001b[0m\u001b[0;34m(\u001b[0m\u001b[0mself\u001b[0m\u001b[0;34m,\u001b[0m \u001b[0;34m'title'\u001b[0m\u001b[0;34m,\u001b[0m \u001b[0mpage\u001b[0m\u001b[0;34m[\u001b[0m\u001b[0;34m'title'\u001b[0m\u001b[0;34m]\u001b[0m\u001b[0;34m)\u001b[0m\u001b[0;34m,\u001b[0m \u001b[0mmay_refer_to\u001b[0m\u001b[0;34m)\u001b[0m\u001b[0;34m\u001b[0m\u001b[0m\n\u001b[0m\u001b[1;32m    394\u001b[0m \u001b[0;34m\u001b[0m\u001b[0m\n\u001b[1;32m    395\u001b[0m     \u001b[0;32melse\u001b[0m\u001b[0;34m:\u001b[0m\u001b[0;34m\u001b[0m\u001b[0m\n",
      "\u001b[0;31mDisambiguationError\u001b[0m: \"Dawn Atkins\" may refer to: \nDawn Atkins (romantic novelist)\nDawn Atkins (anthropologist)"
     ]
    }
   ],
   "source": [
    "data = []\n",
    "for woman in women:\n",
    "    data.append({'name': woman, 'summary': wikipedia.summary(woman)})\n",
    "  "
   ]
  },
  {
   "cell_type": "code",
   "execution_count": 65,
   "metadata": {
    "collapsed": true
   },
   "outputs": [],
   "source": [
    "import json"
   ]
  },
  {
   "cell_type": "code",
   "execution_count": 113,
   "metadata": {
    "collapsed": false
   },
   "outputs": [
    {
     "data": {
      "text/plain": [
       "1311"
      ]
     },
     "execution_count": 113,
     "metadata": {},
     "output_type": "execute_result"
    }
   ],
   "source": [
    "women.index(\"Sue Hamilton\")\n",
    "# dawn atkins, elizabeth, elizabeth grant, elizabeth thomas, emily martin, francis j white, leslie milne, miyako inoue\n",
    "# sarah green, sue black, sue hamilton"
   ]
  },
  {
   "cell_type": "code",
   "execution_count": 119,
   "metadata": {
    "collapsed": false
   },
   "outputs": [
    {
     "name": "stdout",
     "output_type": "stream",
     "text": [
      "1379\n"
     ]
    }
   ],
   "source": [
    "print(len(data))"
   ]
  },
  {
   "cell_type": "code",
   "execution_count": 117,
   "metadata": {
    "collapsed": false
   },
   "outputs": [],
   "source": [
    "for woman in women[1340:]:\n",
    "    data.append({'name': woman, 'summary': wikipedia.summary(woman)})"
   ]
  },
  {
   "cell_type": "code",
   "execution_count": 118,
   "metadata": {
    "collapsed": false
   },
   "outputs": [],
   "source": [
    "with open('data.json', 'w') as outfile:\n",
    "    json.dump(data, outfile)"
   ]
  },
  {
   "cell_type": "code",
   "execution_count": null,
   "metadata": {
    "collapsed": true
   },
   "outputs": [],
   "source": [
    "# REMOVE DUPLICATE PPL AT THE VERY END"
   ]
  }
 ],
 "metadata": {
  "kernelspec": {
   "display_name": "venv",
   "language": "python",
   "name": "venv"
  },
  "language_info": {
   "codemirror_mode": {
    "name": "ipython",
    "version": 3
   },
   "file_extension": ".py",
   "mimetype": "text/x-python",
   "name": "python",
   "nbconvert_exporter": "python",
   "pygments_lexer": "ipython3",
   "version": "3.5.2"
  }
 },
 "nbformat": 4,
 "nbformat_minor": 2
}
