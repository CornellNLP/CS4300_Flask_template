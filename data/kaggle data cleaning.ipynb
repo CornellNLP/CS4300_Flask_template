{
 "cells": [
  {
   "cell_type": "markdown",
   "metadata": {},
   "source": [
    "# Kaggle data"
   ]
  },
  {
   "cell_type": "code",
   "execution_count": 59,
   "metadata": {},
   "outputs": [
    {
     "name": "stdout",
     "output_type": "stream",
     "text": [
      "{'RecipeID': '7000', 'profileID': '675719', 'Rate': '5.0'}\n"
     ]
    }
   ],
   "source": [
    "#import review data\n",
    "import csv\n",
    "\n",
    "\n",
    "keys = [\"RecipeID\",\"ProfileID\", \"Rate\"]\n",
    "\n",
    "with open('recipe_data/clean_reviews.csv') as f:\n",
    "    a = [dict(row) for row in csv.DictReader(f, skipinitialspace=True)]\n",
    "print(a[0])"
   ]
  },
  {
   "cell_type": "code",
   "execution_count": 60,
   "metadata": {},
   "outputs": [],
   "source": [
    "#accumulate the ratings for each id\n",
    "accum_avg = {}\n",
    "for dic in a:\n",
    "    if float(dic[\"RecipeID\"]) in accum_avg:\n",
    "        accum_avg[float(dic[\"RecipeID\"])] += [float(dic[\"Rate\"])]\n",
    "    else:\n",
    "        accum_avg[float(dic[\"RecipeID\"])] = [float(dic[\"Rate\"])]"
   ]
  },
  {
   "cell_type": "code",
   "execution_count": 61,
   "metadata": {},
   "outputs": [
    {
     "data": {
      "text/plain": [
       "4.621212121212121"
      ]
     },
     "execution_count": 61,
     "metadata": {},
     "output_type": "execute_result"
    }
   ],
   "source": [
    "#calcualted average\n",
    "import statistics\n",
    "rev_avgs = {}\n",
    "for k,v in accum_avg.items():\n",
    "    rev_avgs[k] = statistics.mean(v)\n",
    "rev_avgs[7000]"
   ]
  },
  {
   "cell_type": "code",
   "execution_count": 62,
   "metadata": {},
   "outputs": [
    {
     "data": {
      "text/plain": [
       "9036"
      ]
     },
     "execution_count": 62,
     "metadata": {},
     "output_type": "execute_result"
    }
   ],
   "source": [
    "len(rev_avgs.keys())"
   ]
  },
  {
   "cell_type": "code",
   "execution_count": 35,
   "metadata": {},
   "outputs": [],
   "source": [
    "#save reviews average json\n",
    "with open('average_reviews.json', 'w') as outfile:\n",
    "    json.dump(rev_avgs, outfile)"
   ]
  },
  {
   "cell_type": "code",
   "execution_count": 33,
   "metadata": {},
   "outputs": [
    {
     "name": "stdout",
     "output_type": "stream",
     "text": [
      "dict_keys(['Recipe Name', 'Review Count', 'Recipe Photo', 'Author', 'Prepare Time', 'Cook Time', 'Total Time', 'Ingredients', 'Directions', 'RecipeID'])\n"
     ]
    }
   ],
   "source": [
    "#load in recipes csv\n",
    "import json\n",
    "\n",
    "with open('recipe_data/clean_recipes.csv') as f1:\n",
    "    reps = [json.loads(json.dumps(row)) for row in csv.DictReader(f1, skipinitialspace=True, delimiter=\";\")]\n",
    "print(reps[0].keys())"
   ]
  },
  {
   "cell_type": "code",
   "execution_count": 77,
   "metadata": {},
   "outputs": [
    {
     "data": {
      "text/plain": [
       "12351"
      ]
     },
     "execution_count": 77,
     "metadata": {},
     "output_type": "execute_result"
    }
   ],
   "source": [
    "len(reps)"
   ]
  },
  {
   "cell_type": "code",
   "execution_count": 38,
   "metadata": {},
   "outputs": [
    {
     "data": {
      "text/plain": [
       "'yeast,water,white sugar,salt,egg,butter,flour,butter'"
      ]
     },
     "execution_count": 38,
     "metadata": {},
     "output_type": "execute_result"
    }
   ],
   "source": [
    "reps[0]['Ingredients']"
   ]
  },
  {
   "cell_type": "markdown",
   "metadata": {},
   "source": [
    "# Exploratory Data"
   ]
  },
  {
   "cell_type": "code",
   "execution_count": 38,
   "metadata": {},
   "outputs": [],
   "source": [
    "import statistics\n",
    "import json\n",
    "import ast"
   ]
  },
  {
   "cell_type": "code",
   "execution_count": 45,
   "metadata": {},
   "outputs": [],
   "source": [
    "# 1 h 20 m  to num minutes\n",
    "def time_conversion(input_str):\n",
    "    if len(input_str)==1 or (not input_str):\n",
    "        return None\n",
    "    else:\n",
    "        arr = input_str.split()\n",
    "        if len(arr)<=2:\n",
    "            return int(arr[0])\n",
    "        elif len(arr) <= 4:\n",
    "            return int(arr[0])*60 + int(arr[2])\n",
    "        elif len(arr) <= 6:\n",
    "            return int(arr[0])*60*12 + int(arr[2])*60 + int(arr[4])\n",
    "    pass"
   ]
  },
  {
   "cell_type": "code",
   "execution_count": 50,
   "metadata": {},
   "outputs": [],
   "source": [
    "# 1k to 1000\n",
    "def num_conversion(input_str):\n",
    "    if input_str.isdigit():\n",
    "        return int(input_str)\n",
    "    elif len(input_str)>1:\n",
    "        return float(input_str[:-1])*1000\n",
    "    else:\n",
    "        print(\"hi\")\n",
    "        return None"
   ]
  },
  {
   "cell_type": "code",
   "execution_count": 51,
   "metadata": {},
   "outputs": [],
   "source": [
    "names = []\n",
    "rev_count = []\n",
    "authors= []\n",
    "prep_time = []\n",
    "cook_time = []\n",
    "total_time = []\n",
    "ingredients = []\n",
    "directions = []\n",
    "ids = []\n",
    "\n",
    "for dic in reps:\n",
    "    names += [dic['Recipe Name']]\n",
    "    revs = num_conversion(dic['Review Count'])\n",
    "    if revs: rev_count += [revs]\n",
    "    authors += [dic['Author']]\n",
    "    prep = time_conversion(dic['Prepare Time'])\n",
    "    cook = time_conversion(dic['Cook Time'])\n",
    "    total = time_conversion(dic['Total Time'])\n",
    "    if prep: prep_time += [prep] \n",
    "    if cook: cook_time += [cook] \n",
    "    if total: total_time += [total] \n",
    "    ingredients += [dic['Ingredients'].split(',')]  #split ingredients on \",\" -- should also trim all items in resulting list\n",
    "    directions += [dic['Directions']]\n",
    "    ids += [dic['RecipeID']]"
   ]
  },
  {
   "cell_type": "code",
   "execution_count": 53,
   "metadata": {},
   "outputs": [
    {
     "name": "stdout",
     "output_type": "stream",
     "text": [
      "With prep time:  0.6635090276091005 Without prep time:  0.33649097239089953\n"
     ]
    }
   ],
   "source": [
    "#percentage of recipies with prep time\n",
    "wth_prep = len(prep_time)/len(reps)\n",
    "wthout_prep = 1 - wth_prep\n",
    "print(\"With prep time: \", wth_prep, \"Without prep time: \", wthout_prep)"
   ]
  },
  {
   "cell_type": "code",
   "execution_count": 54,
   "metadata": {},
   "outputs": [
    {
     "name": "stdout",
     "output_type": "stream",
     "text": [
      "With cook time:  0.5241680835559873 Without cook time:  0.4758319164440127\n"
     ]
    }
   ],
   "source": [
    "#percentage of recipies with cook time\n",
    "wth_cook = len(cook_time)/len(reps)\n",
    "wthout_cook = 1 - wth_cook\n",
    "print(\"With cook time: \", wth_cook, \"Without cook time: \", wthout_cook)"
   ]
  },
  {
   "cell_type": "code",
   "execution_count": 55,
   "metadata": {},
   "outputs": [
    {
     "name": "stdout",
     "output_type": "stream",
     "text": [
      "With total time:  0.6687717593717107 Without total time:  0.33122824062828926\n"
     ]
    }
   ],
   "source": [
    "#percentage of recipies with total time\n",
    "wth_total = len(total_time)/len(reps)\n",
    "wthout_total = 1 - wth_total\n",
    "print(\"With total time: \", wth_total, \"Without total time: \", wthout_total)"
   ]
  },
  {
   "cell_type": "code",
   "execution_count": 56,
   "metadata": {},
   "outputs": [
    {
     "name": "stdout",
     "output_type": "stream",
     "text": [
      "Total time (in mins): \n",
      "Mean:  87.16246973365618 \n",
      "Median:  45.0 \n",
      "Std dev:  204.69913837670003\n"
     ]
    }
   ],
   "source": [
    "#mean and median and sd total time, ignoring empties\n",
    "#times_no_emp = [int(item) for item in times if item]\n",
    "mn = statistics.mean(total_time)\n",
    "mdn = statistics.median(total_time)\n",
    "sd = statistics.stdev(total_time)\n",
    "\n",
    "print(\"Total time (in mins): \\nMean: \", mn, \"\\nMedian: \", mdn, \"\\nStd dev: \", sd)"
   ]
  },
  {
   "cell_type": "code",
   "execution_count": 63,
   "metadata": {},
   "outputs": [
    {
     "name": "stdout",
     "output_type": "stream",
     "text": [
      "With ratings:  0.731600680106874 Without ratings:  0.26839931989312604\n"
     ]
    }
   ],
   "source": [
    "#percentage recipies withtout ratings\n",
    "wth_r = len(rev_avgs.values())/len(reps)\n",
    "wthout_r = 1 - wth_r\n",
    "print(\"With ratings: \", wth_r, \"Without ratings: \", wthout_r)"
   ]
  },
  {
   "cell_type": "code",
   "execution_count": 64,
   "metadata": {},
   "outputs": [
    {
     "name": "stdout",
     "output_type": "stream",
     "text": [
      "Ratings (out of 5): \n",
      "Mean:  4.406124892821409 \n",
      "Median:  4.466666666666667 \n",
      "Std dev:  0.3105658301939331\n"
     ]
    }
   ],
   "source": [
    "#mean median sd recipie rating\n",
    "\n",
    "mn_r = statistics.mean(rev_avgs.values())\n",
    "mdn_r = statistics.median(rev_avgs.values())\n",
    "sd_r = statistics.stdev(rev_avgs.values())\n",
    "\n",
    "print(\"Ratings (out of 5): \\nMean: \", mn_r, \"\\nMedian: \", mdn_r, \"\\nStd dev: \", sd_r)"
   ]
  },
  {
   "cell_type": "code",
   "execution_count": 66,
   "metadata": {},
   "outputs": [
    {
     "data": {
      "image/png": "[encoded data removed]",
      "text/plain": [
       "<Figure size 432x288 with 1 Axes>"
      ]
     },
     "metadata": {},
     "output_type": "display_data"
    }
   ],
   "source": [
    "#graph distribution of ratings\n",
    "import matplotlib.pyplot as plt\n",
    "import numpy as np\n",
    "%matplotlib inline\n",
    "\n",
    "\n",
    "plt.hist(rev_avgs.values(), density=True, bins=50)\n",
    "plt.ylabel('Data')\n",
    "plt.xlabel('Rating')\n",
    "plt.show()"
   ]
  },
  {
   "cell_type": "code",
   "execution_count": 71,
   "metadata": {},
   "outputs": [
    {
     "name": "stdout",
     "output_type": "stream",
     "text": [
      "Num Ratings: \n",
      "Mean:  122.24881979488849 \n",
      "Median:  34.0 \n",
      "Max:  11000.0\n"
     ]
    }
   ],
   "source": [
    "#max, mean, and median num ratings\n",
    "max_c = max(rev_count)\n",
    "median_c = statistics.median(rev_count)\n",
    "mean_c = statistics.mean(rev_count)\n",
    "\n",
    "print(\"Num Ratings: \\nMean: \", mean_c, \"\\nMedian: \", median_c, \"\\nMax: \", max_c)"
   ]
  },
  {
   "cell_type": "code",
   "execution_count": 78,
   "metadata": {},
   "outputs": [
    {
     "data": {
      "image/png": "[encoded data removed]",
      "text/plain": [
       "<Figure size 432x288 with 1 Axes>"
      ]
     },
     "metadata": {},
     "output_type": "display_data"
    }
   ],
   "source": [
    "#graph number of ratings\n",
    "\n",
    "plt.hist(rev_count, density=True, bins=20, range = (0,1000))\n",
    "plt.ylabel('Data')\n",
    "plt.xlabel('Num Ratings')\n",
    "#plt.set_xlim((0, 1000))\n",
    "plt.show()"
   ]
  },
  {
   "cell_type": "code",
   "execution_count": 67,
   "metadata": {},
   "outputs": [
    {
     "name": "stdout",
     "output_type": "stream",
     "text": [
      "Num Ingredeints: \n",
      "Mean:  8.300299570884949 \n",
      "Max:  30 \n",
      "Min:  1\n"
     ]
    }
   ],
   "source": [
    "#max num ingredients, min, mean\n",
    "num_ingredients = [len(x) for x in ingredients]\n",
    "max_l = max(num_ingredients)\n",
    "min_l = min(num_ingredients)\n",
    "mean_l = statistics.mean(num_ingredients)\n",
    "\n",
    "print(\"Num Ingredeints: \\nMean: \", mean_l, \"\\nMax: \", max_l, \"\\nMin: \", min_l)"
   ]
  },
  {
   "cell_type": "code",
   "execution_count": 69,
   "metadata": {},
   "outputs": [
    {
     "data": {
      "image/png": "[encoded data removed]",
      "text/plain": [
       "<Figure size 432x288 with 1 Axes>"
      ]
     },
     "metadata": {},
     "output_type": "display_data"
    }
   ],
   "source": [
    "#graph number of ingredients\n",
    "\n",
    "plt.hist(num_ingredients, density=True, bins=30)\n",
    "plt.ylabel('Data')\n",
    "plt.xlabel('Num Ingredeints')\n",
    "plt.show()"
   ]
  },
  {
   "cell_type": "markdown",
   "metadata": {},
   "source": [
    "# Cleaning Data and Formatting as Json"
   ]
  },
  {
   "cell_type": "code",
   "execution_count": 2,
   "metadata": {},
   "outputs": [],
   "source": [
    "#load in recipes csv\n",
    "import json\n",
    "import csv\n",
    "\n",
    "with open('recipe_data/clean_recipes.csv') as f1:\n",
    "    reps = [json.loads(json.dumps(row)) for row in csv.DictReader(f1, skipinitialspace=True, delimiter=\";\")]"
   ]
  },
  {
   "cell_type": "code",
   "execution_count": 4,
   "metadata": {},
   "outputs": [],
   "source": [
    "#load in review data\n",
    "with open('average_reviews.json') as f1:\n",
    "    reviews = json.loads(f1.read())"
   ]
  },
  {
   "cell_type": "code",
   "execution_count": 6,
   "metadata": {},
   "outputs": [
    {
     "name": "stdout",
     "output_type": "stream",
     "text": [
      "{'Recipe Name': 'Poppy Seed Bread with Glaze Recipe ', 'Review Count': '137', 'Recipe Photo': 'https://images.media-allrecipes.com/userphotos/560x315/34726.jpg', 'Author': 'Christina Jun', 'Prepare Time': '15 m', 'Cook Time': '1 h', 'Total Time': '1 h 20 m', 'Ingredients': 'flour,salt,baking powder,poppy,butter,vegetable oil,egg,milk,white sugar,vanilla,almond,orange juice,butter,almond,vanilla,sugar', 'Directions': \"'Preheat oven to 350 degrees F (175 degrees C). Grease bottoms of two 9-inch loaf pans.**Mix together flour, salt, baking powder, poppy seeds, butter flavoring, oil, eggs, milk, sugar, vanilla, and almond flavoring. Pour into prepared pans.**Bake at 350 degrees F (175 degrees C) for one hour. Cool 5 minutes. Poke holes in top of loaves and pour glaze over.**To make glaze: Mix orange juice, 1/2 teaspoon butter flavoring, 1/2 teaspoon almond flavoring, and 1 teaspoon vanilla. Add enough confectioners'' sugar to make glaze.**'\", 'RecipeID': '7001'}\n",
      "7000.0\n"
     ]
    }
   ],
   "source": [
    "#check what data types the ids are\n",
    "print(reps[1])\n",
    "print(list(reviews.keys())[0])"
   ]
  },
  {
   "cell_type": "code",
   "execution_count": 19,
   "metadata": {},
   "outputs": [
    {
     "name": "stdout",
     "output_type": "stream",
     "text": [
      "9036\n",
      "12351\n"
     ]
    },
    {
     "data": {
      "text/plain": [
       "6426"
      ]
     },
     "execution_count": 19,
     "metadata": {},
     "output_type": "execute_result"
    }
   ],
   "source": [
    "#float(reps[0]['RecipeID']) in list(reviews.keys())\n",
    "x1 = set(reviews.keys())\n",
    "x1 = set(int(float(x)) for x in x1)\n",
    "x2 = set([int(x['RecipeID']) for x in reps])\n",
    "print(len(x1))\n",
    "print(len(x2))\n",
    "len(x1.intersection(x2))"
   ]
  },
  {
   "cell_type": "code",
   "execution_count": 16,
   "metadata": {},
   "outputs": [
    {
     "name": "stdout",
     "output_type": "stream",
     "text": [
      "9036\n",
      "12351\n",
      "6426\n"
     ]
    }
   ],
   "source": [
    "total_recipes = {}\n",
    "print(len(reviews))\n",
    "print(len(reps))\n",
    "for recipe in reps:\n",
    "    if str(float(recipe['RecipeID'])) in reviews: #might need to change depending on types\n",
    "        #print(\"enter if\")\n",
    "        total_recipes[int(recipe['RecipeID'])] = {k:v for k,v in recipe.items() if k!='RecipeID'}\n",
    "        total_recipes[int(recipe['RecipeID'])][\"AvgReview\"] = reviews[str(float(recipe['RecipeID']))] #again need to type check\n",
    "print(len(total_recipes))"
   ]
  },
  {
   "cell_type": "code",
   "execution_count": 21,
   "metadata": {},
   "outputs": [],
   "source": [
    "with open('recipes_with_reviews.json', 'w') as f1:\n",
    "    json.dump(total_recipes, f1)"
   ]
  },
  {
   "cell_type": "markdown",
   "metadata": {},
   "source": [
    "# Extracting food words"
   ]
  },
  {
   "cell_type": "code",
   "execution_count": 22,
   "metadata": {},
   "outputs": [],
   "source": [
    "food_words = set()"
   ]
  },
  {
   "cell_type": "code",
   "execution_count": 23,
   "metadata": {},
   "outputs": [
    {
     "name": "stderr",
     "output_type": "stream",
     "text": [
      "[nltk_data] Downloading package stopwords to\n",
      "[nltk_data]     /Users/ElizabethHealy/nltk_data...\n",
      "[nltk_data]   Package stopwords is already up-to-date!\n",
      "[nltk_data] Downloading package punkt to\n",
      "[nltk_data]     /Users/ElizabethHealy/nltk_data...\n",
      "[nltk_data]   Package punkt is already up-to-date!\n"
     ]
    }
   ],
   "source": [
    "import nltk\n",
    "import ssl\n",
    "\n",
    "try:\n",
    "    _create_unverified_https_context = ssl._create_unverified_context\n",
    "except AttributeError:\n",
    "    pass\n",
    "else:\n",
    "    ssl._create_default_https_context = _create_unverified_https_context\n",
    "    \n",
    "nltk.download('stopwords')\n",
    "nltk.download('punkt')\n",
    "from nltk import word_tokenize\n",
    "from nltk import sent_tokenize\n",
    "from nltk.corpus import stopwords"
   ]
  },
  {
   "cell_type": "code",
   "execution_count": 26,
   "metadata": {},
   "outputs": [],
   "source": [
    "from nltk.stem.porter import PorterStemmer\n",
    "porter = PorterStemmer()"
   ]
  },
  {
   "cell_type": "code",
   "execution_count": 31,
   "metadata": {},
   "outputs": [],
   "source": [
    "from tqdm.notebook import tqdm"
   ]
  },
  {
   "cell_type": "code",
   "execution_count": 32,
   "metadata": {},
   "outputs": [
    {
     "data": {
      "application/vnd.jupyter.widget-view+json": {
       "model_id": "3c2798db62ae4db5b4ad9fa5b593902a",
       "version_major": 2,
       "version_minor": 0
      },
      "text/html": [
       "<p>Failed to display Jupyter Widget of type <code>HBox</code>.</p>\n",
       "<p>\n",
       "  If you're reading this message in the Jupyter Notebook or JupyterLab Notebook, it may mean\n",
       "  that the widgets JavaScript is still loading. If this message persists, it\n",
       "  likely means that the widgets JavaScript library is either not installed or\n",
       "  not enabled. See the <a href=\"https://ipywidgets.readthedocs.io/en/stable/user_install.html\">Jupyter\n",
       "  Widgets Documentation</a> for setup instructions.\n",
       "</p>\n",
       "<p>\n",
       "  If you're reading this message in another frontend (for example, a static\n",
       "  rendering on GitHub or <a href=\"https://nbviewer.jupyter.org/\">NBViewer</a>),\n",
       "  it may mean that your frontend doesn't currently support widgets.\n",
       "</p>\n"
      ],
      "text/plain": [
       "HBox(children=(HTML(value=''), FloatProgress(value=0.0, max=12351.0), HTML(value='')))"
      ]
     },
     "metadata": {},
     "output_type": "display_data"
    },
    {
     "name": "stdout",
     "output_type": "stream",
     "text": [
      "\n",
      "3371\n",
      "['oz', 'patatosalata', 'popper', 'gobi', 'occas', 'xviii', 'eclair', 'basil', 'smoker', 'dole']\n"
     ]
    }
   ],
   "source": [
    "for rep in tqdm(reps):\n",
    "    title = rep['Recipe Name'].lower()\n",
    "    ingred = rep['Ingredients'].lower()\n",
    "    title_toks = [porter.stem(tok) for tok in word_tokenize(title) \n",
    "                  if tok.isalpha() and tok not in stopwords.words('english')]\n",
    "    ingred_toks = [porter.stem(tok) for tok in word_tokenize(ingred) \n",
    "                   if tok.isalpha() and tok not in stopwords.words('english')]\n",
    "    food_words.update(title_toks)\n",
    "    food_words.update(ingred_toks)\n",
    "print(len(food_words))\n",
    "print(list(food_words)[:10])"
   ]
  },
  {
   "cell_type": "code",
   "execution_count": 24,
   "metadata": {},
   "outputs": [
    {
     "data": {
      "text/plain": [
       "{'Author': 'Mike A.',\n",
       " 'Cook Time': '15 m',\n",
       " 'Directions': 'Dissolve yeast in warm water.**Stir in sugar, salt, eggs, butter, and 2 cups of flour. Beat until smooth. Mix in remaining flour until smooth. Scrape dough from side of bowl. Knead dough, then cover it and let rise in a warm place until double (about 1 1/2 hours).**Punch down dough. Divide in half. Roll each half into a 12-inch circle. Spread with butter. Cut into 10 to 15 wedge. Roll up the wedges starting with the wide end. Place rolls with point under on a greased baking sheet. Cover and let rise until double (about 1 hour).**Bake at 400 degrees F (205 degrees C) for 12-15 minute or until golden brown. Brush tops with butter when they come out of the oven.**',\n",
       " 'Ingredients': 'yeast,water,white sugar,salt,egg,butter,flour,butter',\n",
       " 'Prepare Time': '25 m',\n",
       " 'Recipe Name': 'Golden Crescent Rolls Recipe ',\n",
       " 'Recipe Photo': 'https://images.media-allrecipes.com/userphotos/560x315/4465807.jpg',\n",
       " 'RecipeID': '7000',\n",
       " 'Review Count': '304',\n",
       " 'Total Time': '3 h 10 m'}"
      ]
     },
     "execution_count": 24,
     "metadata": {},
     "output_type": "execute_result"
    }
   ],
   "source": [
    "reps[0]"
   ]
  },
  {
   "cell_type": "code",
   "execution_count": 33,
   "metadata": {},
   "outputs": [
    {
     "data": {
      "text/plain": [
       "True"
      ]
     },
     "execution_count": 33,
     "metadata": {},
     "output_type": "execute_result"
    }
   ],
   "source": [
    "'burger' in food_words"
   ]
  },
  {
   "cell_type": "code",
   "execution_count": 34,
   "metadata": {},
   "outputs": [
    {
     "data": {
      "text/plain": [
       "False"
      ]
     },
     "execution_count": 34,
     "metadata": {},
     "output_type": "execute_result"
    }
   ],
   "source": [
    "'cheese' in food_words"
   ]
  },
  {
   "cell_type": "code",
   "execution_count": 35,
   "metadata": {},
   "outputs": [
    {
     "data": {
      "text/plain": [
       "'chees'"
      ]
     },
     "execution_count": 35,
     "metadata": {},
     "output_type": "execute_result"
    }
   ],
   "source": [
    "porter.stem('cheese')"
   ]
  },
  {
   "cell_type": "code",
   "execution_count": 37,
   "metadata": {},
   "outputs": [],
   "source": [
    "import json\n",
    "with open(\"recipe_food_words.json\", \"w\") as outfile: \n",
    "    json.dump(list(food_words), outfile)"
   ]
  },
  {
   "cell_type": "code",
   "execution_count": null,
   "metadata": {},
   "outputs": [],
   "source": []
  }
 ],
 "metadata": {
  "kernelspec": {
   "display_name": "Python 3",
   "language": "python",
   "name": "python3"
  },
  "language_info": {
   "codemirror_mode": {
    "name": "ipython",
    "version": 3
   },
   "file_extension": ".py",
   "mimetype": "text/x-python",
   "name": "python",
   "nbconvert_exporter": "python",
   "pygments_lexer": "ipython3",
   "version": "3.7.6"
  }
 },
 "nbformat": 4,
 "nbformat_minor": 2
}
