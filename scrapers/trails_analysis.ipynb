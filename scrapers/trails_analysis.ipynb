{
 "cells": [
  {
   "cell_type": "markdown",
   "metadata": {},
   "source": [
    "# Hiking Trails Data Analysis\n",
    "This notebook will explore the following:\n",
    "- Average number of reviews with and without comments per trail\n",
    "- Distribution of trail difficulty\n",
    "- Distribution of trail length\n",
    "- Distribution of trail ratings\n",
    "- Frequency of terms used in trail reviews "
   ]
  },
  {
   "cell_type": "code",
   "execution_count": 4,
   "metadata": {},
   "outputs": [],
   "source": [
    "import json\n",
    "import pprint\n",
    "\n",
    "import numpy as np\n",
    "import matplotlib.pyplot as plt\n",
    "\n",
    "import re\n",
    "from collections import Counter\n",
    "import math"
   ]
  },
  {
   "cell_type": "code",
   "execution_count": 5,
   "metadata": {},
   "outputs": [
    {
     "name": "stdout",
     "output_type": "stream",
     "text": [
      "{'AllTrails ID': 10299831,\n",
      " 'Description': 'Need a break from the hassles of everyday life?  A walk '\n",
      "                'through the fern-carpeted forests of the Ellis Hollow Nature '\n",
      "                'Preserve could be just the thing.  In winter, take your '\n",
      "                'cross-country skis to enjoy one of the peaceful, snow-covered '\n",
      "                'loop trails.  Just a short drive from downtown Ithaca, this '\n",
      "                '150-acre preserve on the northern hillside of the Ellis '\n",
      "                'Hollow valley has 2 miles of hiking trails. The parking area '\n",
      "                \"and initial stretch of trail gives no hint of what's to \"\n",
      "                'come.  After 500 feet you will find an informational kiosk '\n",
      "                'which marks the junction where the trail splits into a series '\n",
      "                'of nested loops.  Starting to the left will take you along a '\n",
      "                'stream and through a forest where shady eastern hemlock often '\n",
      "                'dominates.  The path on the right winds up and around a '\n",
      "                'somewhat terraced hillside through a mixed hardwood forest.  '\n",
      "                \"In the spring and summer, the preserve's quiet, steepsided \"\n",
      "                'glens provide visitors with spectacular birding '\n",
      "                'opportunities.   The streams running through the preserve '\n",
      "                'drain into Cascadilla Creek, and are important for '\n",
      "                'maintaining the water quality in the creek and nearby '\n",
      "                'wetlands.',\n",
      " 'Difficulty': 'moderate',\n",
      " 'Distance': 0.57,\n",
      " 'GPS': [42.43834773, -76.4097576],\n",
      " 'Ithacatrails ID': 1000,\n",
      " 'More Info': ['Part of interconnected trail system: No',\n",
      "               'Trail Surface: Earth',\n",
      "               'Trail Markers: yellow blazes',\n",
      "               'Use of firearms for deer hunting is not allowed. Bow hunting '\n",
      "               'may be allowed. BE SAFE: See the specific trail '\n",
      "               'owner/steward’s website for the most up to date details',\n",
      "               'Open Year Round',\n",
      "               'http://www.fllt.org/preserves/ellis-hollow-nature-preserve/'],\n",
      " 'Name': 'Ellis Hollow Yellow trail',\n",
      " 'Parking Locations': {'parking lot': ['Small Parking lot at trailhead']},\n",
      " 'Reviews': [{'activity': 'Hiking',\n",
      "              'comment': '',\n",
      "              'obstacles': [],\n",
      "              'rating': 5},\n",
      "             {'activity': 'Hiking',\n",
      "              'comment': '',\n",
      "              'obstacles': [],\n",
      "              'rating': 5},\n",
      "             {'activity': 'Hiking',\n",
      "              'comment': 'Good loop trail system with varied terrain and lots '\n",
      "                         'of tree variety.',\n",
      "              'obstacles': [],\n",
      "              'rating': 4},\n",
      "             {'activity': 'Hiking',\n",
      "              'comment': 'nice easy trail. beautiful woods. lightly '\n",
      "                         'trafficked. in autumn, leaves on trails can hide '\n",
      "                         'roots that one can easily trip over.',\n",
      "              'obstacles': [],\n",
      "              'rating': 4},\n",
      "             {'activity': 'Hiking',\n",
      "              'comment': 'I did this hike backward and I found a few spots '\n",
      "                         'difficult to navigate, especially at one point there '\n",
      "                         \"is a road and someone's driveway, it got a little \"\n",
      "                         'confusing. There were a lot of good inclines, but '\n",
      "                         'following this trail, my hike was about a mile '\n",
      "                         'longer than what it says on alltrails.',\n",
      "              'obstacles': ['great'],\n",
      "              'rating': 4},\n",
      "             {'activity': 'Hiking',\n",
      "              'comment': 'Great hike with well marked paths in a wooded area. '\n",
      "                         \"We went in the morning and it wasn't nearly as \"\n",
      "                         'popular as other hikes in the area.  There are a '\n",
      "                         'couple different routes to follow. Going clockwise, '\n",
      "                         'the 1.6 mile loop follows the yellow tail, then blue '\n",
      "                         'trail, then red trail.',\n",
      "              'obstacles': ['great'],\n",
      "              'rating': 5},\n",
      "             {'activity': 'Trail Running',\n",
      "              'comment': '',\n",
      "              'obstacles': [],\n",
      "              'rating': 3},\n",
      "             {'activity': 'Hiking',\n",
      "              'comment': 'Nice hike in the woods. Dogs are welcome- not sure '\n",
      "                         'why it says no dogs on the app. Some steep areas and '\n",
      "                         'lots of roots. Well marked and maintained. A few '\n",
      "                         'cute creeks.',\n",
      "              'obstacles': [],\n",
      "              'rating': 4},\n",
      "             {'activity': 'Hiking',\n",
      "              'comment': 'Definitely a favorite! So many frogs and salamanders '\n",
      "                         'today. We usually go clockwise but I think I like '\n",
      "                         'this way better.',\n",
      "              'obstacles': [],\n",
      "              'rating': 5},\n",
      "             {'activity': 'Hiking',\n",
      "              'comment': 'Great short trail. Lots of ups and downs and little '\n",
      "                         'creek crossings. Kind of a drag when the energy '\n",
      "                         'plant is being noisy, but that is rare.',\n",
      "              'obstacles': [],\n",
      "              'rating': 5},\n",
      "             {'activity': 'Hiking',\n",
      "              'comment': \"A very peaceful, secluded spot. It's not crowded, \"\n",
      "                         'even on weekends. Even though the loop is short, '\n",
      "                         'there are steep slopes that make it somewhat '\n",
      "                         'challenging.',\n",
      "              'obstacles': [],\n",
      "              'rating': 5},\n",
      "             {'activity': 'Hiking',\n",
      "              'comment': '',\n",
      "              'obstacles': ['muddy', 'private-property'],\n",
      "              'rating': 4},\n",
      "             {'activity': 'Hiking',\n",
      "              'comment': 'Nice trail, great for kids if you follow the “Story '\n",
      "                         'book” trail. A book to read and creek to get feet '\n",
      "                         'wet..  my kids love it!',\n",
      "              'obstacles': [],\n",
      "              'rating': 4},\n",
      "             {'activity': 'Hiking',\n",
      "              'comment': 'Great loop trail, however if you follow the red '\n",
      "                         'trail, which is part of this loop, I would rate it '\n",
      "                         'as moderate. Well marked, enjoy the stream '\n",
      "                         'crossings.',\n",
      "              'obstacles': [],\n",
      "              'rating': 4},\n",
      "             {'activity': 'Hiking',\n",
      "              'comment': 'Fun walk in the woods with some minor climbs. Mostly '\n",
      "                         'peaceful, some brooks to cross although most were '\n",
      "                         'dry when we were here (July). Good place for a run. '\n",
      "                         'Nothing mind blowing, but good solitude.',\n",
      "              'obstacles': ['bugs', 'over-grown'],\n",
      "              'rating': 4},\n",
      "             {'activity': 'Hiking',\n",
      "              'comment': 'Friends and I took our kids, including a four and a '\n",
      "                         'six year old, on a warmish day in January. There was '\n",
      "                         'enough mud, stream crossings, and slippery leaf '\n",
      "                         'cover on steepish slopes to make the trail feel kid '\n",
      "                         'unfriendly. It was a little much for them, but I '\n",
      "                         'think that wouldn’t be the case in the drier summer '\n",
      "                         'and fall months when the ground would be easier to '\n",
      "                         'walk upon. I found it a great trail myself, perfect '\n",
      "                         'for taking a decent yet not-too-long walk without '\n",
      "                         'having to backtrack.',\n",
      "              'obstacles': [],\n",
      "              'rating': 4},\n",
      "             {'activity': None,\n",
      "              'comment': 'We stumbled across this site using All Trails and '\n",
      "                         'were glad we did. We were in the area and looking '\n",
      "                         'for a short trail run and hike and this was perfect. '\n",
      "                         'It is a quiet forested area with opportunities for '\n",
      "                         'wildlife and peace. A local poet has posted some of '\n",
      "                         'their works throughout the system which was neat '\n",
      "                         'too. The main loop is about 1.5 miles and there are '\n",
      "                         'two shorter loops so you can easily cover about 3 '\n",
      "                         'miles or so if you do all three. We spotted a large '\n",
      "                         'owl and some neat salamanders/newts on our run. The '\n",
      "                         'trail is well marked and easy for trail running. '\n",
      "                         'There is a little elevation gain as well.  Would '\n",
      "                         'definitely go back if we are ever in the area again.',\n",
      "              'obstacles': [],\n",
      "              'rating': 5},\n",
      "             {'activity': None,\n",
      "              'comment': 'One my most favorite spots to just unwind. Would '\n",
      "                         'recommend this one to anyone',\n",
      "              'obstacles': [],\n",
      "              'rating': 5},\n",
      "             {'activity': 'Hiking',\n",
      "              'comment': 'An excellent trail that is usually not busy.  You '\n",
      "                         'start with a strange walk alongside the power plant, '\n",
      "                         'but quickly dive into the trees and can enjoy the '\n",
      "                         'quiet babbling of the creek running next to the '\n",
      "                         'trail.  There are a couple different sized loops and '\n",
      "                         'they are minimally strenuous, but there are a couple '\n",
      "                         'good, short climbs that can get your heart rate up.  '\n",
      "                         'I would definitely recommend this hike, especially '\n",
      "                         'around sunset.',\n",
      "              'obstacles': [],\n",
      "              'rating': 5},\n",
      "             {'activity': None,\n",
      "              'comment': 'Unlike Eldridge Nature Preserve in which I got lost '\n",
      "                         'last time and which has the similar trail length as '\n",
      "                         'this one.. the trail was well-marked and it was '\n",
      "                         'obvious that a lot of people use this trail.  I '\n",
      "                         \"didn't come across with anyone however, only one \"\n",
      "                         'extra car in the parking area.  That car was gone by '\n",
      "                         \"the time I came out of the forest.  It's a nice \"\n",
      "                         \"quick place to getaway that's not too far from \"\n",
      "                         'Ithaca.',\n",
      "              'obstacles': [],\n",
      "              'rating': 4},\n",
      "             {'activity': 'Hiking',\n",
      "              'comment': '',\n",
      "              'obstacles': [],\n",
      "              'rating': 5},\n",
      "             {'activity': 'Hiking',\n",
      "              'comment': '',\n",
      "              'obstacles': [],\n",
      "              'rating': 5},\n",
      "             {'activity': 'Hiking',\n",
      "              'comment': '',\n",
      "              'obstacles': [],\n",
      "              'rating': 5},\n",
      "             {'activity': 'Hiking',\n",
      "              'comment': '',\n",
      "              'obstacles': [],\n",
      "              'rating': 5},\n",
      "             {'activity': 'Hiking',\n",
      "              'comment': '',\n",
      "              'obstacles': [],\n",
      "              'rating': 5},\n",
      "             {'activity': 'Road Biking',\n",
      "              'comment': '',\n",
      "              'obstacles': [],\n",
      "              'rating': 5},\n",
      "             {'activity': 'Hiking',\n",
      "              'comment': '',\n",
      "              'obstacles': [],\n",
      "              'rating': 5},\n",
      "             {'activity': 'Hiking',\n",
      "              'comment': '',\n",
      "              'obstacles': [],\n",
      "              'rating': 5},\n",
      "             {'activity': 'Hiking',\n",
      "              'comment': '',\n",
      "              'obstacles': [],\n",
      "              'rating': 5},\n",
      "             {'activity': None, 'comment': '', 'obstacles': [], 'rating': 1},\n",
      "             {'activity': 'Hiking',\n",
      "              'comment': '',\n",
      "              'obstacles': [],\n",
      "              'rating': 4},\n",
      "             {'activity': 'Hiking',\n",
      "              'comment': '',\n",
      "              'obstacles': [],\n",
      "              'rating': 4},\n",
      "             {'activity': 'Hiking',\n",
      "              'comment': '',\n",
      "              'obstacles': [],\n",
      "              'rating': 5},\n",
      "             {'activity': 'Hiking',\n",
      "              'comment': '',\n",
      "              'obstacles': [],\n",
      "              'rating': 5},\n",
      "             {'activity': 'Hiking',\n",
      "              'comment': '',\n",
      "              'obstacles': [],\n",
      "              'rating': 3},\n",
      "             {'activity': 'Hiking',\n",
      "              'comment': '',\n",
      "              'obstacles': [],\n",
      "              'rating': 4},\n",
      "             {'activity': 'Hiking',\n",
      "              'comment': '',\n",
      "              'obstacles': [],\n",
      "              'rating': 3},\n",
      "             {'activity': 'Hiking',\n",
      "              'comment': '',\n",
      "              'obstacles': [],\n",
      "              'rating': 4},\n",
      "             {'activity': 'Hiking',\n",
      "              'comment': '',\n",
      "              'obstacles': [],\n",
      "              'rating': 4},\n",
      "             {'activity': 'Hiking',\n",
      "              'comment': '',\n",
      "              'obstacles': [],\n",
      "              'rating': 4},\n",
      "             {'activity': 'Walking',\n",
      "              'comment': '',\n",
      "              'obstacles': [],\n",
      "              'rating': 4},\n",
      "             {'activity': 'Hiking',\n",
      "              'comment': '',\n",
      "              'obstacles': [],\n",
      "              'rating': 5},\n",
      "             {'activity': 'Hiking',\n",
      "              'comment': '',\n",
      "              'obstacles': [],\n",
      "              'rating': 4},\n",
      "             {'activity': None, 'comment': '', 'obstacles': [], 'rating': 3},\n",
      "             {'activity': 'Hiking',\n",
      "              'comment': '',\n",
      "              'obstacles': [],\n",
      "              'rating': 3}],\n",
      " 'Trail Attributes': ['Good for Hiking',\n",
      "                      'Good for Running',\n",
      "                      'Good for Cross-Country Skiiing',\n",
      "                      'Good for Snowshoeing']}\n"
     ]
    }
   ],
   "source": [
    "with open('ithacatrails.json') as f:\n",
    "    data = json.load(f)\n",
    "    \n",
    "# Example data\n",
    "pprint.pprint(data['Ellis Hollow Yellow trail'])"
   ]
  },
  {
   "cell_type": "markdown",
   "metadata": {},
   "source": [
    "# Distribution of Static Attributes"
   ]
  },
  {
   "cell_type": "code",
   "execution_count": 6,
   "metadata": {},
   "outputs": [
    {
     "name": "stdout",
     "output_type": "stream",
     "text": [
      "Number of trails: 102\n"
     ]
    }
   ],
   "source": [
    "print(f\"Number of trails: {len(data.keys())}\")"
   ]
  },
  {
   "cell_type": "code",
   "execution_count": 7,
   "metadata": {},
   "outputs": [
    {
     "name": "stdout",
     "output_type": "stream",
     "text": [
      "Total number of reviews: 15172\n"
     ]
    }
   ],
   "source": [
    "num_total_reviews = np.sum(np.array([len(d['Reviews']) for d in data.values()]))\n",
    "print(f\"Total number of reviews: {num_total_reviews}\")"
   ]
  },
  {
   "cell_type": "code",
   "execution_count": 8,
   "metadata": {},
   "outputs": [
    {
     "name": "stdout",
     "output_type": "stream",
     "text": [
      "Total number of reviews with comments: 4065\n",
      "Total number of reviews without comments: 11107\n"
     ]
    }
   ],
   "source": [
    "total_reviews_with_comments = []\n",
    "for d in data.values():\n",
    "    reviews = d['Reviews']\n",
    "    total_reviews_with_comments += [r for r in reviews if r['comment'] != \"\"]\n",
    "\n",
    "num_reviews_with_comments = len(total_reviews_with_comments)\n",
    "print(f\"Total number of reviews with comments: {num_reviews_with_comments}\")\n",
    "print(f\"Total number of reviews without comments: {num_total_reviews - num_reviews_with_comments}\")"
   ]
  },
  {
   "cell_type": "markdown",
   "metadata": {},
   "source": [
    "## Distribution of Trail Ratings"
   ]
  },
  {
   "cell_type": "code",
   "execution_count": 9,
   "metadata": {},
   "outputs": [
    {
     "data": {
      "text/plain": [
       "(array([ 102.,  510., 2040., 5916., 9894.]),\n",
       " array([1. , 1.8, 2.6, 3.4, 4.2, 5. ]),\n",
       " <a list of 5 Patch objects>)"
      ]
     },
     "execution_count": 9,
     "metadata": {},
     "output_type": "execute_result"
    },
    {
     "data": {
      "image/png": "[encoded data removed]",
      "text/plain": [
       "<Figure size 432x288 with 1 Axes>"
      ]
     },
     "metadata": {
      "needs_background": "light"
     },
     "output_type": "display_data"
    }
   ],
   "source": [
    "trail_ratings = [review['rating'] for review in d['Reviews'] for d in data.values() if review['rating'] is not None]\n",
    "\n",
    "plt.hist(trail_ratings, 5)"
   ]
  },
  {
   "cell_type": "markdown",
   "metadata": {},
   "source": [
    "## Distribution of Trail Lengths"
   ]
  },
  {
   "cell_type": "code",
   "execution_count": 10,
   "metadata": {},
   "outputs": [
    {
     "data": {
      "text/plain": [
       "(array([49., 33., 13.,  6.,  0.,  0.,  0.,  0.,  0.,  1.]),\n",
       " array([0.01 , 0.509, 1.008, 1.507, 2.006, 2.505, 3.004, 3.503, 4.002,\n",
       "        4.501, 5.   ]),\n",
       " <a list of 10 Patch objects>)"
      ]
     },
     "execution_count": 10,
     "metadata": {},
     "output_type": "execute_result"
    },
    {
     "data": {
      "image/png": "[encoded data removed]",
      "text/plain": [
       "<Figure size 432x288 with 1 Axes>"
      ]
     },
     "metadata": {
      "needs_background": "light"
     },
     "output_type": "display_data"
    }
   ],
   "source": [
    "trail_lengths = [d['Distance'] for d in data.values()]\n",
    "\n",
    "plt.hist(trail_lengths)"
   ]
  },
  {
   "cell_type": "markdown",
   "metadata": {},
   "source": [
    "## Distribution of Trail Difficulties\n",
    "This is based solely on the Ithaca Trails description, and not on user reviews yet."
   ]
  },
  {
   "cell_type": "code",
   "execution_count": 11,
   "metadata": {},
   "outputs": [
    {
     "data": {
      "text/plain": [
       "(array([73.,  0., 22.,  0.,  0.,  2.,  0.,  4.,  0.,  1.]),\n",
       " array([0. , 0.4, 0.8, 1.2, 1.6, 2. , 2.4, 2.8, 3.2, 3.6, 4. ]),\n",
       " <a list of 10 Patch objects>)"
      ]
     },
     "execution_count": 11,
     "metadata": {},
     "output_type": "execute_result"
    },
    {
     "data": {
      "image/png": "[encoded data removed]",
      "text/plain": [
       "<Figure size 432x288 with 1 Axes>"
      ]
     },
     "metadata": {
      "needs_background": "light"
     },
     "output_type": "display_data"
    }
   ],
   "source": [
    "trail_difficulties = [d['Difficulty'] for d in data.values()]\n",
    "\n",
    "plt.hist(trail_difficulties)"
   ]
  },
  {
   "cell_type": "markdown",
   "metadata": {},
   "source": [
    "## Frequency of terms used in trail reviews\n",
    "Solely based on Alltrails review comments"
   ]
  },
  {
   "cell_type": "code",
   "execution_count": 25,
   "metadata": {},
   "outputs": [
    {
     "name": "stdout",
     "output_type": "stream",
     "text": [
      "The top 10 most frequent words used in reviews: \n",
      "[('field', 735.8701126210949), ('red', 558.7805444430882), ('upper', 539.4039255857514), ('ear', 530.9624377415872), ('how', 523.8700445514148), ('south', 476.4499429036956), ('workout', 470.4400156879261), ('orange', 459.8564128579055), ('outh', 451.97331508113786), ('dip', 442.7244206299176)]\n",
      "\n",
      "\n",
      "The top 10 least frequent words used in reviews: \n",
      "[('network', 41.35940001153848), ('thoughts', 41.35940001153848), ('mind', 40.08638012957245), ('heads', 40.08638012957245), ('h', 40.08638012957245), ('icy', 37.6624366363641), ('route', 34.572447372287826), ('trees', 34.32119377152188), ('find', 32.89880828710061), ('lovely', 32.65085722684627)]\n"
     ]
    }
   ],
   "source": [
    "# get all tokens\n",
    "def get_tokens():\n",
    "    tokens = set()\n",
    "    for trail in data:\n",
    "        for review in data[trail]['Reviews']:\n",
    "            tokens.update(set(re.findall('[a-z]+', review['comment'])))\n",
    "    tokens = list(tokens)\n",
    "    return tokens\n",
    "tokens = get_tokens()\n",
    "\n",
    "def get_tokens_to_idx(tokens):\n",
    "    tokens_to_index = {}\n",
    "    for i in range(len(tokens)):\n",
    "        tokens_to_index[tokens[i]] = i\n",
    "    return tokens_to_index\n",
    "\n",
    "tokens_to_index = get_tokens_to_idx(tokens)\n",
    "\n",
    "def build_inverted_index():\n",
    "    inv_idx = {}\n",
    "    for i, trail in enumerate(data):\n",
    "        words = []\n",
    "        for review in data[trail]['Reviews']:\n",
    "            words.extend(re.findall('[a-z]+', review['comment']))\n",
    "        tfs = Counter(words)\n",
    "        for word in words:\n",
    "            val = inv_idx.get(word, [])\n",
    "            val.append((i, tfs[word]))\n",
    "            inv_idx[word] = val\n",
    "    return inv_idx\n",
    "\n",
    "inv_idx = build_inverted_index()\n",
    "\n",
    "def get_idfs(min_df=15, max_df_ratio=0.9):      \n",
    "    idfs = {}\n",
    "    for term in inv_idx:\n",
    "        n_docs_t = len(inv_idx[term])\n",
    "        if n_docs_t >= min_df and (n_docs_t/len(data)) <= max_df_ratio:\n",
    "            idfs[term] = math.log((len(data)/(1 + n_docs_t)), 2)\n",
    "    return idfs\n",
    "\n",
    "idfs = get_idfs()\n",
    "\n",
    "def get_tf_idf_scores():\n",
    "    tf_idf = {}\n",
    "    for tok in inv_idx:\n",
    "        if tok in idfs:\n",
    "            for post in inv_idx[tok]:\n",
    "                val = tf_idf.get(tok, 0)\n",
    "                val += post[1] * idfs[tok]\n",
    "                tf_idf[tok] = val\n",
    "    tf_idfs = [(k,v) for k, v in tf_idf.items()]\n",
    "    tf_idfs.sort(reverse=True, key = lambda x: x[1])\n",
    "    return tf_idfs\n",
    "#     return tf_idf\n",
    "\n",
    "tf_idfs = get_tf_idf_scores()\n",
    "\n",
    "def build_tf_mat():\n",
    "    tf_mat = np.zeros((len(data), len(tokens)))\n",
    "    for i, trail in enumerate(data):\n",
    "        words = []\n",
    "        for review in data[trail]['Reviews']:\n",
    "            words.extend(re.findall('[a-z]+', review['comment']))\n",
    "        for word in words:\n",
    "            tf_mat[i,tokens_to_index[word]] += 1\n",
    "    return tf_mat \n",
    "print(f\"The top 10 most frequent words used in reviews: \\n{tf_idfs[:10]}\\n\\n\")\n",
    "print(f\"The top 10 least frequent words used in reviews: \\n{tf_idfs[-10:]}\")"
   ]
  },
  {
   "cell_type": "code",
   "execution_count": null,
   "metadata": {},
   "outputs": [],
   "source": []
  }
 ],
 "metadata": {
  "kernelspec": {
   "display_name": "cs4300-env",
   "language": "python",
   "name": "cs4300-env"
  },
  "language_info": {
   "codemirror_mode": {
    "name": "ipython",
    "version": 3
   },
   "file_extension": ".py",
   "mimetype": "text/x-python",
   "name": "python",
   "nbconvert_exporter": "python",
   "pygments_lexer": "ipython3",
   "version": "3.7.6"
  }
 },
 "nbformat": 4,
 "nbformat_minor": 2
}
